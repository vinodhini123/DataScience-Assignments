{
 "cells": [
  {
   "cell_type": "markdown",
   "metadata": {},
   "source": [
    "# Case Study :Uber Supply-Demand Gap Analysis "
   ]
  },
  {
   "cell_type": "markdown",
   "metadata": {},
   "source": [
    "The aim of analysis is to identify the root cause of the problem (i.e. cancellation and non-availability of cars) and recommend ways to improve the situation."
   ]
  },
  {
   "cell_type": "markdown",
   "metadata": {},
   "source": [
    "# 1. Read Request data and Data Inspection"
   ]
  },
  {
   "cell_type": "code",
   "execution_count": 62,
   "metadata": {},
   "outputs": [
    {
     "data": {
      "text/html": [
       "<div>\n",
       "<style scoped>\n",
       "    .dataframe tbody tr th:only-of-type {\n",
       "        vertical-align: middle;\n",
       "    }\n",
       "\n",
       "    .dataframe tbody tr th {\n",
       "        vertical-align: top;\n",
       "    }\n",
       "\n",
       "    .dataframe thead th {\n",
       "        text-align: right;\n",
       "    }\n",
       "</style>\n",
       "<table border=\"1\" class=\"dataframe\">\n",
       "  <thead>\n",
       "    <tr style=\"text-align: right;\">\n",
       "      <th></th>\n",
       "      <th>Request id</th>\n",
       "      <th>Pickup point</th>\n",
       "      <th>Driver id</th>\n",
       "      <th>Status</th>\n",
       "      <th>Request timestamp</th>\n",
       "      <th>Drop timestamp</th>\n",
       "    </tr>\n",
       "  </thead>\n",
       "  <tbody>\n",
       "    <tr>\n",
       "      <th>0</th>\n",
       "      <td>619</td>\n",
       "      <td>Airport</td>\n",
       "      <td>1.00</td>\n",
       "      <td>Trip Completed</td>\n",
       "      <td>11/7/2016 11:51</td>\n",
       "      <td>11/7/2016 13:00</td>\n",
       "    </tr>\n",
       "    <tr>\n",
       "      <th>1</th>\n",
       "      <td>867</td>\n",
       "      <td>Airport</td>\n",
       "      <td>1.00</td>\n",
       "      <td>Trip Completed</td>\n",
       "      <td>11/7/2016 17:57</td>\n",
       "      <td>11/7/2016 18:47</td>\n",
       "    </tr>\n",
       "    <tr>\n",
       "      <th>2</th>\n",
       "      <td>1807</td>\n",
       "      <td>City</td>\n",
       "      <td>1.00</td>\n",
       "      <td>Trip Completed</td>\n",
       "      <td>12/7/2016 9:17</td>\n",
       "      <td>12/7/2016 9:58</td>\n",
       "    </tr>\n",
       "    <tr>\n",
       "      <th>3</th>\n",
       "      <td>2532</td>\n",
       "      <td>Airport</td>\n",
       "      <td>1.00</td>\n",
       "      <td>Trip Completed</td>\n",
       "      <td>12/7/2016 21:08</td>\n",
       "      <td>12/7/2016 22:03</td>\n",
       "    </tr>\n",
       "    <tr>\n",
       "      <th>4</th>\n",
       "      <td>3112</td>\n",
       "      <td>City</td>\n",
       "      <td>1.00</td>\n",
       "      <td>Trip Completed</td>\n",
       "      <td>13-07-2016 08:33:16</td>\n",
       "      <td>13-07-2016 09:25:47</td>\n",
       "    </tr>\n",
       "  </tbody>\n",
       "</table>\n",
       "</div>"
      ],
      "text/plain": [
       "   Request id Pickup point  Driver id          Status    Request timestamp  \\\n",
       "0         619      Airport       1.00  Trip Completed      11/7/2016 11:51   \n",
       "1         867      Airport       1.00  Trip Completed      11/7/2016 17:57   \n",
       "2        1807         City       1.00  Trip Completed       12/7/2016 9:17   \n",
       "3        2532      Airport       1.00  Trip Completed      12/7/2016 21:08   \n",
       "4        3112         City       1.00  Trip Completed  13-07-2016 08:33:16   \n",
       "\n",
       "        Drop timestamp  \n",
       "0      11/7/2016 13:00  \n",
       "1      11/7/2016 18:47  \n",
       "2       12/7/2016 9:58  \n",
       "3      12/7/2016 22:03  \n",
       "4  13-07-2016 09:25:47  "
      ]
     },
     "execution_count": 62,
     "metadata": {},
     "output_type": "execute_result"
    }
   ],
   "source": [
    "# Supress Warnings\n",
    "\n",
    "import warnings\n",
    "warnings.filterwarnings('ignore')\n",
    "\n",
    "import numpy as np\n",
    "import pandas as pd\n",
    "pd.options.display.float_format = '{:.2f}'.format\n",
    "\n",
    "import matplotlib.pyplot as plt\n",
    "from matplotlib.ticker import StrMethodFormatter\n",
    "\n",
    "# Read data \n",
    "uberrequest= pd.read_csv(r'D:\\UG\\EDA\\UberAssignment\\Uber Request Data.csv')\n",
    "uberrequest.head(5)"
   ]
  },
  {
   "cell_type": "code",
   "execution_count": 63,
   "metadata": {},
   "outputs": [
    {
     "data": {
      "text/plain": [
       "(6745, 6)"
      ]
     },
     "execution_count": 63,
     "metadata": {},
     "output_type": "execute_result"
    }
   ],
   "source": [
    "# Get stats of the data to understand the spread.\n",
    "uberrequest.shape\n",
    "# 6745 requests available. "
   ]
  },
  {
   "cell_type": "code",
   "execution_count": 64,
   "metadata": {},
   "outputs": [
    {
     "data": {
      "text/plain": [
       "(6745, 6)"
      ]
     },
     "execution_count": 64,
     "metadata": {},
     "output_type": "execute_result"
    }
   ],
   "source": [
    "# check for duplicates\n",
    "uberrequest.drop_duplicates(inplace=True, keep='first')\n",
    "\n",
    "#Validate for the count again\n",
    "uberrequest.shape\n",
    "#NO duplicates found."
   ]
  },
  {
   "cell_type": "code",
   "execution_count": 65,
   "metadata": {},
   "outputs": [
    {
     "data": {
      "text/plain": [
       "array(['Cancelled', 'No Cars Available'], dtype=object)"
      ]
     },
     "execution_count": 65,
     "metadata": {},
     "output_type": "execute_result"
    }
   ],
   "source": [
    "# Check for Null values \n",
    "uberrequest.isnull().sum()\n",
    "# Driver ID & Drop Timestamp have null/Na values.\n",
    "\n",
    "# Check if they are valid NA values.\n",
    "navalues=uberrequest.loc[(pd.isna(uberrequest['Driver id'])) | (pd.isna(uberrequest['Drop timestamp']))]\n",
    "navalues['Status'].unique()\n",
    "\n",
    "# Valid NA values for status when Cancelled / No Cars available."
   ]
  },
  {
   "cell_type": "markdown",
   "metadata": {},
   "source": [
    "# 2. Data formatting "
   ]
  },
  {
   "cell_type": "code",
   "execution_count": 66,
   "metadata": {},
   "outputs": [
    {
     "data": {
      "text/plain": [
       "array([11, 17,  9, 21,  8,  6,  5, 12,  4, 14, 22, 10, 18, 15,  2, 13, 16,\n",
       "       19,  7, 20,  0,  3, 23,  1], dtype=int64)"
      ]
     },
     "execution_count": 66,
     "metadata": {},
     "output_type": "execute_result"
    }
   ],
   "source": [
    "# Date/Time stamp  Format modification to aid analysis.\n",
    "uberrequest['Request DateTime']=pd.to_datetime(uberrequest['Request timestamp'])\n",
    "uberrequest['Drop DateTime']=pd.to_datetime(uberrequest['Drop timestamp'])\n",
    "\n",
    "# get the year, day, time \n",
    "uberrequest['Request Year']=pd.DatetimeIndex(uberrequest['Request DateTime']).year\n",
    "### All data for year 2016 \n",
    "\n",
    "uberrequest['Request Month']=pd.DatetimeIndex(uberrequest['Request DateTime']).month\n",
    "uberrequest['Request Month'].unique()\n",
    "### data from months Nov, Dec & July.\n",
    "\n",
    "uberrequest['Request Hour']=pd.DatetimeIndex(uberrequest['Request DateTime']).hour\n",
    "uberrequest['Request Hour'].unique()"
   ]
  },
  {
   "cell_type": "code",
   "execution_count": 67,
   "metadata": {},
   "outputs": [],
   "source": [
    "# Segment the data for analysis.\n",
    "\n",
    "GroupbyPickUp = uberrequest.groupby('Pickup point')\n",
    "GroupbyStatus= uberrequest.groupby('Status')"
   ]
  },
  {
   "cell_type": "markdown",
   "metadata": {},
   "source": [
    "# 3. Data Analysis"
   ]
  },
  {
   "cell_type": "code",
   "execution_count": 68,
   "metadata": {},
   "outputs": [
    {
     "data": {
      "text/plain": [
       "Status\n",
       "Cancelled           18.74\n",
       "No Cars Available   39.29\n",
       "Trip Completed      41.97\n",
       "Name: Status, dtype: float64"
      ]
     },
     "execution_count": 68,
     "metadata": {},
     "output_type": "execute_result"
    }
   ],
   "source": [
    "# Finding the % of Status against the total request.\n",
    "\n",
    "(GroupbyStatus['Status'].count())/len(uberrequest['Status'])*100\n",
    "\n",
    "### No Cars available stands at 39.29 % & Cancelled at 18.74% "
   ]
  },
  {
   "cell_type": "code",
   "execution_count": 69,
   "metadata": {},
   "outputs": [
    {
     "data": {
      "text/plain": [
       "<matplotlib.axes._subplots.AxesSubplot at 0xdc24582be0>"
      ]
     },
     "execution_count": 69,
     "metadata": {},
     "output_type": "execute_result"
    },
    {
     "data": {
      "image/png": "[encoded data removed]",
      "text/plain": [
       "<Figure size 432x288 with 1 Axes>"
      ]
     },
     "metadata": {},
     "output_type": "display_data"
    }
   ],
   "source": [
    "# Demand-supply Gap at PickUp point.\n",
    "\n",
    "((GroupbyPickUp['Pickup point'].count())/len(uberrequest['Pickup point'])*100).plot(kind='barh')\n",
    "\n",
    "###Demand is high at City rather than airport."
   ]
  },
  {
   "cell_type": "code",
   "execution_count": 58,
   "metadata": {},
   "outputs": [
    {
     "data": {
      "text/plain": [
       "<matplotlib.axes._subplots.AxesSubplot at 0xdc21f214a8>"
      ]
     },
     "execution_count": 58,
     "metadata": {},
     "output_type": "execute_result"
    },
    {
     "data": {
      "image/png": "[encoded data removed]",
      "text/plain": [
       "<Figure size 432x288 with 1 Axes>"
      ]
     },
     "metadata": {},
     "output_type": "display_data"
    }
   ],
   "source": [
    "# Volume of requests /status \n",
    "\n",
    "GroupbyPickup_Status=uberrequest.groupby(['Pickup point', 'Status'])\n",
    "((GroupbyPickup_Status['Pickup point'].count())/len(uberrequest['Status'])*100).plot(kind ='barh')\n",
    "\n",
    "### Bar graph provides a clear view of the type of requests which need focus on . \n",
    "\n",
    "### Demand in City is higher than from Airport. \n",
    "### No Cars available is higher from Airport which 25% of the total requests.\n",
    "### Requests getting cancelled are higher from City at 15.8 % of the total requests.\n",
    "### No Cars available from City is at 13.89% of tht total requests."
   ]
  },
  {
   "cell_type": "code",
   "execution_count": 70,
   "metadata": {},
   "outputs": [
    {
     "data": {
      "image/png": "[encoded data removed]",
      "text/plain": [
       "<Figure size 432x288 with 1 Axes>"
      ]
     },
     "metadata": {},
     "output_type": "display_data"
    }
   ],
   "source": [
    "# Request Volume  against time \n",
    "plt.hist(uberrequest['Request Hour'])\n",
    "plt.show()\n",
    "\n",
    "### Histogram helps in providing the continous view of data by bucking time suitably. \n",
    "### High requests seen from 6-9 AM and 5-10 PM "
   ]
  },
  {
   "cell_type": "markdown",
   "metadata": {},
   "source": [
    "# 3.1. Data Analysis - Airport Pickup"
   ]
  },
  {
   "cell_type": "code",
   "execution_count": 12,
   "metadata": {},
   "outputs": [],
   "source": [
    "# Airport Requests Analysis\n",
    "\n",
    "Airport=uberrequest.loc[(uberrequest['Pickup point'] =='Airport')]\n",
    "Airport_Completed=uberrequest.loc[(uberrequest['Pickup point'] =='Airport') & (uberrequest['Status']=='Trip Completed')]"
   ]
  },
  {
   "cell_type": "code",
   "execution_count": 71,
   "metadata": {},
   "outputs": [
    {
     "data": {
      "text/plain": [
       "(100, 800)"
      ]
     },
     "execution_count": 71,
     "metadata": {},
     "output_type": "execute_result"
    },
    {
     "data": {
      "image/png": "[encoded data removed]",
      "text/plain": [
       "<Figure size 432x288 with 2 Axes>"
      ]
     },
     "metadata": {},
     "output_type": "display_data"
    }
   ],
   "source": [
    "# Airport Pickup Analysis - Demand Vs Supply.\n",
    "\n",
    "plt.figure(1)\n",
    "\n",
    "# subplot 1\n",
    "plt.subplot(2, 2, 1)\n",
    "plt.title(\"Airport Demand\")\n",
    "plt.xlabel(\"Hours\")\n",
    "plt.hist(Airport['Request Hour'])\n",
    "plt.ylim([100,800])\n",
    "\n",
    "# subplot 2\n",
    "plt.subplot(2, 2, 2)\n",
    "plt.title(\"Airport Supply\")\n",
    "plt.xlabel(\"Hours\")\n",
    "plt.hist(Airport_Completed['Request Hour'])\n",
    "plt.ylim([100,800])\n",
    "\n",
    "### Histogram is chosen as the prefered report to show data segmented into buckets and continous.\n",
    "### Huge gap seen during evening hours from 6 pm onwards. \n",
    "### Requests are high during evening hours compared to morning hours.\n"
   ]
  },
  {
   "cell_type": "markdown",
   "metadata": {},
   "source": [
    "# 3.2 Data Analysis - City Pickup "
   ]
  },
  {
   "cell_type": "code",
   "execution_count": null,
   "metadata": {},
   "outputs": [],
   "source": [
    "# City Requests \n",
    "City=uberrequest.loc[(uberrequest['Pickup point'] =='City') ]\n",
    "City_completed=uberrequest.loc[(uberrequest['Pickup point'] =='City') & (uberrequest['Status']=='Trip Completed')]"
   ]
  },
  {
   "cell_type": "code",
   "execution_count": 72,
   "metadata": {},
   "outputs": [
    {
     "data": {
      "text/plain": [
       "(100, 800)"
      ]
     },
     "execution_count": 72,
     "metadata": {},
     "output_type": "execute_result"
    },
    {
     "data": {
      "image/png": "[encoded data removed]",
      "text/plain": [
       "<Figure size 432x288 with 2 Axes>"
      ]
     },
     "metadata": {},
     "output_type": "display_data"
    }
   ],
   "source": [
    "# City  Pickup Analysis - Demand Vs Supply.\n",
    "\n",
    "plt.figure(2)\n",
    "\n",
    "# subplot 1\n",
    "plt.subplot(1, 2, 1)\n",
    "plt.title(\"City Demand\")\n",
    "plt.xlabel(\"Hours\")\n",
    "plt.hist(City['Request Hour'])\n",
    "plt.ylim([100,800])\n",
    "\n",
    "# subplot 2\n",
    "plt.subplot(1, 2, 2)\n",
    "plt.title(\"City Supply\")\n",
    "plt.xlabel(\"Hours\")\n",
    "plt.hist(City_completed['Request Hour'])\n",
    "plt.ylim([100,800])\n",
    "\n",
    "### Huge gap seen in the morning hours - 6-9 AM .\n",
    "### Requests are high during morning hours compared to evening hours. \n"
   ]
  },
  {
   "cell_type": "markdown",
   "metadata": {},
   "source": [
    "# 2.4 Data Analysis - Driver Performance "
   ]
  },
  {
   "cell_type": "code",
   "execution_count": 74,
   "metadata": {},
   "outputs": [
    {
     "data": {
      "text/plain": [
       "Driver id\n",
       "9.00      10\n",
       "225.00    10\n",
       "134.00     9\n",
       "80.00      9\n",
       "139.00     8\n",
       "160.00     8\n",
       "51.00      8\n",
       "65.00      8\n",
       "69.00      8\n",
       "36.00      8\n",
       "195.00     8\n",
       "30.00      8\n",
       "194.00     8\n",
       "27.00      8\n",
       "223.00     8\n",
       "85.00      8\n",
       "126.00     7\n",
       "49.00      7\n",
       "128.00     7\n",
       "125.00     7\n",
       "79.00      7\n",
       "227.00     7\n",
       "67.00      7\n",
       "109.00     7\n",
       "212.00     7\n",
       "98.00      7\n",
       "207.00     7\n",
       "137.00     7\n",
       "237.00     7\n",
       "105.00     7\n",
       "          ..\n",
       "232.00     2\n",
       "238.00     2\n",
       "216.00     2\n",
       "91.00      2\n",
       "210.00     2\n",
       "133.00     2\n",
       "250.00     2\n",
       "140.00     2\n",
       "62.00      2\n",
       "240.00     2\n",
       "150.00     2\n",
       "299.00     2\n",
       "40.00      2\n",
       "147.00     2\n",
       "43.00      2\n",
       "53.00      2\n",
       "56.00      1\n",
       "42.00      1\n",
       "108.00     1\n",
       "187.00     1\n",
       "217.00     1\n",
       "149.00     1\n",
       "245.00     1\n",
       "131.00     1\n",
       "271.00     1\n",
       "166.00     1\n",
       "265.00     1\n",
       "280.00     1\n",
       "206.00     1\n",
       "154.00     1\n",
       "Name: Status, Length: 297, dtype: int64"
      ]
     },
     "execution_count": 74,
     "metadata": {},
     "output_type": "execute_result"
    }
   ],
   "source": [
    "# the number of trips completed by each drivers from  Airport.\n",
    "\n",
    "groupbydriver=Airport_Completed.groupby('Driver id')\n",
    "groupbydriver['Status'].count().sort_values(ascending=False)\n",
    "\n",
    "### only 2 drivers make 10 trips during the period from Airport to City. \n"
   ]
  },
  {
   "cell_type": "code",
   "execution_count": 54,
   "metadata": {},
   "outputs": [
    {
     "data": {
      "text/plain": [
       "Driver id\n",
       "184.00    10\n",
       "23.00     10\n",
       "25.00     10\n",
       "197.00    10\n",
       "22.00     10\n",
       "274.00    10\n",
       "107.00    10\n",
       "204.00     9\n",
       "185.00     9\n",
       "70.00      9\n",
       "119.00     9\n",
       "254.00     8\n",
       "233.00     8\n",
       "182.00     8\n",
       "176.00     8\n",
       "114.00     8\n",
       "43.00      8\n",
       "261.00     8\n",
       "251.00     8\n",
       "118.00     8\n",
       "35.00      8\n",
       "289.00     8\n",
       "215.00     8\n",
       "284.00     8\n",
       "188.00     8\n",
       "78.00      8\n",
       "86.00      8\n",
       "73.00      8\n",
       "221.00     8\n",
       "20.00      7\n",
       "          ..\n",
       "123.00     3\n",
       "65.00      3\n",
       "66.00      3\n",
       "72.00      3\n",
       "90.00      3\n",
       "277.00     3\n",
       "129.00     3\n",
       "169.00     2\n",
       "189.00     2\n",
       "275.00     2\n",
       "143.00     2\n",
       "295.00     2\n",
       "135.00     2\n",
       "241.00     2\n",
       "93.00      2\n",
       "227.00     2\n",
       "103.00     2\n",
       "41.00      2\n",
       "104.00     2\n",
       "138.00     2\n",
       "117.00     2\n",
       "21.00      2\n",
       "122.00     2\n",
       "31.00      2\n",
       "165.00     1\n",
       "260.00     1\n",
       "192.00     1\n",
       "153.00     1\n",
       "136.00     1\n",
       "300.00     1\n",
       "Name: Status, Length: 299, dtype: int64"
      ]
     },
     "execution_count": 54,
     "metadata": {},
     "output_type": "execute_result"
    }
   ],
   "source": [
    "\n",
    "# the number of trips completed by each drivers from City.\n",
    "\n",
    "groupbydriver_city=City_completed.groupby('Driver id')\n",
    "groupbydriver_city['Status'].count().sort_values(ascending=False)\n",
    "\n",
    "#### atleast 7 drivers complete 10 trips from City to Airport. \n",
    "#### Indicates other drivers are busy with other travel requests most of the time. "
   ]
  }
 ],
 "metadata": {
  "kernelspec": {
   "display_name": "Python 3",
   "language": "python",
   "name": "python3"
  },
  "language_info": {
   "codemirror_mode": {
    "name": "ipython",
    "version": 3
   },
   "file_extension": ".py",
   "mimetype": "text/x-python",
   "name": "python",
   "nbconvert_exporter": "python",
   "pygments_lexer": "ipython3",
   "version": "3.6.5"
  }
 },
 "nbformat": 4,
 "nbformat_minor": 2
}
