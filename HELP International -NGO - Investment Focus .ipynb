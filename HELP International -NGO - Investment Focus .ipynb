{
 "cells": [
  {
   "cell_type": "markdown",
   "metadata": {},
   "source": [
    "### HELP International -NGO - Investment Focus "
   ]
  },
  {
   "cell_type": "markdown",
   "metadata": {},
   "source": [
    "HELP International is an international humanitarian NGO that is committed to fighting poverty and providing the people of backward countries with basic amenities and relief during the time of disasters and natural calamities. It runs a lot of operational projects from time to time along with advocacy drives to raise awareness as well as for funding purposes.\n",
    "\n",
    "<B>Objetitve</B>:\n",
    "1. Categorise the countries using some socio-economic and health factors that determine the overall development of the country.\n",
    "2. Suggest the countries which the CEO needs to focus on the most.  \n"
   ]
  },
  {
   "cell_type": "code",
   "execution_count": 8,
   "metadata": {},
   "outputs": [],
   "source": [
    "#Importing Libraries\n",
    "import pandas as pd\n",
    "import numpy as np\n",
    "\n",
    "import warnings\n",
    "warnings.filterwarnings('ignore')\n",
    "\n",
    "# For Visualisation\n",
    "import matplotlib.pyplot as plt\n",
    "import seaborn as sns\n",
    "%matplotlib inline\n",
    "\n",
    "# To Scale the data\n",
    "from sklearn.preprocessing import scale\n",
    "\n",
    "# To perform KMeans clustering \n",
    "from sklearn.cluster import KMeans\n",
    "\n",
    "# To perform Hierarchical clustering\n",
    "from scipy.cluster.hierarchy import linkage\n",
    "from scipy.cluster.hierarchy import dendrogram\n",
    "from scipy.cluster.hierarchy import cut_tree"
   ]
  },
  {
   "cell_type": "markdown",
   "metadata": {},
   "source": [
    "### Data Reading"
   ]
  },
  {
   "cell_type": "code",
   "execution_count": 2,
   "metadata": {},
   "outputs": [
    {
     "data": {
      "text/html": [
       "<div>\n",
       "<style scoped>\n",
       "    .dataframe tbody tr th:only-of-type {\n",
       "        vertical-align: middle;\n",
       "    }\n",
       "\n",
       "    .dataframe tbody tr th {\n",
       "        vertical-align: top;\n",
       "    }\n",
       "\n",
       "    .dataframe thead th {\n",
       "        text-align: right;\n",
       "    }\n",
       "</style>\n",
       "<table border=\"1\" class=\"dataframe\">\n",
       "  <thead>\n",
       "    <tr style=\"text-align: right;\">\n",
       "      <th></th>\n",
       "      <th>country</th>\n",
       "      <th>child_mort</th>\n",
       "      <th>exports</th>\n",
       "      <th>health</th>\n",
       "      <th>imports</th>\n",
       "      <th>income</th>\n",
       "      <th>inflation</th>\n",
       "      <th>life_expec</th>\n",
       "      <th>total_fer</th>\n",
       "      <th>gdpp</th>\n",
       "    </tr>\n",
       "  </thead>\n",
       "  <tbody>\n",
       "    <tr>\n",
       "      <th>0</th>\n",
       "      <td>Afghanistan</td>\n",
       "      <td>90.2</td>\n",
       "      <td>10.0</td>\n",
       "      <td>7.58</td>\n",
       "      <td>44.9</td>\n",
       "      <td>1610</td>\n",
       "      <td>9.44</td>\n",
       "      <td>56.2</td>\n",
       "      <td>5.82</td>\n",
       "      <td>553</td>\n",
       "    </tr>\n",
       "    <tr>\n",
       "      <th>1</th>\n",
       "      <td>Albania</td>\n",
       "      <td>16.6</td>\n",
       "      <td>28.0</td>\n",
       "      <td>6.55</td>\n",
       "      <td>48.6</td>\n",
       "      <td>9930</td>\n",
       "      <td>4.49</td>\n",
       "      <td>76.3</td>\n",
       "      <td>1.65</td>\n",
       "      <td>4090</td>\n",
       "    </tr>\n",
       "    <tr>\n",
       "      <th>2</th>\n",
       "      <td>Algeria</td>\n",
       "      <td>27.3</td>\n",
       "      <td>38.4</td>\n",
       "      <td>4.17</td>\n",
       "      <td>31.4</td>\n",
       "      <td>12900</td>\n",
       "      <td>16.10</td>\n",
       "      <td>76.5</td>\n",
       "      <td>2.89</td>\n",
       "      <td>4460</td>\n",
       "    </tr>\n",
       "    <tr>\n",
       "      <th>3</th>\n",
       "      <td>Angola</td>\n",
       "      <td>119.0</td>\n",
       "      <td>62.3</td>\n",
       "      <td>2.85</td>\n",
       "      <td>42.9</td>\n",
       "      <td>5900</td>\n",
       "      <td>22.40</td>\n",
       "      <td>60.1</td>\n",
       "      <td>6.16</td>\n",
       "      <td>3530</td>\n",
       "    </tr>\n",
       "    <tr>\n",
       "      <th>4</th>\n",
       "      <td>Antigua and Barbuda</td>\n",
       "      <td>10.3</td>\n",
       "      <td>45.5</td>\n",
       "      <td>6.03</td>\n",
       "      <td>58.9</td>\n",
       "      <td>19100</td>\n",
       "      <td>1.44</td>\n",
       "      <td>76.8</td>\n",
       "      <td>2.13</td>\n",
       "      <td>12200</td>\n",
       "    </tr>\n",
       "  </tbody>\n",
       "</table>\n",
       "</div>"
      ],
      "text/plain": [
       "               country  child_mort  exports  health  imports  income  \\\n",
       "0          Afghanistan        90.2     10.0    7.58     44.9    1610   \n",
       "1              Albania        16.6     28.0    6.55     48.6    9930   \n",
       "2              Algeria        27.3     38.4    4.17     31.4   12900   \n",
       "3               Angola       119.0     62.3    2.85     42.9    5900   \n",
       "4  Antigua and Barbuda        10.3     45.5    6.03     58.9   19100   \n",
       "\n",
       "   inflation  life_expec  total_fer   gdpp  \n",
       "0       9.44        56.2       5.82    553  \n",
       "1       4.49        76.3       1.65   4090  \n",
       "2      16.10        76.5       2.89   4460  \n",
       "3      22.40        60.1       6.16   3530  \n",
       "4       1.44        76.8       2.13  12200  "
      ]
     },
     "execution_count": 2,
     "metadata": {},
     "output_type": "execute_result"
    }
   ],
   "source": [
    "#reading Dataset\n",
    "countrydata = pd.read_csv(r\"D:\\OneDrive - Infosys Limited\\UG\\PCA\\Assignment\\Country-data.csv\",  sep = ',',encoding = \"ISO-8859-1\", header= 0)\n",
    "countrydata.head()"
   ]
  },
  {
   "cell_type": "markdown",
   "metadata": {},
   "source": [
    "### Data Inspection"
   ]
  },
  {
   "cell_type": "code",
   "execution_count": 3,
   "metadata": {},
   "outputs": [
    {
     "data": {
      "text/plain": [
       "(167, 10)"
      ]
     },
     "execution_count": 3,
     "metadata": {},
     "output_type": "execute_result"
    }
   ],
   "source": [
    "countrydata.shape\n",
    "## about 167 records present with 10 attributes."
   ]
  },
  {
   "cell_type": "code",
   "execution_count": 4,
   "metadata": {},
   "outputs": [
    {
     "data": {
      "text/html": [
       "<div>\n",
       "<style scoped>\n",
       "    .dataframe tbody tr th:only-of-type {\n",
       "        vertical-align: middle;\n",
       "    }\n",
       "\n",
       "    .dataframe tbody tr th {\n",
       "        vertical-align: top;\n",
       "    }\n",
       "\n",
       "    .dataframe thead th {\n",
       "        text-align: right;\n",
       "    }\n",
       "</style>\n",
       "<table border=\"1\" class=\"dataframe\">\n",
       "  <thead>\n",
       "    <tr style=\"text-align: right;\">\n",
       "      <th></th>\n",
       "      <th>child_mort</th>\n",
       "      <th>exports</th>\n",
       "      <th>health</th>\n",
       "      <th>imports</th>\n",
       "      <th>income</th>\n",
       "      <th>inflation</th>\n",
       "      <th>life_expec</th>\n",
       "      <th>total_fer</th>\n",
       "      <th>gdpp</th>\n",
       "    </tr>\n",
       "  </thead>\n",
       "  <tbody>\n",
       "    <tr>\n",
       "      <th>count</th>\n",
       "      <td>167.000000</td>\n",
       "      <td>167.000000</td>\n",
       "      <td>167.000000</td>\n",
       "      <td>167.000000</td>\n",
       "      <td>167.000000</td>\n",
       "      <td>167.000000</td>\n",
       "      <td>167.000000</td>\n",
       "      <td>167.000000</td>\n",
       "      <td>167.000000</td>\n",
       "    </tr>\n",
       "    <tr>\n",
       "      <th>mean</th>\n",
       "      <td>38.270060</td>\n",
       "      <td>41.108976</td>\n",
       "      <td>6.815689</td>\n",
       "      <td>46.890215</td>\n",
       "      <td>17144.688623</td>\n",
       "      <td>7.781832</td>\n",
       "      <td>70.555689</td>\n",
       "      <td>2.947964</td>\n",
       "      <td>12964.155689</td>\n",
       "    </tr>\n",
       "    <tr>\n",
       "      <th>std</th>\n",
       "      <td>40.328931</td>\n",
       "      <td>27.412010</td>\n",
       "      <td>2.746837</td>\n",
       "      <td>24.209589</td>\n",
       "      <td>19278.067698</td>\n",
       "      <td>10.570704</td>\n",
       "      <td>8.893172</td>\n",
       "      <td>1.513848</td>\n",
       "      <td>18328.704809</td>\n",
       "    </tr>\n",
       "    <tr>\n",
       "      <th>min</th>\n",
       "      <td>2.600000</td>\n",
       "      <td>0.109000</td>\n",
       "      <td>1.810000</td>\n",
       "      <td>0.065900</td>\n",
       "      <td>609.000000</td>\n",
       "      <td>-4.210000</td>\n",
       "      <td>32.100000</td>\n",
       "      <td>1.150000</td>\n",
       "      <td>231.000000</td>\n",
       "    </tr>\n",
       "    <tr>\n",
       "      <th>25%</th>\n",
       "      <td>8.250000</td>\n",
       "      <td>23.800000</td>\n",
       "      <td>4.920000</td>\n",
       "      <td>30.200000</td>\n",
       "      <td>3355.000000</td>\n",
       "      <td>1.810000</td>\n",
       "      <td>65.300000</td>\n",
       "      <td>1.795000</td>\n",
       "      <td>1330.000000</td>\n",
       "    </tr>\n",
       "    <tr>\n",
       "      <th>50%</th>\n",
       "      <td>19.300000</td>\n",
       "      <td>35.000000</td>\n",
       "      <td>6.320000</td>\n",
       "      <td>43.300000</td>\n",
       "      <td>9960.000000</td>\n",
       "      <td>5.390000</td>\n",
       "      <td>73.100000</td>\n",
       "      <td>2.410000</td>\n",
       "      <td>4660.000000</td>\n",
       "    </tr>\n",
       "    <tr>\n",
       "      <th>75%</th>\n",
       "      <td>62.100000</td>\n",
       "      <td>51.350000</td>\n",
       "      <td>8.600000</td>\n",
       "      <td>58.750000</td>\n",
       "      <td>22800.000000</td>\n",
       "      <td>10.750000</td>\n",
       "      <td>76.800000</td>\n",
       "      <td>3.880000</td>\n",
       "      <td>14050.000000</td>\n",
       "    </tr>\n",
       "    <tr>\n",
       "      <th>max</th>\n",
       "      <td>208.000000</td>\n",
       "      <td>200.000000</td>\n",
       "      <td>17.900000</td>\n",
       "      <td>174.000000</td>\n",
       "      <td>125000.000000</td>\n",
       "      <td>104.000000</td>\n",
       "      <td>82.800000</td>\n",
       "      <td>7.490000</td>\n",
       "      <td>105000.000000</td>\n",
       "    </tr>\n",
       "  </tbody>\n",
       "</table>\n",
       "</div>"
      ],
      "text/plain": [
       "       child_mort     exports      health     imports         income  \\\n",
       "count  167.000000  167.000000  167.000000  167.000000     167.000000   \n",
       "mean    38.270060   41.108976    6.815689   46.890215   17144.688623   \n",
       "std     40.328931   27.412010    2.746837   24.209589   19278.067698   \n",
       "min      2.600000    0.109000    1.810000    0.065900     609.000000   \n",
       "25%      8.250000   23.800000    4.920000   30.200000    3355.000000   \n",
       "50%     19.300000   35.000000    6.320000   43.300000    9960.000000   \n",
       "75%     62.100000   51.350000    8.600000   58.750000   22800.000000   \n",
       "max    208.000000  200.000000   17.900000  174.000000  125000.000000   \n",
       "\n",
       "        inflation  life_expec   total_fer           gdpp  \n",
       "count  167.000000  167.000000  167.000000     167.000000  \n",
       "mean     7.781832   70.555689    2.947964   12964.155689  \n",
       "std     10.570704    8.893172    1.513848   18328.704809  \n",
       "min     -4.210000   32.100000    1.150000     231.000000  \n",
       "25%      1.810000   65.300000    1.795000    1330.000000  \n",
       "50%      5.390000   73.100000    2.410000    4660.000000  \n",
       "75%     10.750000   76.800000    3.880000   14050.000000  \n",
       "max    104.000000   82.800000    7.490000  105000.000000  "
      ]
     },
     "execution_count": 4,
     "metadata": {},
     "output_type": "execute_result"
    }
   ],
   "source": [
    "countrydata.describe()\n",
    "### Inspecting the numerical attributes of the data."
   ]
  },
  {
   "cell_type": "code",
   "execution_count": 6,
   "metadata": {},
   "outputs": [
    {
     "data": {
      "text/plain": [
       "country       False\n",
       "child_mort    False\n",
       "exports       False\n",
       "health        False\n",
       "imports       False\n",
       "income        False\n",
       "inflation     False\n",
       "life_expec    False\n",
       "total_fer     False\n",
       "gdpp          False\n",
       "dtype: bool"
      ]
     },
     "execution_count": 6,
     "metadata": {},
     "output_type": "execute_result"
    }
   ],
   "source": [
    "countrydata.isnull().any()\n",
    "### Check for presence of any null values\n",
    "### No nulls seen."
   ]
  },
  {
   "cell_type": "markdown",
   "metadata": {},
   "source": [
    "### Scaling of numerical data"
   ]
  },
  {
   "cell_type": "code",
   "execution_count": 7,
   "metadata": {},
   "outputs": [],
   "source": [
    "### Create dataframe containing only numerical attributes for further analysis\n",
    "countrydata_num = countrydata[['child_mort','exports','health','imports','income','inflation','life_expec','total_fer','gdpp']]"
   ]
  },
  {
   "cell_type": "code",
   "execution_count": 9,
   "metadata": {},
   "outputs": [],
   "source": [
    "### Scaling of data using StandardSacler\n",
    "\n",
    "from sklearn.preprocessing import StandardScaler\n",
    "standard_scaler = StandardScaler()\n",
    "country_norm = standard_scaler.fit_transform(countrydata_num)"
   ]
  },
  {
   "cell_type": "code",
   "execution_count": 13,
   "metadata": {},
   "outputs": [
    {
     "data": {
      "text/html": [
       "<div>\n",
       "<style scoped>\n",
       "    .dataframe tbody tr th:only-of-type {\n",
       "        vertical-align: middle;\n",
       "    }\n",
       "\n",
       "    .dataframe tbody tr th {\n",
       "        vertical-align: top;\n",
       "    }\n",
       "\n",
       "    .dataframe thead th {\n",
       "        text-align: right;\n",
       "    }\n",
       "</style>\n",
       "<table border=\"1\" class=\"dataframe\">\n",
       "  <thead>\n",
       "    <tr style=\"text-align: right;\">\n",
       "      <th></th>\n",
       "      <th>child_mort</th>\n",
       "      <th>exports</th>\n",
       "      <th>health</th>\n",
       "      <th>imports</th>\n",
       "      <th>income</th>\n",
       "      <th>inflation</th>\n",
       "      <th>life_expec</th>\n",
       "      <th>total_fer</th>\n",
       "      <th>gdpp</th>\n",
       "    </tr>\n",
       "  </thead>\n",
       "  <tbody>\n",
       "    <tr>\n",
       "      <th>count</th>\n",
       "      <td>1.670000e+02</td>\n",
       "      <td>1.670000e+02</td>\n",
       "      <td>1.670000e+02</td>\n",
       "      <td>1.670000e+02</td>\n",
       "      <td>1.670000e+02</td>\n",
       "      <td>1.670000e+02</td>\n",
       "      <td>1.670000e+02</td>\n",
       "      <td>1.670000e+02</td>\n",
       "      <td>1.670000e+02</td>\n",
       "    </tr>\n",
       "    <tr>\n",
       "      <th>mean</th>\n",
       "      <td>-2.659217e-17</td>\n",
       "      <td>2.383323e-16</td>\n",
       "      <td>5.218713e-16</td>\n",
       "      <td>2.871954e-16</td>\n",
       "      <td>-7.512288e-17</td>\n",
       "      <td>8.376533e-17</td>\n",
       "      <td>3.616535e-16</td>\n",
       "      <td>3.124580e-16</td>\n",
       "      <td>2.127373e-17</td>\n",
       "    </tr>\n",
       "    <tr>\n",
       "      <th>std</th>\n",
       "      <td>1.003008e+00</td>\n",
       "      <td>1.003008e+00</td>\n",
       "      <td>1.003008e+00</td>\n",
       "      <td>1.003008e+00</td>\n",
       "      <td>1.003008e+00</td>\n",
       "      <td>1.003008e+00</td>\n",
       "      <td>1.003008e+00</td>\n",
       "      <td>1.003008e+00</td>\n",
       "      <td>1.003008e+00</td>\n",
       "    </tr>\n",
       "    <tr>\n",
       "      <th>min</th>\n",
       "      <td>-8.871383e-01</td>\n",
       "      <td>-1.500192e+00</td>\n",
       "      <td>-1.827827e+00</td>\n",
       "      <td>-1.939940e+00</td>\n",
       "      <td>-8.603259e-01</td>\n",
       "      <td>-1.137852e+00</td>\n",
       "      <td>-4.337186e+00</td>\n",
       "      <td>-1.191250e+00</td>\n",
       "      <td>-6.968005e-01</td>\n",
       "    </tr>\n",
       "    <tr>\n",
       "      <th>25%</th>\n",
       "      <td>-7.466190e-01</td>\n",
       "      <td>-6.333367e-01</td>\n",
       "      <td>-6.922106e-01</td>\n",
       "      <td>-6.914785e-01</td>\n",
       "      <td>-7.174558e-01</td>\n",
       "      <td>-5.666409e-01</td>\n",
       "      <td>-5.927576e-01</td>\n",
       "      <td>-7.639023e-01</td>\n",
       "      <td>-6.366596e-01</td>\n",
       "    </tr>\n",
       "    <tr>\n",
       "      <th>50%</th>\n",
       "      <td>-4.717981e-01</td>\n",
       "      <td>-2.235279e-01</td>\n",
       "      <td>-1.810007e-01</td>\n",
       "      <td>-1.487432e-01</td>\n",
       "      <td>-3.738080e-01</td>\n",
       "      <td>-2.269504e-01</td>\n",
       "      <td>2.869576e-01</td>\n",
       "      <td>-3.564309e-01</td>\n",
       "      <td>-4.544309e-01</td>\n",
       "    </tr>\n",
       "    <tr>\n",
       "      <th>75%</th>\n",
       "      <td>5.926666e-01</td>\n",
       "      <td>3.747198e-01</td>\n",
       "      <td>6.515412e-01</td>\n",
       "      <td>4.913530e-01</td>\n",
       "      <td>2.942370e-01</td>\n",
       "      <td>2.816364e-01</td>\n",
       "      <td>7.042584e-01</td>\n",
       "      <td>6.175252e-01</td>\n",
       "      <td>5.942100e-02</td>\n",
       "    </tr>\n",
       "    <tr>\n",
       "      <th>max</th>\n",
       "      <td>4.221297e+00</td>\n",
       "      <td>5.813835e+00</td>\n",
       "      <td>4.047436e+00</td>\n",
       "      <td>5.266181e+00</td>\n",
       "      <td>5.611542e+00</td>\n",
       "      <td>9.129718e+00</td>\n",
       "      <td>1.380962e+00</td>\n",
       "      <td>3.009349e+00</td>\n",
       "      <td>5.036507e+00</td>\n",
       "    </tr>\n",
       "  </tbody>\n",
       "</table>\n",
       "</div>"
      ],
      "text/plain": [
       "         child_mort       exports        health       imports        income  \\\n",
       "count  1.670000e+02  1.670000e+02  1.670000e+02  1.670000e+02  1.670000e+02   \n",
       "mean  -2.659217e-17  2.383323e-16  5.218713e-16  2.871954e-16 -7.512288e-17   \n",
       "std    1.003008e+00  1.003008e+00  1.003008e+00  1.003008e+00  1.003008e+00   \n",
       "min   -8.871383e-01 -1.500192e+00 -1.827827e+00 -1.939940e+00 -8.603259e-01   \n",
       "25%   -7.466190e-01 -6.333367e-01 -6.922106e-01 -6.914785e-01 -7.174558e-01   \n",
       "50%   -4.717981e-01 -2.235279e-01 -1.810007e-01 -1.487432e-01 -3.738080e-01   \n",
       "75%    5.926666e-01  3.747198e-01  6.515412e-01  4.913530e-01  2.942370e-01   \n",
       "max    4.221297e+00  5.813835e+00  4.047436e+00  5.266181e+00  5.611542e+00   \n",
       "\n",
       "          inflation    life_expec     total_fer          gdpp  \n",
       "count  1.670000e+02  1.670000e+02  1.670000e+02  1.670000e+02  \n",
       "mean   8.376533e-17  3.616535e-16  3.124580e-16  2.127373e-17  \n",
       "std    1.003008e+00  1.003008e+00  1.003008e+00  1.003008e+00  \n",
       "min   -1.137852e+00 -4.337186e+00 -1.191250e+00 -6.968005e-01  \n",
       "25%   -5.666409e-01 -5.927576e-01 -7.639023e-01 -6.366596e-01  \n",
       "50%   -2.269504e-01  2.869576e-01 -3.564309e-01 -4.544309e-01  \n",
       "75%    2.816364e-01  7.042584e-01  6.175252e-01  5.942100e-02  \n",
       "max    9.129718e+00  1.380962e+00  3.009349e+00  5.036507e+00  "
      ]
     },
     "execution_count": 13,
     "metadata": {},
     "output_type": "execute_result"
    }
   ],
   "source": [
    "### Convert the saceled numerical array back to dataframe and set columns.\n",
    "country_norm=pd.DataFrame(country_norm)\n",
    "country_norm.columns = ['child_mort', 'exports', 'health', 'imports', 'income','inflation','life_expec','total_fer','gdpp']\n",
    "country_norm.describe()\n"
   ]
  },
  {
   "cell_type": "markdown",
   "metadata": {},
   "source": [
    "### Prinicipal Component Analysis "
   ]
  },
  {
   "cell_type": "code",
   "execution_count": 14,
   "metadata": {},
   "outputs": [],
   "source": [
    "#Importing the PCA module\n",
    "from sklearn.decomposition import PCA\n",
    "pca = PCA(svd_solver='randomized', random_state=42)"
   ]
  },
  {
   "cell_type": "code",
   "execution_count": 15,
   "metadata": {},
   "outputs": [
    {
     "data": {
      "text/plain": [
       "PCA(copy=True, iterated_power='auto', n_components=None, random_state=42,\n",
       "  svd_solver='randomized', tol=0.0, whiten=False)"
      ]
     },
     "execution_count": 15,
     "metadata": {},
     "output_type": "execute_result"
    }
   ],
   "source": [
    "#Doing the PCA onthe numerical dataset\n",
    "pca.fit(country_norm)"
   ]
  },
  {
   "cell_type": "code",
   "execution_count": 17,
   "metadata": {},
   "outputs": [
    {
     "data": {
      "text/html": [
       "<div>\n",
       "<style scoped>\n",
       "    .dataframe tbody tr th:only-of-type {\n",
       "        vertical-align: middle;\n",
       "    }\n",
       "\n",
       "    .dataframe tbody tr th {\n",
       "        vertical-align: top;\n",
       "    }\n",
       "\n",
       "    .dataframe thead th {\n",
       "        text-align: right;\n",
       "    }\n",
       "</style>\n",
       "<table border=\"1\" class=\"dataframe\">\n",
       "  <thead>\n",
       "    <tr style=\"text-align: right;\">\n",
       "      <th></th>\n",
       "      <th>PC1</th>\n",
       "      <th>PC2</th>\n",
       "      <th>Feature</th>\n",
       "    </tr>\n",
       "  </thead>\n",
       "  <tbody>\n",
       "    <tr>\n",
       "      <th>0</th>\n",
       "      <td>-0.419519</td>\n",
       "      <td>0.192884</td>\n",
       "      <td>child_mort</td>\n",
       "    </tr>\n",
       "    <tr>\n",
       "      <th>1</th>\n",
       "      <td>0.283897</td>\n",
       "      <td>0.613163</td>\n",
       "      <td>exports</td>\n",
       "    </tr>\n",
       "    <tr>\n",
       "      <th>2</th>\n",
       "      <td>0.150838</td>\n",
       "      <td>-0.243087</td>\n",
       "      <td>health</td>\n",
       "    </tr>\n",
       "    <tr>\n",
       "      <th>3</th>\n",
       "      <td>0.161482</td>\n",
       "      <td>0.671821</td>\n",
       "      <td>imports</td>\n",
       "    </tr>\n",
       "    <tr>\n",
       "      <th>4</th>\n",
       "      <td>0.398441</td>\n",
       "      <td>0.022536</td>\n",
       "      <td>income</td>\n",
       "    </tr>\n",
       "    <tr>\n",
       "      <th>5</th>\n",
       "      <td>-0.193173</td>\n",
       "      <td>-0.008404</td>\n",
       "      <td>inflation</td>\n",
       "    </tr>\n",
       "    <tr>\n",
       "      <th>6</th>\n",
       "      <td>0.425839</td>\n",
       "      <td>-0.222707</td>\n",
       "      <td>life_expec</td>\n",
       "    </tr>\n",
       "    <tr>\n",
       "      <th>7</th>\n",
       "      <td>-0.403729</td>\n",
       "      <td>0.155233</td>\n",
       "      <td>total_fer</td>\n",
       "    </tr>\n",
       "    <tr>\n",
       "      <th>8</th>\n",
       "      <td>0.392645</td>\n",
       "      <td>-0.046022</td>\n",
       "      <td>gdpp</td>\n",
       "    </tr>\n",
       "  </tbody>\n",
       "</table>\n",
       "</div>"
      ],
      "text/plain": [
       "        PC1       PC2     Feature\n",
       "0 -0.419519  0.192884  child_mort\n",
       "1  0.283897  0.613163     exports\n",
       "2  0.150838 -0.243087      health\n",
       "3  0.161482  0.671821     imports\n",
       "4  0.398441  0.022536      income\n",
       "5 -0.193173 -0.008404   inflation\n",
       "6  0.425839 -0.222707  life_expec\n",
       "7 -0.403729  0.155233   total_fer\n",
       "8  0.392645 -0.046022        gdpp"
      ]
     },
     "execution_count": 17,
     "metadata": {},
     "output_type": "execute_result"
    }
   ],
   "source": [
    "### Dataframe containing PC values - PC1 & 2  along with feature names.\n",
    "colnames = list(country_norm.columns)\n",
    "pcs_df = pd.DataFrame({'PC1':pca.components_[0],'PC2':pca.components_[1], 'Feature':colnames})\n",
    "pcs_df"
   ]
  },
  {
   "cell_type": "markdown",
   "metadata": {},
   "source": [
    "#### Selection of number of PCA components - Scree Plot"
   ]
  },
  {
   "cell_type": "code",
   "execution_count": 20,
   "metadata": {},
   "outputs": [
    {
     "data": {
      "image/png": "[encoded data removed]",
      "text/plain": [
       "<Figure size 720x432 with 1 Axes>"
      ]
     },
     "metadata": {
      "needs_background": "light"
     },
     "output_type": "display_data"
    }
   ],
   "source": [
    "#Making the screeplot - plotting the cumulative variance against the number of components\n",
    "\n",
    "plt.figure(figsize = (10,6))\n",
    "plt.plot(np.cumsum(pca.explained_variance_ratio_))\n",
    "plt.xlabel('number of principal components')\n",
    "plt.ylabel('cumulative explained variance')\n",
    "plt.show()\n",
    "\n",
    "### > 90% variance can be captured by 5 principal components."
   ]
  },
  {
   "cell_type": "markdown",
   "metadata": {},
   "source": [
    "#### Data transform to 5 PCA components"
   ]
  },
  {
   "cell_type": "code",
   "execution_count": 21,
   "metadata": {},
   "outputs": [],
   "source": [
    "### Using incremental PCA for efficiency \n",
    "### Fit transform for 5 PC components\n",
    "\n",
    "from sklearn.decomposition import IncrementalPCA\n",
    "pca_final = IncrementalPCA(n_components=5)"
   ]
  },
  {
   "cell_type": "code",
   "execution_count": 23,
   "metadata": {},
   "outputs": [],
   "source": [
    "## Fit the numerical data for pca transformation into 5 components\n",
    "country_reduced=pca_final.fit_transform(country_norm)"
   ]
  },
  {
   "cell_type": "code",
   "execution_count": 24,
   "metadata": {},
   "outputs": [
    {
     "data": {
      "text/plain": [
       "array([-0.41967749,  0.28371974,  0.15090765,  0.16157087,  0.39861811,\n",
       "       -0.1928264 ,  0.42549267, -0.40396116,  0.39266855])"
      ]
     },
     "execution_count": 24,
     "metadata": {},
     "output_type": "execute_result"
    }
   ],
   "source": [
    "### Inspect one of the PC components\n",
    "pca_final.components_[0]"
   ]
  },
  {
   "cell_type": "code",
   "execution_count": 27,
   "metadata": {},
   "outputs": [
    {
     "data": {
      "text/html": [
       "<div>\n",
       "<style scoped>\n",
       "    .dataframe tbody tr th:only-of-type {\n",
       "        vertical-align: middle;\n",
       "    }\n",
       "\n",
       "    .dataframe tbody tr th {\n",
       "        vertical-align: top;\n",
       "    }\n",
       "\n",
       "    .dataframe thead th {\n",
       "        text-align: right;\n",
       "    }\n",
       "</style>\n",
       "<table border=\"1\" class=\"dataframe\">\n",
       "  <thead>\n",
       "    <tr style=\"text-align: right;\">\n",
       "      <th></th>\n",
       "      <th>PC1</th>\n",
       "      <th>PC2</th>\n",
       "      <th>PC3</th>\n",
       "      <th>PC4</th>\n",
       "      <th>PC5</th>\n",
       "      <th>Feature</th>\n",
       "    </tr>\n",
       "  </thead>\n",
       "  <tbody>\n",
       "    <tr>\n",
       "      <th>0</th>\n",
       "      <td>-0.419677</td>\n",
       "      <td>0.193122</td>\n",
       "      <td>-0.034361</td>\n",
       "      <td>0.371073</td>\n",
       "      <td>-0.183901</td>\n",
       "      <td>child_mort</td>\n",
       "    </tr>\n",
       "    <tr>\n",
       "      <th>1</th>\n",
       "      <td>0.283720</td>\n",
       "      <td>0.613580</td>\n",
       "      <td>0.146870</td>\n",
       "      <td>0.004906</td>\n",
       "      <td>0.070439</td>\n",
       "      <td>exports</td>\n",
       "    </tr>\n",
       "    <tr>\n",
       "      <th>2</th>\n",
       "      <td>0.150908</td>\n",
       "      <td>-0.243503</td>\n",
       "      <td>-0.604453</td>\n",
       "      <td>0.454329</td>\n",
       "      <td>0.515747</td>\n",
       "      <td>health</td>\n",
       "    </tr>\n",
       "    <tr>\n",
       "      <th>3</th>\n",
       "      <td>0.161571</td>\n",
       "      <td>0.671309</td>\n",
       "      <td>-0.309139</td>\n",
       "      <td>-0.077217</td>\n",
       "      <td>0.242221</td>\n",
       "      <td>imports</td>\n",
       "    </tr>\n",
       "    <tr>\n",
       "      <th>4</th>\n",
       "      <td>0.398618</td>\n",
       "      <td>0.024074</td>\n",
       "      <td>0.300028</td>\n",
       "      <td>0.394266</td>\n",
       "      <td>-0.250698</td>\n",
       "      <td>income</td>\n",
       "    </tr>\n",
       "    <tr>\n",
       "      <th>5</th>\n",
       "      <td>-0.192826</td>\n",
       "      <td>-0.003326</td>\n",
       "      <td>0.629844</td>\n",
       "      <td>0.149208</td>\n",
       "      <td>0.717691</td>\n",
       "      <td>inflation</td>\n",
       "    </tr>\n",
       "    <tr>\n",
       "      <th>6</th>\n",
       "      <td>0.425493</td>\n",
       "      <td>-0.224559</td>\n",
       "      <td>0.120471</td>\n",
       "      <td>-0.199968</td>\n",
       "      <td>0.139809</td>\n",
       "      <td>life_expec</td>\n",
       "    </tr>\n",
       "    <tr>\n",
       "      <th>7</th>\n",
       "      <td>-0.403961</td>\n",
       "      <td>0.152200</td>\n",
       "      <td>0.027959</td>\n",
       "      <td>0.383224</td>\n",
       "      <td>-0.085758</td>\n",
       "      <td>total_fer</td>\n",
       "    </tr>\n",
       "    <tr>\n",
       "      <th>8</th>\n",
       "      <td>0.392669</td>\n",
       "      <td>-0.045737</td>\n",
       "      <td>0.119599</td>\n",
       "      <td>0.534179</td>\n",
       "      <td>-0.178110</td>\n",
       "      <td>gdpp</td>\n",
       "    </tr>\n",
       "  </tbody>\n",
       "</table>\n",
       "</div>"
      ],
      "text/plain": [
       "        PC1       PC2       PC3       PC4       PC5     Feature\n",
       "0 -0.419677  0.193122 -0.034361  0.371073 -0.183901  child_mort\n",
       "1  0.283720  0.613580  0.146870  0.004906  0.070439     exports\n",
       "2  0.150908 -0.243503 -0.604453  0.454329  0.515747      health\n",
       "3  0.161571  0.671309 -0.309139 -0.077217  0.242221     imports\n",
       "4  0.398618  0.024074  0.300028  0.394266 -0.250698      income\n",
       "5 -0.192826 -0.003326  0.629844  0.149208  0.717691   inflation\n",
       "6  0.425493 -0.224559  0.120471 -0.199968  0.139809  life_expec\n",
       "7 -0.403961  0.152200  0.027959  0.383224 -0.085758   total_fer\n",
       "8  0.392669 -0.045737  0.119599  0.534179 -0.178110        gdpp"
      ]
     },
     "execution_count": 27,
     "metadata": {},
     "output_type": "execute_result"
    }
   ],
   "source": [
    "### Create dataframe have PC vlaues with the features after final transformation.\n",
    "\n",
    "colnames = list(country_norm.columns)\n",
    "pcs_final_df = pd.DataFrame({'PC1':pca_final.components_[0],'PC2':pca_final.components_[1], 'PC3':pca_final.components_[2],'PC4':pca_final.components_[3],'PC5':pca_final.components_[4],'Feature':colnames})\n",
    "pcs_final_df"
   ]
  },
  {
   "cell_type": "markdown",
   "metadata": {},
   "source": [
    "#### Correlation amongst PCA components "
   ]
  },
  {
   "cell_type": "code",
   "execution_count": 28,
   "metadata": {},
   "outputs": [],
   "source": [
    "### creating correlation matrix for the principal components\n",
    "corrmat = np.corrcoef(country_reduced.transpose())"
   ]
  },
  {
   "cell_type": "code",
   "execution_count": 30,
   "metadata": {},
   "outputs": [
    {
     "data": {
      "text/plain": [
       "<matplotlib.axes._subplots.AxesSubplot at 0x284d0dafd30>"
      ]
     },
     "execution_count": 30,
     "metadata": {},
     "output_type": "execute_result"
    },
    {
     "data": {
      "image/png": "[encoded data removed]",
      "text/plain": [
       "<Figure size 720x504 with 2 Axes>"
      ]
     },
     "metadata": {
      "needs_background": "light"
     },
     "output_type": "display_data"
    }
   ],
   "source": [
    "#plotting the correlation matrix\n",
    "plt.figure(figsize = (10,7))\n",
    "sns.heatmap(corrmat,annot = True)"
   ]
  },
  {
   "cell_type": "code",
   "execution_count": 31,
   "metadata": {},
   "outputs": [
    {
     "name": "stdout",
     "output_type": "stream",
     "text": [
      "max corr: 0.007194543060491322 , min corr:  -0.002374704497495323\n"
     ]
    }
   ],
   "source": [
    "corrmat_nodiag = corrmat - np.diagflat(corrmat.diagonal())\n",
    "print(\"max corr:\",corrmat_nodiag.max(), \", min corr: \", corrmat_nodiag.min(),)\n",
    "# Correlations are close to 0 . "
   ]
  },
  {
   "cell_type": "markdown",
   "metadata": {},
   "source": [
    "### Outlier Treatment"
   ]
  },
  {
   "cell_type": "code",
   "execution_count": 32,
   "metadata": {},
   "outputs": [
    {
     "data": {
      "text/html": [
       "<div>\n",
       "<style scoped>\n",
       "    .dataframe tbody tr th:only-of-type {\n",
       "        vertical-align: middle;\n",
       "    }\n",
       "\n",
       "    .dataframe tbody tr th {\n",
       "        vertical-align: top;\n",
       "    }\n",
       "\n",
       "    .dataframe thead th {\n",
       "        text-align: right;\n",
       "    }\n",
       "</style>\n",
       "<table border=\"1\" class=\"dataframe\">\n",
       "  <thead>\n",
       "    <tr style=\"text-align: right;\">\n",
       "      <th></th>\n",
       "      <th>PC1</th>\n",
       "      <th>PC2</th>\n",
       "      <th>PC3</th>\n",
       "      <th>PC4</th>\n",
       "      <th>PC5</th>\n",
       "      <th>country</th>\n",
       "    </tr>\n",
       "  </thead>\n",
       "  <tbody>\n",
       "    <tr>\n",
       "      <th>0</th>\n",
       "      <td>-2.913000</td>\n",
       "      <td>0.091969</td>\n",
       "      <td>-0.721242</td>\n",
       "      <td>1.001838</td>\n",
       "      <td>-0.146765</td>\n",
       "      <td>Afghanistan</td>\n",
       "    </tr>\n",
       "    <tr>\n",
       "      <th>1</th>\n",
       "      <td>0.429870</td>\n",
       "      <td>-0.589373</td>\n",
       "      <td>-0.328611</td>\n",
       "      <td>-1.165014</td>\n",
       "      <td>0.153205</td>\n",
       "      <td>Albania</td>\n",
       "    </tr>\n",
       "    <tr>\n",
       "      <th>2</th>\n",
       "      <td>-0.285289</td>\n",
       "      <td>-0.452139</td>\n",
       "      <td>1.232051</td>\n",
       "      <td>-0.857767</td>\n",
       "      <td>0.191227</td>\n",
       "      <td>Algeria</td>\n",
       "    </tr>\n",
       "    <tr>\n",
       "      <th>3</th>\n",
       "      <td>-2.932714</td>\n",
       "      <td>1.698771</td>\n",
       "      <td>1.525076</td>\n",
       "      <td>0.855595</td>\n",
       "      <td>-0.214778</td>\n",
       "      <td>Angola</td>\n",
       "    </tr>\n",
       "    <tr>\n",
       "      <th>4</th>\n",
       "      <td>1.033371</td>\n",
       "      <td>0.133853</td>\n",
       "      <td>-0.216699</td>\n",
       "      <td>-0.846638</td>\n",
       "      <td>-0.193186</td>\n",
       "      <td>Antigua and Barbuda</td>\n",
       "    </tr>\n",
       "  </tbody>\n",
       "</table>\n",
       "</div>"
      ],
      "text/plain": [
       "        PC1       PC2       PC3       PC4       PC5              country\n",
       "0 -2.913000  0.091969 -0.721242  1.001838 -0.146765          Afghanistan\n",
       "1  0.429870 -0.589373 -0.328611 -1.165014  0.153205              Albania\n",
       "2 -0.285289 -0.452139  1.232051 -0.857767  0.191227              Algeria\n",
       "3 -2.932714  1.698771  1.525076  0.855595 -0.214778               Angola\n",
       "4  1.033371  0.133853 -0.216699 -0.846638 -0.193186  Antigua and Barbuda"
      ]
     },
     "execution_count": 32,
     "metadata": {},
     "output_type": "execute_result"
    }
   ],
   "source": [
    "countryname=pd.Series(countrydata.country)\n",
    "\n",
    "## Creation of dataframe including PCA components and country\n",
    "\n",
    "country_reduced=pd.DataFrame(country_reduced)\n",
    "country_reduced=pd.concat([country_reduced, countryname], axis=1)\n",
    "country_reduced.columns = ['PC1', 'PC2', 'PC3', 'PC4', 'PC5','country']\n",
    "country_reduced.head(5)\n"
   ]
  },
  {
   "cell_type": "code",
   "execution_count": 34,
   "metadata": {},
   "outputs": [
    {
     "data": {
      "text/html": [
       "<div>\n",
       "<style scoped>\n",
       "    .dataframe tbody tr th:only-of-type {\n",
       "        vertical-align: middle;\n",
       "    }\n",
       "\n",
       "    .dataframe tbody tr th {\n",
       "        vertical-align: top;\n",
       "    }\n",
       "\n",
       "    .dataframe thead th {\n",
       "        text-align: right;\n",
       "    }\n",
       "</style>\n",
       "<table border=\"1\" class=\"dataframe\">\n",
       "  <thead>\n",
       "    <tr style=\"text-align: right;\">\n",
       "      <th></th>\n",
       "      <th>PC1</th>\n",
       "      <th>PC2</th>\n",
       "      <th>PC3</th>\n",
       "      <th>PC4</th>\n",
       "      <th>PC5</th>\n",
       "    </tr>\n",
       "  </thead>\n",
       "  <tbody>\n",
       "    <tr>\n",
       "      <th>count</th>\n",
       "      <td>1.670000e+02</td>\n",
       "      <td>1.670000e+02</td>\n",
       "      <td>1.670000e+02</td>\n",
       "      <td>1.670000e+02</td>\n",
       "      <td>1.670000e+02</td>\n",
       "    </tr>\n",
       "    <tr>\n",
       "      <th>mean</th>\n",
       "      <td>-1.063687e-17</td>\n",
       "      <td>-2.991619e-17</td>\n",
       "      <td>1.728491e-17</td>\n",
       "      <td>2.260334e-17</td>\n",
       "      <td>-8.974857e-17</td>\n",
       "    </tr>\n",
       "    <tr>\n",
       "      <th>std</th>\n",
       "      <td>2.039747e+00</td>\n",
       "      <td>1.247247e+00</td>\n",
       "      <td>1.084958e+00</td>\n",
       "      <td>1.000370e+00</td>\n",
       "      <td>8.142544e-01</td>\n",
       "    </tr>\n",
       "    <tr>\n",
       "      <th>min</th>\n",
       "      <td>-4.909489e+00</td>\n",
       "      <td>-2.998696e+00</td>\n",
       "      <td>-2.742965e+00</td>\n",
       "      <td>-1.591559e+00</td>\n",
       "      <td>-2.815243e+00</td>\n",
       "    </tr>\n",
       "    <tr>\n",
       "      <th>25%</th>\n",
       "      <td>-1.382257e+00</td>\n",
       "      <td>-7.512665e-01</td>\n",
       "      <td>-5.293363e-01</td>\n",
       "      <td>-7.853547e-01</td>\n",
       "      <td>-3.969344e-01</td>\n",
       "    </tr>\n",
       "    <tr>\n",
       "      <th>50%</th>\n",
       "      <td>2.289034e-02</td>\n",
       "      <td>-9.336691e-02</td>\n",
       "      <td>-2.342960e-01</td>\n",
       "      <td>-3.079123e-01</td>\n",
       "      <td>-7.037759e-02</td>\n",
       "    </tr>\n",
       "    <tr>\n",
       "      <th>75%</th>\n",
       "      <td>1.224237e+00</td>\n",
       "      <td>5.505069e-01</td>\n",
       "      <td>4.136567e-01</td>\n",
       "      <td>7.264802e-01</td>\n",
       "      <td>2.825802e-01</td>\n",
       "    </tr>\n",
       "    <tr>\n",
       "      <th>90%</th>\n",
       "      <td>2.462777e+00</td>\n",
       "      <td>1.286492e+00</td>\n",
       "      <td>1.294047e+00</td>\n",
       "      <td>1.222214e+00</td>\n",
       "      <td>8.204424e-01</td>\n",
       "    </tr>\n",
       "    <tr>\n",
       "      <th>95%</th>\n",
       "      <td>3.103822e+00</td>\n",
       "      <td>1.718057e+00</td>\n",
       "      <td>1.799184e+00</td>\n",
       "      <td>1.780687e+00</td>\n",
       "      <td>1.110188e+00</td>\n",
       "    </tr>\n",
       "    <tr>\n",
       "      <th>99%</th>\n",
       "      <td>4.766517e+00</td>\n",
       "      <td>4.795525e+00</td>\n",
       "      <td>3.272137e+00</td>\n",
       "      <td>2.787454e+00</td>\n",
       "      <td>2.150525e+00</td>\n",
       "    </tr>\n",
       "    <tr>\n",
       "      <th>max</th>\n",
       "      <td>6.917851e+00</td>\n",
       "      <td>6.684268e+00</td>\n",
       "      <td>6.010058e+00</td>\n",
       "      <td>3.134611e+00</td>\n",
       "      <td>5.404537e+00</td>\n",
       "    </tr>\n",
       "  </tbody>\n",
       "</table>\n",
       "</div>"
      ],
      "text/plain": [
       "                PC1           PC2           PC3           PC4           PC5\n",
       "count  1.670000e+02  1.670000e+02  1.670000e+02  1.670000e+02  1.670000e+02\n",
       "mean  -1.063687e-17 -2.991619e-17  1.728491e-17  2.260334e-17 -8.974857e-17\n",
       "std    2.039747e+00  1.247247e+00  1.084958e+00  1.000370e+00  8.142544e-01\n",
       "min   -4.909489e+00 -2.998696e+00 -2.742965e+00 -1.591559e+00 -2.815243e+00\n",
       "25%   -1.382257e+00 -7.512665e-01 -5.293363e-01 -7.853547e-01 -3.969344e-01\n",
       "50%    2.289034e-02 -9.336691e-02 -2.342960e-01 -3.079123e-01 -7.037759e-02\n",
       "75%    1.224237e+00  5.505069e-01  4.136567e-01  7.264802e-01  2.825802e-01\n",
       "90%    2.462777e+00  1.286492e+00  1.294047e+00  1.222214e+00  8.204424e-01\n",
       "95%    3.103822e+00  1.718057e+00  1.799184e+00  1.780687e+00  1.110188e+00\n",
       "99%    4.766517e+00  4.795525e+00  3.272137e+00  2.787454e+00  2.150525e+00\n",
       "max    6.917851e+00  6.684268e+00  6.010058e+00  3.134611e+00  5.404537e+00"
      ]
     },
     "execution_count": 34,
     "metadata": {},
     "output_type": "execute_result"
    }
   ],
   "source": [
    "# Checking outliers at 25%,50%,75%,90%,95% and 99%\n",
    "country_reduced.describe(percentiles=[.25,.5,.75,.90,.95,.99])\n",
    "### there are outliers seen - difference between 99% and max is not gradual increase."
   ]
  },
  {
   "cell_type": "code",
   "execution_count": 35,
   "metadata": {},
   "outputs": [
    {
     "data": {
      "text/plain": [
       "(167, 6)"
      ]
     },
     "execution_count": 35,
     "metadata": {},
     "output_type": "execute_result"
    }
   ],
   "source": [
    "country_reduced.shape\n",
    "### Data size before outlier treatment is 167 records with 6 attributes ( including Country name)"
   ]
  },
  {
   "cell_type": "code",
   "execution_count": 36,
   "metadata": {},
   "outputs": [
    {
     "data": {
      "image/png": "[encoded data removed]",
      "text/plain": [
       "<Figure size 432x288 with 1 Axes>"
      ]
     },
     "metadata": {
      "needs_background": "light"
     },
     "output_type": "display_data"
    }
   ],
   "source": [
    "# outlier treatment for PC1\n",
    "\n",
    "plt.boxplot(country_reduced.PC1)\n",
    "Q1 = country_reduced.PC1.quantile(0.25)\n",
    "Q3 = country_reduced.PC1.quantile(0.75)\n",
    "IQR = Q3 - Q1\n",
    "country_reduced = country_reduced[(country_reduced.PC1 >= Q1 - 1.5*IQR) & (country_reduced.PC1 <= Q3 + 1.5*IQR)]"
   ]
  },
  {
   "cell_type": "code",
   "execution_count": 37,
   "metadata": {},
   "outputs": [
    {
     "data": {
      "image/png": "[encoded data removed]",
      "text/plain": [
       "<Figure size 432x288 with 1 Axes>"
      ]
     },
     "metadata": {
      "needs_background": "light"
     },
     "output_type": "display_data"
    }
   ],
   "source": [
    "# outlier treatment for PC2\n",
    "plt.boxplot(country_reduced.PC2)\n",
    "Q1 = country_reduced.PC2.quantile(0.25)\n",
    "Q3 = country_reduced.PC2.quantile(0.75)\n",
    "IQR = Q3 - Q1\n",
    "country_reduced = country_reduced[(country_reduced.PC2 >= Q1 - 1.5*IQR) & (country_reduced.PC2 <= Q3 + 1.5*IQR)]"
   ]
  },
  {
   "cell_type": "code",
   "execution_count": 38,
   "metadata": {},
   "outputs": [
    {
     "data": {
      "image/png": "[encoded data removed]",
      "text/plain": [
       "<Figure size 432x288 with 1 Axes>"
      ]
     },
     "metadata": {
      "needs_background": "light"
     },
     "output_type": "display_data"
    }
   ],
   "source": [
    "# outlier treatment for PC3\n",
    "plt.boxplot(country_reduced.PC3)\n",
    "Q1 = country_reduced.PC3.quantile(0.25)\n",
    "Q3 = country_reduced.PC3.quantile(0.75)\n",
    "IQR = Q3 - Q1\n",
    "country_reduced = country_reduced[(country_reduced.PC3 >= Q1 - 1.5*IQR) & (country_reduced.PC3 <= Q3 + 1.5*IQR)]"
   ]
  },
  {
   "cell_type": "code",
   "execution_count": 39,
   "metadata": {},
   "outputs": [
    {
     "data": {
      "image/png": "[encoded data removed]",
      "text/plain": [
       "<Figure size 432x288 with 1 Axes>"
      ]
     },
     "metadata": {
      "needs_background": "light"
     },
     "output_type": "display_data"
    }
   ],
   "source": [
    "# outlier treatment for PC4\n",
    "plt.boxplot(country_reduced.PC4)\n",
    "Q1 = country_reduced.PC4.quantile(0.25)\n",
    "Q3 = country_reduced.PC4.quantile(0.75)\n",
    "IQR = Q3 - Q1\n",
    "country_reduced = country_reduced[(country_reduced.PC4 >= Q1 - 1.5*IQR) & (country_reduced.PC4 <= Q3 + 1.5*IQR)]"
   ]
  },
  {
   "cell_type": "code",
   "execution_count": 40,
   "metadata": {},
   "outputs": [
    {
     "data": {
      "image/png": "[encoded data removed]",
      "text/plain": [
       "<Figure size 432x288 with 1 Axes>"
      ]
     },
     "metadata": {
      "needs_background": "light"
     },
     "output_type": "display_data"
    }
   ],
   "source": [
    "# outlier treatment for PC5\n",
    "plt.boxplot(country_reduced.PC5)\n",
    "Q1 = country_reduced.PC5.quantile(0.25)\n",
    "Q3 = country_reduced.PC5.quantile(0.75)\n",
    "IQR = Q3 - Q1\n",
    "country_reduced = country_reduced[(country_reduced.PC5 >= Q1 - 1.5*IQR) & (country_reduced.PC5 <= Q3 + 1.5*IQR)]"
   ]
  },
  {
   "cell_type": "code",
   "execution_count": 41,
   "metadata": {},
   "outputs": [
    {
     "data": {
      "image/png": "[encoded data removed]",
      "text/plain": [
       "<Figure size 1080x360 with 5 Axes>"
      ]
     },
     "metadata": {
      "needs_background": "light"
     },
     "output_type": "display_data"
    }
   ],
   "source": [
    "plt.figure(figsize = (15, 5))\n",
    "plt.subplot(2,3,1)\n",
    "plt.boxplot(country_reduced.PC1)\n",
    "plt.subplot(2,3,2)\n",
    "plt.boxplot(country_reduced.PC2)\n",
    "plt.subplot(2,3,3)\n",
    "plt.boxplot(country_reduced.PC3)\n",
    "plt.subplot(2,3,4)\n",
    "plt.boxplot(country_reduced.PC4)\n",
    "plt.subplot(2,3,5)\n",
    "plt.boxplot(country_reduced.PC5)\n",
    "plt.show()"
   ]
  },
  {
   "cell_type": "code",
   "execution_count": 43,
   "metadata": {},
   "outputs": [
    {
     "data": {
      "text/plain": [
       "(143, 6)"
      ]
     },
     "execution_count": 43,
     "metadata": {},
     "output_type": "execute_result"
    }
   ],
   "source": [
    "country_reduced.shape\n",
    "### Data set after outlier treatment - 143 records with 6 attributes.\n",
    "### ~14% data is outlier ."
   ]
  },
  {
   "cell_type": "code",
   "execution_count": 52,
   "metadata": {},
   "outputs": [],
   "source": [
    "### Defining Dataframes for later processing .\n",
    "\n",
    "country_afteroutliers_countryout=country_reduced[['PC1','PC2','PC3','PC4','PC5']] ## DF without countryname and without outlier treatment\n",
    "country_norm_with_country=pd.concat([country_norm, countryname], axis=1) ## DF with countryname and withour outlier treatment\n",
    "\n",
    "### Data with country and without PCA components after outlier treatment\n",
    "country_norm_after_outlierremoval = pd.merge(country_norm_with_country, country_reduced, how='inner', on=['country'])\n",
    "country_norm_after_outlierremoval_withcountry=country_norm_after_outlierremoval.drop(['PC1', 'PC2','PC3','PC4','PC5'], axis=1)\n",
    "\n",
    "### Data without country and PCA components after outlier treatment\n",
    "country_norm_after_outlierremoval.drop(['country','PC1', 'PC2','PC3','PC4','PC5'], axis=1, inplace=True)\n"
   ]
  },
  {
   "cell_type": "code",
   "execution_count": 56,
   "metadata": {},
   "outputs": [
    {
     "data": {
      "text/html": [
       "<div>\n",
       "<style scoped>\n",
       "    .dataframe tbody tr th:only-of-type {\n",
       "        vertical-align: middle;\n",
       "    }\n",
       "\n",
       "    .dataframe tbody tr th {\n",
       "        vertical-align: top;\n",
       "    }\n",
       "\n",
       "    .dataframe thead th {\n",
       "        text-align: right;\n",
       "    }\n",
       "</style>\n",
       "<table border=\"1\" class=\"dataframe\">\n",
       "  <thead>\n",
       "    <tr style=\"text-align: right;\">\n",
       "      <th></th>\n",
       "      <th>PC1</th>\n",
       "      <th>PC2</th>\n",
       "      <th>PC3</th>\n",
       "      <th>PC4</th>\n",
       "      <th>PC5</th>\n",
       "      <th>Feature</th>\n",
       "    </tr>\n",
       "  </thead>\n",
       "  <tbody>\n",
       "    <tr>\n",
       "      <th>0</th>\n",
       "      <td>-0.468255</td>\n",
       "      <td>0.300526</td>\n",
       "      <td>0.210701</td>\n",
       "      <td>-0.082143</td>\n",
       "      <td>-0.211522</td>\n",
       "      <td>child_mort</td>\n",
       "    </tr>\n",
       "    <tr>\n",
       "      <th>1</th>\n",
       "      <td>0.127434</td>\n",
       "      <td>-0.296679</td>\n",
       "      <td>0.614424</td>\n",
       "      <td>-0.261863</td>\n",
       "      <td>0.251514</td>\n",
       "      <td>exports</td>\n",
       "    </tr>\n",
       "    <tr>\n",
       "      <th>2</th>\n",
       "      <td>0.243362</td>\n",
       "      <td>0.596150</td>\n",
       "      <td>0.156681</td>\n",
       "      <td>0.573423</td>\n",
       "      <td>0.457176</td>\n",
       "      <td>health</td>\n",
       "    </tr>\n",
       "    <tr>\n",
       "      <th>3</th>\n",
       "      <td>0.036288</td>\n",
       "      <td>-0.309961</td>\n",
       "      <td>0.627249</td>\n",
       "      <td>0.321139</td>\n",
       "      <td>-0.041341</td>\n",
       "      <td>imports</td>\n",
       "    </tr>\n",
       "    <tr>\n",
       "      <th>4</th>\n",
       "      <td>0.319397</td>\n",
       "      <td>0.231760</td>\n",
       "      <td>0.158843</td>\n",
       "      <td>-0.355181</td>\n",
       "      <td>-0.079368</td>\n",
       "      <td>income</td>\n",
       "    </tr>\n",
       "    <tr>\n",
       "      <th>5</th>\n",
       "      <td>-0.165908</td>\n",
       "      <td>-0.045195</td>\n",
       "      <td>-0.113747</td>\n",
       "      <td>-0.395269</td>\n",
       "      <td>0.761721</td>\n",
       "      <td>inflation</td>\n",
       "    </tr>\n",
       "    <tr>\n",
       "      <th>6</th>\n",
       "      <td>0.478189</td>\n",
       "      <td>-0.123692</td>\n",
       "      <td>-0.206725</td>\n",
       "      <td>-0.089909</td>\n",
       "      <td>0.123103</td>\n",
       "      <td>life_expec</td>\n",
       "    </tr>\n",
       "    <tr>\n",
       "      <th>7</th>\n",
       "      <td>-0.460923</td>\n",
       "      <td>0.309024</td>\n",
       "      <td>0.189366</td>\n",
       "      <td>-0.183330</td>\n",
       "      <td>0.118125</td>\n",
       "      <td>total_fer</td>\n",
       "    </tr>\n",
       "    <tr>\n",
       "      <th>8</th>\n",
       "      <td>0.365104</td>\n",
       "      <td>0.451270</td>\n",
       "      <td>0.208167</td>\n",
       "      <td>-0.410671</td>\n",
       "      <td>-0.256230</td>\n",
       "      <td>gdpp</td>\n",
       "    </tr>\n",
       "  </tbody>\n",
       "</table>\n",
       "</div>"
      ],
      "text/plain": [
       "        PC1       PC2       PC3       PC4       PC5     Feature\n",
       "0 -0.468255  0.300526  0.210701 -0.082143 -0.211522  child_mort\n",
       "1  0.127434 -0.296679  0.614424 -0.261863  0.251514     exports\n",
       "2  0.243362  0.596150  0.156681  0.573423  0.457176      health\n",
       "3  0.036288 -0.309961  0.627249  0.321139 -0.041341     imports\n",
       "4  0.319397  0.231760  0.158843 -0.355181 -0.079368      income\n",
       "5 -0.165908 -0.045195 -0.113747 -0.395269  0.761721   inflation\n",
       "6  0.478189 -0.123692 -0.206725 -0.089909  0.123103  life_expec\n",
       "7 -0.460923  0.309024  0.189366 -0.183330  0.118125   total_fer\n",
       "8  0.365104  0.451270  0.208167 -0.410671 -0.256230        gdpp"
      ]
     },
     "execution_count": 56,
     "metadata": {},
     "output_type": "execute_result"
    }
   ],
   "source": [
    "### Fit Transform the data after outlier removal.\n",
    "country_reduced=pca_final.fit_transform(country_norm_after_outlierremoval)\n",
    "pca_final.components_[0]\n",
    "colnames = list(country_norm_after_outlierremoval.columns)\n",
    "pcs_final_df = pd.DataFrame({'PC1':pca_final.components_[0],'PC2':pca_final.components_[1], 'PC3':pca_final.components_[2],'PC4':pca_final.components_[3],'PC5':pca_final.components_[4],'Feature':colnames})\n",
    "pcs_final_df"
   ]
  },
  {
   "cell_type": "code",
   "execution_count": 57,
   "metadata": {},
   "outputs": [
    {
     "data": {
      "image/png": "[encoded data removed]",
      "text/plain": [
       "<Figure size 720x360 with 1 Axes>"
      ]
     },
     "metadata": {
      "needs_background": "light"
     },
     "output_type": "display_data"
    }
   ],
   "source": [
    "### Plotting of PC1 and PC2 for features \n",
    "fig = plt.figure(figsize = (10,5))\n",
    "plt.scatter(pcs_final_df.PC1, pcs_final_df.PC2)\n",
    "plt.xlabel('Principal Component 1')\n",
    "plt.ylabel('Principal Component 2')\n",
    "for i, txt in enumerate(pcs_final_df.Feature):\n",
    "    plt.annotate(txt, (pcs_final_df.PC1[i],pcs_final_df.PC2[i]))\n",
    "plt.tight_layout()\n",
    "plt.show()"
   ]
  },
  {
   "cell_type": "markdown",
   "metadata": {},
   "source": [
    "<B>Life Expectancy</B> and <B>child mortality</B> are top 2 components having higher variance with first component."
   ]
  },
  {
   "cell_type": "code",
   "execution_count": 58,
   "metadata": {},
   "outputs": [
    {
     "data": {
      "text/html": [
       "<div>\n",
       "<style scoped>\n",
       "    .dataframe tbody tr th:only-of-type {\n",
       "        vertical-align: middle;\n",
       "    }\n",
       "\n",
       "    .dataframe tbody tr th {\n",
       "        vertical-align: top;\n",
       "    }\n",
       "\n",
       "    .dataframe thead th {\n",
       "        text-align: right;\n",
       "    }\n",
       "</style>\n",
       "<table border=\"1\" class=\"dataframe\">\n",
       "  <thead>\n",
       "    <tr style=\"text-align: right;\">\n",
       "      <th></th>\n",
       "      <th>PC1</th>\n",
       "      <th>PC2</th>\n",
       "      <th>PC3</th>\n",
       "      <th>PC4</th>\n",
       "      <th>PC5</th>\n",
       "    </tr>\n",
       "  </thead>\n",
       "  <tbody>\n",
       "    <tr>\n",
       "      <th>0</th>\n",
       "      <td>-2.840530</td>\n",
       "      <td>1.212760</td>\n",
       "      <td>0.117346</td>\n",
       "      <td>0.515680</td>\n",
       "      <td>0.011387</td>\n",
       "    </tr>\n",
       "    <tr>\n",
       "      <th>1</th>\n",
       "      <td>0.658917</td>\n",
       "      <td>-0.729772</td>\n",
       "      <td>-0.655794</td>\n",
       "      <td>0.582241</td>\n",
       "      <td>-0.103071</td>\n",
       "    </tr>\n",
       "    <tr>\n",
       "      <th>2</th>\n",
       "      <td>-0.148468</td>\n",
       "      <td>-0.813648</td>\n",
       "      <td>-0.894686</td>\n",
       "      <td>-0.917730</td>\n",
       "      <td>0.489998</td>\n",
       "    </tr>\n",
       "    <tr>\n",
       "      <th>3</th>\n",
       "      <td>-3.322142</td>\n",
       "      <td>-0.058810</td>\n",
       "      <td>1.002697</td>\n",
       "      <td>-1.774372</td>\n",
       "      <td>0.513003</td>\n",
       "    </tr>\n",
       "    <tr>\n",
       "      <th>4</th>\n",
       "      <td>1.025975</td>\n",
       "      <td>-0.797065</td>\n",
       "      <td>0.192195</td>\n",
       "      <td>0.154894</td>\n",
       "      <td>-0.340844</td>\n",
       "    </tr>\n",
       "  </tbody>\n",
       "</table>\n",
       "</div>"
      ],
      "text/plain": [
       "        PC1       PC2       PC3       PC4       PC5\n",
       "0 -2.840530  1.212760  0.117346  0.515680  0.011387\n",
       "1  0.658917 -0.729772 -0.655794  0.582241 -0.103071\n",
       "2 -0.148468 -0.813648 -0.894686 -0.917730  0.489998\n",
       "3 -3.322142 -0.058810  1.002697 -1.774372  0.513003\n",
       "4  1.025975 -0.797065  0.192195  0.154894 -0.340844"
      ]
     },
     "execution_count": 58,
     "metadata": {},
     "output_type": "execute_result"
    }
   ],
   "source": [
    "country_reduced=pd.DataFrame(country_reduced)\n",
    "country_reduced.columns = ['PC1', 'PC2', 'PC3', 'PC4', 'PC5']\n",
    "country_reduced.head(5)"
   ]
  },
  {
   "cell_type": "markdown",
   "metadata": {},
   "source": [
    "### Hopkins Score calculation"
   ]
  },
  {
   "cell_type": "code",
   "execution_count": 59,
   "metadata": {},
   "outputs": [],
   "source": [
    "from sklearn.neighbors import NearestNeighbors\n",
    "from random import sample\n",
    "from numpy.random import uniform\n",
    "import numpy as np\n",
    "from math import isnan\n",
    " \n",
    "def hopkins(X):\n",
    "    d = X.shape[1]\n",
    "    #d = len(vars) # columns\n",
    "    n = len(X) # rows\n",
    "    m = int(0.1 * n) \n",
    "    nbrs = NearestNeighbors(n_neighbors=1).fit(X.values)\n",
    " \n",
    "    rand_X = sample(range(0, n, 1), m)\n",
    " \n",
    "    ujd = []\n",
    "    wjd = []\n",
    "    for j in range(0, m):\n",
    "        u_dist, _ = nbrs.kneighbors(uniform(np.amin(X,axis=0),np.amax(X,axis=0),d).reshape(1, -1), 2, return_distance=True)\n",
    "        ujd.append(u_dist[0][1])\n",
    "        w_dist, _ = nbrs.kneighbors(X.iloc[rand_X[j]].values.reshape(1, -1), 2, return_distance=True)\n",
    "        wjd.append(w_dist[0][1])\n",
    " \n",
    "    H = sum(ujd) / (sum(ujd) + sum(wjd))\n",
    "    if isnan(H):\n",
    "        print(ujd, wjd)\n",
    "        H = 0\n",
    " \n",
    "    return H"
   ]
  },
  {
   "cell_type": "code",
   "execution_count": 60,
   "metadata": {},
   "outputs": [
    {
     "data": {
      "text/plain": [
       "0.712571070171076"
      ]
     },
     "execution_count": 60,
     "metadata": {},
     "output_type": "execute_result"
    }
   ],
   "source": [
    "hopkins(country_reduced)\n",
    "## High tendency to cluster"
   ]
  },
  {
   "cell_type": "markdown",
   "metadata": {},
   "source": [
    "### K Means Clustering"
   ]
  },
  {
   "cell_type": "code",
   "execution_count": 61,
   "metadata": {},
   "outputs": [
    {
     "data": {
      "text/plain": [
       "KMeans(algorithm='auto', copy_x=True, init='k-means++', max_iter=50,\n",
       "    n_clusters=5, n_init=10, n_jobs=None, precompute_distances='auto',\n",
       "    random_state=None, tol=0.0001, verbose=0)"
      ]
     },
     "execution_count": 61,
     "metadata": {},
     "output_type": "execute_result"
    }
   ],
   "source": [
    "# Kmeans with K=5\n",
    "model_clus5 = KMeans(n_clusters = 5, max_iter=50)\n",
    "model_clus5.fit(country_reduced)"
   ]
  },
  {
   "cell_type": "code",
   "execution_count": 63,
   "metadata": {},
   "outputs": [
    {
     "data": {
      "text/plain": [
       "{0: 24, 1: 22, 2: 37, 3: 20, 4: 40}"
      ]
     },
     "execution_count": 63,
     "metadata": {},
     "output_type": "execute_result"
    }
   ],
   "source": [
    "unique, counts = np.unique(model_clus5.labels_, return_counts=True)\n",
    "dict(zip(unique, counts))\n",
    "\n",
    "### Getting count of countries per cluster"
   ]
  },
  {
   "cell_type": "code",
   "execution_count": 64,
   "metadata": {},
   "outputs": [
    {
     "data": {
      "text/html": [
       "<div>\n",
       "<style scoped>\n",
       "    .dataframe tbody tr th:only-of-type {\n",
       "        vertical-align: middle;\n",
       "    }\n",
       "\n",
       "    .dataframe tbody tr th {\n",
       "        vertical-align: top;\n",
       "    }\n",
       "\n",
       "    .dataframe thead th {\n",
       "        text-align: right;\n",
       "    }\n",
       "</style>\n",
       "<table border=\"1\" class=\"dataframe\">\n",
       "  <thead>\n",
       "    <tr style=\"text-align: right;\">\n",
       "      <th></th>\n",
       "      <th>PC1</th>\n",
       "      <th>PC2</th>\n",
       "      <th>PC3</th>\n",
       "      <th>PC4</th>\n",
       "      <th>PC5</th>\n",
       "      <th>ClusterID</th>\n",
       "      <th>child_mort</th>\n",
       "      <th>exports</th>\n",
       "      <th>health</th>\n",
       "      <th>imports</th>\n",
       "      <th>income</th>\n",
       "      <th>inflation</th>\n",
       "      <th>life_expec</th>\n",
       "      <th>total_fer</th>\n",
       "      <th>gdpp</th>\n",
       "      <th>country</th>\n",
       "    </tr>\n",
       "  </thead>\n",
       "  <tbody>\n",
       "    <tr>\n",
       "      <th>0</th>\n",
       "      <td>-2.840530</td>\n",
       "      <td>1.212760</td>\n",
       "      <td>0.117346</td>\n",
       "      <td>0.515680</td>\n",
       "      <td>0.011387</td>\n",
       "      <td>3</td>\n",
       "      <td>1.291532</td>\n",
       "      <td>-1.138280</td>\n",
       "      <td>0.279088</td>\n",
       "      <td>-0.082455</td>\n",
       "      <td>-0.808245</td>\n",
       "      <td>0.157336</td>\n",
       "      <td>-1.619092</td>\n",
       "      <td>1.902882</td>\n",
       "      <td>-0.679180</td>\n",
       "      <td>Afghanistan</td>\n",
       "    </tr>\n",
       "    <tr>\n",
       "      <th>1</th>\n",
       "      <td>0.658917</td>\n",
       "      <td>-0.729772</td>\n",
       "      <td>-0.655794</td>\n",
       "      <td>0.582241</td>\n",
       "      <td>-0.103071</td>\n",
       "      <td>2</td>\n",
       "      <td>-0.538949</td>\n",
       "      <td>-0.479658</td>\n",
       "      <td>-0.097016</td>\n",
       "      <td>0.070837</td>\n",
       "      <td>-0.375369</td>\n",
       "      <td>-0.312347</td>\n",
       "      <td>0.647866</td>\n",
       "      <td>-0.859973</td>\n",
       "      <td>-0.485623</td>\n",
       "      <td>Albania</td>\n",
       "    </tr>\n",
       "    <tr>\n",
       "      <th>2</th>\n",
       "      <td>-0.148468</td>\n",
       "      <td>-0.813648</td>\n",
       "      <td>-0.894686</td>\n",
       "      <td>-0.917730</td>\n",
       "      <td>0.489998</td>\n",
       "      <td>2</td>\n",
       "      <td>-0.272833</td>\n",
       "      <td>-0.099122</td>\n",
       "      <td>-0.966073</td>\n",
       "      <td>-0.641762</td>\n",
       "      <td>-0.220844</td>\n",
       "      <td>0.789274</td>\n",
       "      <td>0.670423</td>\n",
       "      <td>-0.038404</td>\n",
       "      <td>-0.465376</td>\n",
       "      <td>Algeria</td>\n",
       "    </tr>\n",
       "    <tr>\n",
       "      <th>3</th>\n",
       "      <td>-3.322142</td>\n",
       "      <td>-0.058810</td>\n",
       "      <td>1.002697</td>\n",
       "      <td>-1.774372</td>\n",
       "      <td>0.513003</td>\n",
       "      <td>3</td>\n",
       "      <td>2.007808</td>\n",
       "      <td>0.775381</td>\n",
       "      <td>-1.448071</td>\n",
       "      <td>-0.165315</td>\n",
       "      <td>-0.585043</td>\n",
       "      <td>1.387054</td>\n",
       "      <td>-1.179234</td>\n",
       "      <td>2.128151</td>\n",
       "      <td>-0.516268</td>\n",
       "      <td>Angola</td>\n",
       "    </tr>\n",
       "    <tr>\n",
       "      <th>4</th>\n",
       "      <td>1.025975</td>\n",
       "      <td>-0.797065</td>\n",
       "      <td>0.192195</td>\n",
       "      <td>0.154894</td>\n",
       "      <td>-0.340844</td>\n",
       "      <td>4</td>\n",
       "      <td>-0.695634</td>\n",
       "      <td>0.160668</td>\n",
       "      <td>-0.286894</td>\n",
       "      <td>0.497568</td>\n",
       "      <td>0.101732</td>\n",
       "      <td>-0.601749</td>\n",
       "      <td>0.704258</td>\n",
       "      <td>-0.541946</td>\n",
       "      <td>-0.041817</td>\n",
       "      <td>Antigua and Barbuda</td>\n",
       "    </tr>\n",
       "  </tbody>\n",
       "</table>\n",
       "</div>"
      ],
      "text/plain": [
       "        PC1       PC2       PC3       PC4       PC5  ClusterID  child_mort  \\\n",
       "0 -2.840530  1.212760  0.117346  0.515680  0.011387          3    1.291532   \n",
       "1  0.658917 -0.729772 -0.655794  0.582241 -0.103071          2   -0.538949   \n",
       "2 -0.148468 -0.813648 -0.894686 -0.917730  0.489998          2   -0.272833   \n",
       "3 -3.322142 -0.058810  1.002697 -1.774372  0.513003          3    2.007808   \n",
       "4  1.025975 -0.797065  0.192195  0.154894 -0.340844          4   -0.695634   \n",
       "\n",
       "    exports    health   imports    income  inflation  life_expec  total_fer  \\\n",
       "0 -1.138280  0.279088 -0.082455 -0.808245   0.157336   -1.619092   1.902882   \n",
       "1 -0.479658 -0.097016  0.070837 -0.375369  -0.312347    0.647866  -0.859973   \n",
       "2 -0.099122 -0.966073 -0.641762 -0.220844   0.789274    0.670423  -0.038404   \n",
       "3  0.775381 -1.448071 -0.165315 -0.585043   1.387054   -1.179234   2.128151   \n",
       "4  0.160668 -0.286894  0.497568  0.101732  -0.601749    0.704258  -0.541946   \n",
       "\n",
       "       gdpp              country  \n",
       "0 -0.679180          Afghanistan  \n",
       "1 -0.485623              Albania  \n",
       "2 -0.465376              Algeria  \n",
       "3 -0.516268               Angola  \n",
       "4 -0.041817  Antigua and Barbuda  "
      ]
     },
     "execution_count": 64,
     "metadata": {},
     "output_type": "execute_result"
    }
   ],
   "source": [
    "### analysis of clusters formed\n",
    "pca_km = pd.concat([country_reduced, pd.Series(model_clus5.labels_),country_norm_after_outlierremoval_withcountry], axis=1)\n",
    "pca_km.columns = ['PC1','PC2', 'PC3', 'PC4','PC5', 'ClusterID','child_mort','exports','health','imports','income','inflation','life_expec','total_fer','gdpp','country']\n",
    "pca_km.head()"
   ]
  },
  {
   "cell_type": "code",
   "execution_count": 65,
   "metadata": {},
   "outputs": [],
   "source": [
    "# analysis of clusters formed - getting the mean values per attribute per Cluster.\n",
    "\n",
    "km_clusters_child_mort = pd.DataFrame(pca_km.groupby([\"ClusterID\"]).child_mort.mean())\n",
    "km_clusters_exports = pd.DataFrame(pca_km.groupby([\"ClusterID\"]).exports.mean())\n",
    "km_clusters_health = pd.DataFrame(pca_km.groupby([\"ClusterID\"]).health.mean())\n",
    "km_clusters_imports = pd.DataFrame(pca_km.groupby([\"ClusterID\"]).imports.mean())\n",
    "km_clusters_income = pd.DataFrame(pca_km.groupby([\"ClusterID\"]).income.mean())\n",
    "km_clusters_inflation = pd.DataFrame(pca_km.groupby([\"ClusterID\"]).inflation.mean())\n",
    "km_clusters_life_expec = pd.DataFrame(pca_km.groupby([\"ClusterID\"]).life_expec.mean())\n",
    "km_clusters_total_fer = pd.DataFrame(pca_km.groupby([\"ClusterID\"]).total_fer.mean())\n",
    "km_clusters_gdpp = pd.DataFrame(pca_km.groupby([\"ClusterID\"]).gdpp.mean())\n"
   ]
  },
  {
   "cell_type": "code",
   "execution_count": 66,
   "metadata": {},
   "outputs": [
    {
     "data": {
      "text/html": [
       "<div>\n",
       "<style scoped>\n",
       "    .dataframe tbody tr th:only-of-type {\n",
       "        vertical-align: middle;\n",
       "    }\n",
       "\n",
       "    .dataframe tbody tr th {\n",
       "        vertical-align: top;\n",
       "    }\n",
       "\n",
       "    .dataframe thead th {\n",
       "        text-align: right;\n",
       "    }\n",
       "</style>\n",
       "<table border=\"1\" class=\"dataframe\">\n",
       "  <thead>\n",
       "    <tr style=\"text-align: right;\">\n",
       "      <th></th>\n",
       "      <th>ClusterID</th>\n",
       "      <th>Child Mort mean</th>\n",
       "      <th>Exports mean</th>\n",
       "      <th>Health mean</th>\n",
       "      <th>imports mean</th>\n",
       "      <th>income mean</th>\n",
       "      <th>inflation mean</th>\n",
       "      <th>life_expec mean</th>\n",
       "      <th>total_fer mean</th>\n",
       "      <th>gdpp mean</th>\n",
       "    </tr>\n",
       "  </thead>\n",
       "  <tbody>\n",
       "    <tr>\n",
       "      <th>0</th>\n",
       "      <td>0</td>\n",
       "      <td>0.649040</td>\n",
       "      <td>-0.095935</td>\n",
       "      <td>-0.576732</td>\n",
       "      <td>-0.105069</td>\n",
       "      <td>-0.560157</td>\n",
       "      <td>0.274876</td>\n",
       "      <td>-0.797179</td>\n",
       "      <td>0.800004</td>\n",
       "      <td>-0.541151</td>\n",
       "    </tr>\n",
       "    <tr>\n",
       "      <th>1</th>\n",
       "      <td>1</td>\n",
       "      <td>-0.848363</td>\n",
       "      <td>0.033268</td>\n",
       "      <td>1.227648</td>\n",
       "      <td>-0.315782</td>\n",
       "      <td>1.181322</td>\n",
       "      <td>-0.611224</td>\n",
       "      <td>1.176926</td>\n",
       "      <td>-0.756976</td>\n",
       "      <td>1.768530</td>\n",
       "    </tr>\n",
       "    <tr>\n",
       "      <th>2</th>\n",
       "      <td>2</td>\n",
       "      <td>-0.331850</td>\n",
       "      <td>-0.494215</td>\n",
       "      <td>-0.438382</td>\n",
       "      <td>-0.541882</td>\n",
       "      <td>-0.338837</td>\n",
       "      <td>0.083328</td>\n",
       "      <td>0.256475</td>\n",
       "      <td>-0.348552</td>\n",
       "      <td>-0.417589</td>\n",
       "    </tr>\n",
       "    <tr>\n",
       "      <th>3</th>\n",
       "      <td>3</td>\n",
       "      <td>1.819039</td>\n",
       "      <td>-0.533592</td>\n",
       "      <td>0.084646</td>\n",
       "      <td>-0.261019</td>\n",
       "      <td>-0.802691</td>\n",
       "      <td>0.160894</td>\n",
       "      <td>-1.640521</td>\n",
       "      <td>1.780310</td>\n",
       "      <td>-0.667474</td>\n",
       "    </tr>\n",
       "    <tr>\n",
       "      <th>4</th>\n",
       "      <td>4</td>\n",
       "      <td>-0.624255</td>\n",
       "      <td>0.459426</td>\n",
       "      <td>0.071227</td>\n",
       "      <td>0.524911</td>\n",
       "      <td>-0.030551</td>\n",
       "      <td>-0.345218</td>\n",
       "      <td>0.483766</td>\n",
       "      <td>-0.689365</td>\n",
       "      <td>-0.162646</td>\n",
       "    </tr>\n",
       "  </tbody>\n",
       "</table>\n",
       "</div>"
      ],
      "text/plain": [
       "   ClusterID  Child Mort mean  Exports mean  Health mean  imports mean  \\\n",
       "0          0         0.649040     -0.095935    -0.576732     -0.105069   \n",
       "1          1        -0.848363      0.033268     1.227648     -0.315782   \n",
       "2          2        -0.331850     -0.494215    -0.438382     -0.541882   \n",
       "3          3         1.819039     -0.533592     0.084646     -0.261019   \n",
       "4          4        -0.624255      0.459426     0.071227      0.524911   \n",
       "\n",
       "   income mean  inflation mean  life_expec mean  total_fer mean  gdpp mean  \n",
       "0    -0.560157        0.274876        -0.797179        0.800004  -0.541151  \n",
       "1     1.181322       -0.611224         1.176926       -0.756976   1.768530  \n",
       "2    -0.338837        0.083328         0.256475       -0.348552  -0.417589  \n",
       "3    -0.802691        0.160894        -1.640521        1.780310  -0.667474  \n",
       "4    -0.030551       -0.345218         0.483766       -0.689365  -0.162646  "
      ]
     },
     "execution_count": 66,
     "metadata": {},
     "output_type": "execute_result"
    }
   ],
   "source": [
    "### Creation dataframe of the mean values\n",
    "\n",
    "df = pd.concat([pd.Series([0,1,2,3,4]), km_clusters_child_mort, km_clusters_exports, km_clusters_health,km_clusters_imports,km_clusters_income,km_clusters_inflation,km_clusters_life_expec,km_clusters_total_fer,km_clusters_gdpp], axis=1)\n",
    "df.columns = [\"ClusterID\", \"Child Mort mean\", \"Exports mean\", \"Health mean\",\"imports mean\",'income mean','inflation mean','life_expec mean','total_fer mean','gdpp mean']\n",
    "df"
   ]
  },
  {
   "cell_type": "code",
   "execution_count": 67,
   "metadata": {},
   "outputs": [
    {
     "data": {
      "image/png": "[encoded data removed]",
      "text/plain": [
       "<Figure size 1080x720 with 9 Axes>"
      ]
     },
     "metadata": {
      "needs_background": "light"
     },
     "output_type": "display_data"
    }
   ],
   "source": [
    "plt.figure(figsize=(15,10))\n",
    "plt.subplot(3,3,1)\n",
    "sns.barplot(x=df.ClusterID, y=df['Child Mort mean'])\n",
    "plt.subplot(3,3,2)\n",
    "sns.barplot(x=df.ClusterID, y=df['Exports mean'])\n",
    "plt.subplot(3,3,3)\n",
    "sns.barplot(x=df.ClusterID, y=df['Health mean'])\n",
    "plt.subplot(3,3,4)\n",
    "sns.barplot(x=df.ClusterID, y=df['imports mean'])\n",
    "plt.subplot(3,3,5)\n",
    "sns.barplot(x=df.ClusterID, y=df['income mean'])\n",
    "plt.subplot(3,3,6)\n",
    "sns.barplot(x=df.ClusterID, y=df['inflation mean'])\n",
    "plt.subplot(3,3,7)\n",
    "sns.barplot(x=df.ClusterID, y=df['life_expec mean'])\n",
    "plt.subplot(3,3,8)\n",
    "sns.barplot(x=df.ClusterID, y=df['total_fer mean'])\n",
    "plt.subplot(3,3,9)\n",
    "sns.barplot(x=df.ClusterID, y=df['gdpp mean'])\n",
    "plt.show()"
   ]
  },
  {
   "cell_type": "markdown",
   "metadata": {},
   "source": [
    "Two clusters with low life expectancy and child mortality :\n",
    "\n",
    "1. Cluster # 3 \n",
    "2. Cluster # 0 "
   ]
  },
  {
   "cell_type": "markdown",
   "metadata": {},
   "source": [
    "#### Silhouette Score Analysis"
   ]
  },
  {
   "cell_type": "code",
   "execution_count": 68,
   "metadata": {},
   "outputs": [],
   "source": [
    "from sklearn.metrics import silhouette_score\n",
    "sse_ = []\n",
    "for k in range(2, 15):\n",
    "    kmeans = KMeans(n_clusters=k).fit(country_reduced)\n",
    "    sse_.append([k, silhouette_score(country_reduced, kmeans.labels_)])"
   ]
  },
  {
   "cell_type": "code",
   "execution_count": 70,
   "metadata": {},
   "outputs": [
    {
     "data": {
      "image/png": "[encoded data removed]",
      "text/plain": [
       "<Figure size 432x288 with 1 Axes>"
      ]
     },
     "metadata": {
      "needs_background": "light"
     },
     "output_type": "display_data"
    }
   ],
   "source": [
    "plt.plot(pd.DataFrame(sse_)[0], pd.DataFrame(sse_)[1]);\n",
    "\n",
    "### Beyond 5 clsuters doesnt seem preferable as the elements within cluster can be dissimilar."
   ]
  },
  {
   "cell_type": "code",
   "execution_count": 72,
   "metadata": {},
   "outputs": [
    {
     "data": {
      "text/plain": [
       "[<matplotlib.lines.Line2D at 0x284d20fe1d0>]"
      ]
     },
     "execution_count": 72,
     "metadata": {},
     "output_type": "execute_result"
    },
    {
     "data": {
      "image/png": "[encoded data removed]",
      "text/plain": [
       "<Figure size 432x288 with 1 Axes>"
      ]
     },
     "metadata": {
      "needs_background": "light"
     },
     "output_type": "display_data"
    }
   ],
   "source": [
    "# sum of squared distances  - Elbow Method\n",
    "ssd = []\n",
    "for num_clusters in list(range(1,21)):\n",
    "    model_clus = KMeans(n_clusters = num_clusters, max_iter=50)\n",
    "    model_clus.fit(country_reduced)\n",
    "    ssd.append(model_clus.inertia_)\n",
    "\n",
    "plt.plot(ssd)\n",
    "\n",
    "### 5 clsuters seem optimal"
   ]
  },
  {
   "cell_type": "markdown",
   "metadata": {},
   "source": [
    "#### KMeans with 6 Clusters"
   ]
  },
  {
   "cell_type": "code",
   "execution_count": 75,
   "metadata": {},
   "outputs": [
    {
     "data": {
      "text/plain": [
       "KMeans(algorithm='auto', copy_x=True, init='k-means++', max_iter=50,\n",
       "    n_clusters=6, n_init=10, n_jobs=None, precompute_distances='auto',\n",
       "    random_state=None, tol=0.0001, verbose=0)"
      ]
     },
     "execution_count": 75,
     "metadata": {},
     "output_type": "execute_result"
    }
   ],
   "source": [
    "# Kmeans with K=6\n",
    "model_clus6 = KMeans(n_clusters = 6, max_iter=50)\n",
    "model_clus6.fit(country_reduced)"
   ]
  },
  {
   "cell_type": "code",
   "execution_count": 76,
   "metadata": {},
   "outputs": [
    {
     "data": {
      "text/plain": [
       "{0: 20, 1: 34, 2: 22, 3: 19, 4: 32, 5: 16}"
      ]
     },
     "execution_count": 76,
     "metadata": {},
     "output_type": "execute_result"
    }
   ],
   "source": [
    "unique, counts = np.unique(model_clus6.labels_, return_counts=True)\n",
    "dict(zip(unique, counts))"
   ]
  },
  {
   "cell_type": "code",
   "execution_count": 86,
   "metadata": {},
   "outputs": [
    {
     "data": {
      "text/html": [
       "<div>\n",
       "<style scoped>\n",
       "    .dataframe tbody tr th:only-of-type {\n",
       "        vertical-align: middle;\n",
       "    }\n",
       "\n",
       "    .dataframe tbody tr th {\n",
       "        vertical-align: top;\n",
       "    }\n",
       "\n",
       "    .dataframe thead th {\n",
       "        text-align: right;\n",
       "    }\n",
       "</style>\n",
       "<table border=\"1\" class=\"dataframe\">\n",
       "  <thead>\n",
       "    <tr style=\"text-align: right;\">\n",
       "      <th></th>\n",
       "      <th>PC1</th>\n",
       "      <th>PC2</th>\n",
       "      <th>PC3</th>\n",
       "      <th>PC4</th>\n",
       "      <th>PC5</th>\n",
       "      <th>ClusterID</th>\n",
       "      <th>child_mort</th>\n",
       "      <th>exports</th>\n",
       "      <th>health</th>\n",
       "      <th>imports</th>\n",
       "      <th>income</th>\n",
       "      <th>inflation</th>\n",
       "      <th>life_expec</th>\n",
       "      <th>total_fer</th>\n",
       "      <th>gdpp</th>\n",
       "      <th>country</th>\n",
       "    </tr>\n",
       "  </thead>\n",
       "  <tbody>\n",
       "    <tr>\n",
       "      <th>0</th>\n",
       "      <td>-2.840530</td>\n",
       "      <td>1.212760</td>\n",
       "      <td>0.117346</td>\n",
       "      <td>0.515680</td>\n",
       "      <td>0.011387</td>\n",
       "      <td>0</td>\n",
       "      <td>1.291532</td>\n",
       "      <td>-1.138280</td>\n",
       "      <td>0.279088</td>\n",
       "      <td>-0.082455</td>\n",
       "      <td>-0.808245</td>\n",
       "      <td>0.157336</td>\n",
       "      <td>-1.619092</td>\n",
       "      <td>1.902882</td>\n",
       "      <td>-0.679180</td>\n",
       "      <td>Afghanistan</td>\n",
       "    </tr>\n",
       "    <tr>\n",
       "      <th>1</th>\n",
       "      <td>0.658917</td>\n",
       "      <td>-0.729772</td>\n",
       "      <td>-0.655794</td>\n",
       "      <td>0.582241</td>\n",
       "      <td>-0.103071</td>\n",
       "      <td>1</td>\n",
       "      <td>-0.538949</td>\n",
       "      <td>-0.479658</td>\n",
       "      <td>-0.097016</td>\n",
       "      <td>0.070837</td>\n",
       "      <td>-0.375369</td>\n",
       "      <td>-0.312347</td>\n",
       "      <td>0.647866</td>\n",
       "      <td>-0.859973</td>\n",
       "      <td>-0.485623</td>\n",
       "      <td>Albania</td>\n",
       "    </tr>\n",
       "  </tbody>\n",
       "</table>\n",
       "</div>"
      ],
      "text/plain": [
       "        PC1       PC2       PC3       PC4       PC5  ClusterID  child_mort  \\\n",
       "0 -2.840530  1.212760  0.117346  0.515680  0.011387          0    1.291532   \n",
       "1  0.658917 -0.729772 -0.655794  0.582241 -0.103071          1   -0.538949   \n",
       "\n",
       "    exports    health   imports    income  inflation  life_expec  total_fer  \\\n",
       "0 -1.138280  0.279088 -0.082455 -0.808245   0.157336   -1.619092   1.902882   \n",
       "1 -0.479658 -0.097016  0.070837 -0.375369  -0.312347    0.647866  -0.859973   \n",
       "\n",
       "       gdpp      country  \n",
       "0 -0.679180  Afghanistan  \n",
       "1 -0.485623      Albania  "
      ]
     },
     "execution_count": 86,
     "metadata": {},
     "output_type": "execute_result"
    }
   ],
   "source": [
    "pca_km_6 = pd.concat([country_reduced, pd.Series(model_clus6.labels_), country_norm_after_outlierremoval_withcountry], axis=1)\n",
    "#pca_km_6.drop(['child_mort','exports', 'health','imports','income','inflation','life_expec','total_fer','gdpp'], axis=1,inplace=True)\n",
    "pca_km_6.columns = ['PC1','PC2', 'PC3', 'PC4','PC5', 'ClusterID','child_mort','exports','health','imports','income','inflation','life_expec','total_fer','gdpp','country']\n",
    "pca_km_6.head(2)"
   ]
  },
  {
   "cell_type": "code",
   "execution_count": 87,
   "metadata": {},
   "outputs": [],
   "source": [
    "# analysis of clusters formed - Cluster 6 \n",
    "km_clusters_child_mort6 = pd.DataFrame(pca_km_6.groupby([\"ClusterID\"]).child_mort.mean())\n",
    "km_clusters_exports6 = pd.DataFrame(pca_km_6.groupby([\"ClusterID\"]).exports.mean())\n",
    "km_clusters_health6 = pd.DataFrame(pca_km_6.groupby([\"ClusterID\"]).health.mean())\n",
    "km_clusters_imports6 = pd.DataFrame(pca_km_6.groupby([\"ClusterID\"]).imports.mean())\n",
    "km_clusters_income6 = pd.DataFrame(pca_km_6.groupby([\"ClusterID\"]).income.mean())\n",
    "km_clusters_inflation6 = pd.DataFrame(pca_km_6.groupby([\"ClusterID\"]).inflation.mean())\n",
    "km_clusters_life_expec6 = pd.DataFrame(pca_km_6.groupby([\"ClusterID\"]).life_expec.mean())\n",
    "km_clusters_total_fer6 = pd.DataFrame(pca_km_6.groupby([\"ClusterID\"]).total_fer.mean())\n",
    "km_clusters_gdpp6 = pd.DataFrame(pca_km_6.groupby([\"ClusterID\"]).gdpp.mean())"
   ]
  },
  {
   "cell_type": "code",
   "execution_count": 88,
   "metadata": {},
   "outputs": [
    {
     "data": {
      "text/html": [
       "<div>\n",
       "<style scoped>\n",
       "    .dataframe tbody tr th:only-of-type {\n",
       "        vertical-align: middle;\n",
       "    }\n",
       "\n",
       "    .dataframe tbody tr th {\n",
       "        vertical-align: top;\n",
       "    }\n",
       "\n",
       "    .dataframe thead th {\n",
       "        text-align: right;\n",
       "    }\n",
       "</style>\n",
       "<table border=\"1\" class=\"dataframe\">\n",
       "  <thead>\n",
       "    <tr style=\"text-align: right;\">\n",
       "      <th></th>\n",
       "      <th>ClusterID</th>\n",
       "      <th>Child Mort mean</th>\n",
       "      <th>Exports mean</th>\n",
       "      <th>Health mean</th>\n",
       "      <th>imports mean</th>\n",
       "      <th>income mean</th>\n",
       "      <th>inflation mean</th>\n",
       "      <th>life_expec mean</th>\n",
       "      <th>total_fer mean</th>\n",
       "      <th>gdpp mean</th>\n",
       "    </tr>\n",
       "  </thead>\n",
       "  <tbody>\n",
       "    <tr>\n",
       "      <th>0</th>\n",
       "      <td>0</td>\n",
       "      <td>1.770915</td>\n",
       "      <td>-0.604028</td>\n",
       "      <td>0.136497</td>\n",
       "      <td>-0.261433</td>\n",
       "      <td>-0.813721</td>\n",
       "      <td>0.075023</td>\n",
       "      <td>-1.610069</td>\n",
       "      <td>1.765402</td>\n",
       "      <td>-0.675595</td>\n",
       "    </tr>\n",
       "    <tr>\n",
       "      <th>1</th>\n",
       "      <td>1</td>\n",
       "      <td>-0.323086</td>\n",
       "      <td>-0.485061</td>\n",
       "      <td>-0.425329</td>\n",
       "      <td>-0.631770</td>\n",
       "      <td>-0.314832</td>\n",
       "      <td>0.139353</td>\n",
       "      <td>0.271699</td>\n",
       "      <td>-0.419763</td>\n",
       "      <td>-0.408431</td>\n",
       "    </tr>\n",
       "    <tr>\n",
       "      <th>2</th>\n",
       "      <td>2</td>\n",
       "      <td>-0.848363</td>\n",
       "      <td>0.033268</td>\n",
       "      <td>1.227648</td>\n",
       "      <td>-0.315782</td>\n",
       "      <td>1.181322</td>\n",
       "      <td>-0.611224</td>\n",
       "      <td>1.176926</td>\n",
       "      <td>-0.756976</td>\n",
       "      <td>1.768530</td>\n",
       "    </tr>\n",
       "    <tr>\n",
       "      <th>3</th>\n",
       "      <td>3</td>\n",
       "      <td>-0.084732</td>\n",
       "      <td>0.175882</td>\n",
       "      <td>-0.275171</td>\n",
       "      <td>0.597000</td>\n",
       "      <td>-0.561220</td>\n",
       "      <td>-0.209946</td>\n",
       "      <td>-0.371345</td>\n",
       "      <td>0.097245</td>\n",
       "      <td>-0.531839</td>\n",
       "    </tr>\n",
       "    <tr>\n",
       "      <th>4</th>\n",
       "      <td>4</td>\n",
       "      <td>-0.714365</td>\n",
       "      <td>0.450759</td>\n",
       "      <td>0.168402</td>\n",
       "      <td>0.425065</td>\n",
       "      <td>0.101033</td>\n",
       "      <td>-0.406216</td>\n",
       "      <td>0.599933</td>\n",
       "      <td>-0.825810</td>\n",
       "      <td>-0.064100</td>\n",
       "    </tr>\n",
       "    <tr>\n",
       "      <th>5</th>\n",
       "      <td>5</td>\n",
       "      <td>0.921581</td>\n",
       "      <td>-0.129789</td>\n",
       "      <td>-0.871819</td>\n",
       "      <td>-0.314464</td>\n",
       "      <td>-0.552981</td>\n",
       "      <td>0.614922</td>\n",
       "      <td>-0.767573</td>\n",
       "      <td>1.117340</td>\n",
       "      <td>-0.546192</td>\n",
       "    </tr>\n",
       "  </tbody>\n",
       "</table>\n",
       "</div>"
      ],
      "text/plain": [
       "   ClusterID  Child Mort mean  Exports mean  Health mean  imports mean  \\\n",
       "0          0         1.770915     -0.604028     0.136497     -0.261433   \n",
       "1          1        -0.323086     -0.485061    -0.425329     -0.631770   \n",
       "2          2        -0.848363      0.033268     1.227648     -0.315782   \n",
       "3          3        -0.084732      0.175882    -0.275171      0.597000   \n",
       "4          4        -0.714365      0.450759     0.168402      0.425065   \n",
       "5          5         0.921581     -0.129789    -0.871819     -0.314464   \n",
       "\n",
       "   income mean  inflation mean  life_expec mean  total_fer mean  gdpp mean  \n",
       "0    -0.813721        0.075023        -1.610069        1.765402  -0.675595  \n",
       "1    -0.314832        0.139353         0.271699       -0.419763  -0.408431  \n",
       "2     1.181322       -0.611224         1.176926       -0.756976   1.768530  \n",
       "3    -0.561220       -0.209946        -0.371345        0.097245  -0.531839  \n",
       "4     0.101033       -0.406216         0.599933       -0.825810  -0.064100  \n",
       "5    -0.552981        0.614922        -0.767573        1.117340  -0.546192  "
      ]
     },
     "execution_count": 88,
     "metadata": {},
     "output_type": "execute_result"
    }
   ],
   "source": [
    "df6 = pd.concat([pd.Series([0,1,2,3,4,5]), km_clusters_child_mort6, km_clusters_exports6, km_clusters_health6,km_clusters_imports6,km_clusters_income6,km_clusters_inflation6,km_clusters_life_expec6,km_clusters_total_fer6,km_clusters_gdpp6], axis=1)\n",
    "df6.columns = [\"ClusterID\", \"Child Mort mean\", \"Exports mean\", \"Health mean\",\"imports mean\",'income mean','inflation mean','life_expec mean','total_fer mean','gdpp mean']\n",
    "df6"
   ]
  },
  {
   "cell_type": "code",
   "execution_count": 90,
   "metadata": {},
   "outputs": [
    {
     "data": {
      "image/png": "[encoded data removed]",
      "text/plain": [
       "<Figure size 1080x720 with 9 Axes>"
      ]
     },
     "metadata": {
      "needs_background": "light"
     },
     "output_type": "display_data"
    }
   ],
   "source": [
    "plt.figure(figsize=(15,10))\n",
    "plt.subplot(3,3,1)\n",
    "sns.barplot(x=df6.ClusterID, y=df6['Child Mort mean'])\n",
    "plt.subplot(3,3,2)\n",
    "sns.barplot(x=df6.ClusterID, y=df6['Exports mean'])\n",
    "plt.subplot(3,3,3)\n",
    "sns.barplot(x=df6.ClusterID, y=df6['Health mean'])\n",
    "plt.subplot(3,3,4)\n",
    "sns.barplot(x=df6.ClusterID, y=df6['imports mean'])\n",
    "plt.subplot(3,3,5)\n",
    "sns.barplot(x=df6.ClusterID, y=df6['income mean'])\n",
    "plt.subplot(3,3,6)\n",
    "sns.barplot(x=df6.ClusterID, y=df6['inflation mean'])\n",
    "plt.subplot(3,3,7)\n",
    "sns.barplot(x=df6.ClusterID, y=df6['life_expec mean'])\n",
    "plt.subplot(3,3,8)\n",
    "sns.barplot(x=df6.ClusterID, y=df6['total_fer mean'])\n",
    "plt.subplot(3,3,9)\n",
    "sns.barplot(x=df6.ClusterID, y=df6['gdpp mean'])\n",
    "plt.show()"
   ]
  },
  {
   "cell_type": "markdown",
   "metadata": {},
   "source": [
    "Two clusters with low life expectancy and child mortality :\n",
    "\n",
    "1. Cluster # 0 \n",
    "2. Cluster # 5"
   ]
  },
  {
   "cell_type": "markdown",
   "metadata": {},
   "source": [
    "#### Analysis of Clusters identified above 2 iterations"
   ]
  },
  {
   "cell_type": "markdown",
   "metadata": {},
   "source": [
    "#### K Components = 5"
   ]
  },
  {
   "cell_type": "code",
   "execution_count": 94,
   "metadata": {},
   "outputs": [
    {
     "data": {
      "text/plain": [
       "array(['Afghanistan', 'Angola', 'Burkina Faso', 'Burundi', 'Chad',\n",
       "       'Congo, Dem. Rep.', \"Cote d'Ivoire\", 'Guinea', 'Guinea-Bissau',\n",
       "       'Haiti', 'Malawi', 'Mali', 'Mozambique', 'Niger', 'Rwanda',\n",
       "       'Sierra Leone', 'Tanzania', 'Togo', 'Uganda', 'Zambia'],\n",
       "      dtype=object)"
      ]
     },
     "execution_count": 94,
     "metadata": {},
     "output_type": "execute_result"
    }
   ],
   "source": [
    "## Countries belonging to Cluster #3 \n",
    "cl3_country_km5=pca_km.loc[(pca_km.ClusterID==3)]\n",
    "mean_cl3_life_expec_km5=cl3_country_km5.life_expec.mean()\n",
    "mean_cl3_child_mort_km5=cl3_country_km5.child_mort.mean()\n",
    "cl3_country_km5.country.unique()"
   ]
  },
  {
   "cell_type": "code",
   "execution_count": 95,
   "metadata": {},
   "outputs": [
    {
     "data": {
      "text/plain": [
       "array(['Botswana', 'Cambodia', 'Comoros', 'Congo, Rep.',\n",
       "       'Equatorial Guinea', 'Eritrea', 'Gabon', 'Gambia', 'Ghana', 'Iraq',\n",
       "       'Kenya', 'Lao', 'Madagascar', 'Mauritania', 'Namibia', 'Pakistan',\n",
       "       'Senegal', 'Solomon Islands', 'South Africa', 'Sudan',\n",
       "       'Tajikistan', 'Turkmenistan', 'Vanuatu', 'Yemen'], dtype=object)"
      ]
     },
     "execution_count": 95,
     "metadata": {},
     "output_type": "execute_result"
    }
   ],
   "source": [
    "## Countries belonging to Cluster # 0\n",
    "cl0_country_km5=pca_km.loc[(pca_km.ClusterID==0)]\n",
    "mean_cl0_life_expec_km5=cl0_country_km5.life_expec.mean()\n",
    "mean_cl0_child_mort_km5=cl0_country_km5.child_mort.mean()\n",
    "cl0_country_km5.country.unique()"
   ]
  },
  {
   "cell_type": "code",
   "execution_count": 106,
   "metadata": {},
   "outputs": [
    {
     "data": {
      "image/png": "[encoded data removed]",
      "text/plain": [
       "<Figure size 1800x1440 with 4 Axes>"
      ]
     },
     "metadata": {
      "needs_background": "light"
     },
     "output_type": "display_data"
    }
   ],
   "source": [
    "### analysis of Cluster 3 & 0 for life expectancy & Child Mortality - Top variable \n",
    "\n",
    "plt.figure(figsize=(25,20))\n",
    "plt.subplot(2,2,1)\n",
    "sns.boxplot(x='country', y='life_expec', data=cl3_country_km5 )\n",
    "plt.hlines(mean_cl3_life_expec_km5, 0,len(cl3_country_km5.country.unique()),color='red', linestyle='-')\n",
    "plt.title(\"Life Expectancy within Cluster3\")\n",
    "plt.xticks(rotation=90)\n",
    "plt.subplot(2,2,2)\n",
    "sns.boxplot(x='country', y='child_mort', data=cl3_country_km5 )\n",
    "plt.hlines(mean_cl3_child_mort_km5, 0,len(cl3_country_km5.country.unique()),color='red', linestyle='-')\n",
    "plt.title(\"Child Mortality within Cluster3\")\n",
    "plt.xticks(rotation=90)\n",
    "plt.subplot(2,2,3)\n",
    "sns.boxplot(x='country', y='life_expec', data=cl0_country_km5 )\n",
    "plt.hlines(mean_cl0_life_expec_km5, 0,len(cl0_country_km5.country.unique()),color='red', linestyle='-')\n",
    "plt.title(\"Life Expectancy within Cluster0\")\n",
    "plt.xticks(rotation=90)\n",
    "plt.subplot(2,2,4)\n",
    "sns.boxplot(x='country', y='child_mort', data=cl0_country_km5 )\n",
    "plt.hlines(mean_cl0_child_mort_km5, 0,len(cl0_country_km5.country.unique()),color='red', linestyle='-')\n",
    "plt.title(\"Child Mortality within Cluster0\")\n",
    "plt.xticks(rotation=90)\n",
    "plt.show()\n",
    "\n",
    "## Countries which are below the mean for life expectancy  - Cluster 3 \n",
    "# Guinea-Bissau, Haiti, Malawi, Mozambique, Sierra Leone, Zambia\n",
    "\n",
    "## Countries which are below the mean for Child mortality  - Cluster 3\n",
    "# Afghanistan, Burundi, Guinea, Malawi, Mozambique, Rwanda, Tanzania, Togo, Uganda, Zambia\n",
    "\n",
    "## Countries which are below the mean for life expectancy - Clusetr 0 \n",
    "# Botswana, Congo, Wquatorial Guinea, Eritrea, Gabon, Ghana, Kenya, Madagascar, Namibia, Solomon Islands, South Africa, Vanuatu\n",
    "\n",
    "## Countries which are below the mean for Child mortality  - Cluster 0\n",
    "#Botswana, Cambodia,Eritrea,Gabon,Iraq, Kenya, Madagascar, Namibia, Solomon Islanda, South Africa, Tajikistan, Turkmenistan, Vanuatu, Yemen\n"
   ]
  },
  {
   "cell_type": "markdown",
   "metadata": {},
   "source": [
    "#### K Components = 6"
   ]
  },
  {
   "cell_type": "code",
   "execution_count": 108,
   "metadata": {},
   "outputs": [
    {
     "data": {
      "text/plain": [
       "array(['Afghanistan', 'Burkina Faso', 'Burundi', 'Chad',\n",
       "       'Congo, Dem. Rep.', \"Cote d'Ivoire\", 'Gambia', 'Guinea',\n",
       "       'Guinea-Bissau', 'Haiti', 'Malawi', 'Mali', 'Mozambique', 'Niger',\n",
       "       'Rwanda', 'Sierra Leone', 'Tanzania', 'Togo', 'Uganda', 'Zambia'],\n",
       "      dtype=object)"
      ]
     },
     "execution_count": 108,
     "metadata": {},
     "output_type": "execute_result"
    }
   ],
   "source": [
    "## Countries belonging to Cluster #0 \n",
    "cl0_country_km6=pca_km_6.loc[(pca_km_6.ClusterID==0)]\n",
    "mean_cl0_life_expec_km6=cl0_country_km6.life_expec.mean()\n",
    "mean_cl0_child_mort_km6=cl0_country_km6.child_mort.mean()\n",
    "cl0_country_km6.country.unique()"
   ]
  },
  {
   "cell_type": "code",
   "execution_count": 109,
   "metadata": {},
   "outputs": [
    {
     "data": {
      "text/plain": [
       "array(['Angola', 'Comoros', 'Congo, Rep.', 'Equatorial Guinea', 'Eritrea',\n",
       "       'Gabon', 'Ghana', 'Iraq', 'Kenya', 'Lao', 'Madagascar',\n",
       "       'Mauritania', 'Pakistan', 'Senegal', 'Sudan', 'Yemen'],\n",
       "      dtype=object)"
      ]
     },
     "execution_count": 109,
     "metadata": {},
     "output_type": "execute_result"
    }
   ],
   "source": [
    "## Countries belonging to Cluster # 5\n",
    "cl5_country_km6=pca_km_6.loc[(pca_km_6.ClusterID==5)]\n",
    "mean_cl5_life_expec_km6=cl5_country_km6.life_expec.mean()\n",
    "mean_cl5_child_mort_km6=cl5_country_km6.child_mort.mean()\n",
    "cl5_country_km6.country.unique()"
   ]
  },
  {
   "cell_type": "code",
   "execution_count": 110,
   "metadata": {},
   "outputs": [
    {
     "data": {
      "image/png": "[encoded data removed]",
      "text/plain": [
       "<Figure size 1800x1440 with 4 Axes>"
      ]
     },
     "metadata": {
      "needs_background": "light"
     },
     "output_type": "display_data"
    }
   ],
   "source": [
    "### analysis of Cluster 0 & 5 for life expectancy & Child Mortality - Top variable \n",
    "\n",
    "plt.figure(figsize=(25,20))\n",
    "plt.subplot(2,2,1)\n",
    "sns.boxplot(x='country', y='life_expec', data=cl0_country_km6 )\n",
    "plt.hlines(mean_cl0_life_expec_km6, 0,len(cl0_country_km6.country.unique()),color='red', linestyle='-')\n",
    "plt.title(\"Life Expectancy within Cluster0\")\n",
    "plt.xticks(rotation=90)\n",
    "plt.subplot(2,2,2)\n",
    "sns.boxplot(x='country', y='child_mort', data=cl0_country_km6 )\n",
    "plt.hlines(mean_cl0_child_mort_km6, 0,len(cl0_country_km6.country.unique()),color='red', linestyle='-')\n",
    "plt.title(\"Child Mortality within Cluster0\")\n",
    "plt.xticks(rotation=90)\n",
    "plt.subplot(2,2,3)\n",
    "sns.boxplot(x='country', y='life_expec', data=cl5_country_km6 )\n",
    "plt.hlines(mean_cl5_life_expec_km6, 0,len(cl0_country_km5.country.unique()),color='red', linestyle='-')\n",
    "plt.title(\"Life Expectancy within Cluster5\")\n",
    "plt.xticks(rotation=90)\n",
    "plt.subplot(2,2,4)\n",
    "sns.boxplot(x='country', y='child_mort', data=cl5_country_km6 )\n",
    "plt.hlines(mean_cl5_child_mort_km6, 0,len(cl5_country_km6.country.unique()),color='red', linestyle='-')\n",
    "plt.title(\"Child Mortality within Cluster5\")\n",
    "plt.xticks(rotation=90)\n",
    "plt.show()\n",
    "\n",
    "## Countries which are below the mean for life expectancy  - Cluster 0 \n",
    "# Guinea-Bissau, Haiti, Malawi, Mozambique, Sierra Leone, Zambia\n",
    "\n",
    "## Countries which are below the mean for Child mortality  - Cluster 0\n",
    "# Afghanistan, Burundi, Gambia, Guinea-Bissau, Malawi, Mozambique, Rwanda, Tanzania, Togo, Uganda, Zambia\n",
    "\n",
    "## Countries which are below the mean for life expectancy - Clusetr 5 \n",
    "# Angola, Congo, Equatorial Guinea, Eritrea, Gabon, Ghana, Kenya, Madagascar\n",
    "\n",
    "## Countries which are below the mean for Child mortality  - Cluster 5\n",
    "# Angola, Congo, Eritrea,Gabon,Iraq, Kenya, Madagascar, Senegal, Yemen\n"
   ]
  },
  {
   "cell_type": "code",
   "execution_count": 114,
   "metadata": {},
   "outputs": [
    {
     "name": "stdout",
     "output_type": "stream",
     "text": [
      "Life Expec - K6 - Cl0 -1.610069305782682\n",
      "Life Expec - K6 - Cl5 -0.7675728047714413\n",
      "Life Expec - K5 - Cl3 -1.6405209865421244\n",
      "Life Expec - K5 - Cl0 -0.7971786055097883\n"
     ]
    }
   ],
   "source": [
    "print(\"Life Expec - K6 - Cl0\",mean_cl0_life_expec_km6)\n",
    "print(\"Life Expec - K6 - Cl5\",mean_cl5_life_expec_km6)\n",
    "print(\"Life Expec - K5 - Cl3\",mean_cl3_life_expec_km5)\n",
    "print(\"Life Expec - K5 - Cl0\",mean_cl0_life_expec_km5)\n",
    "\n",
    "### Lowest mean of Life expectancy is -1.6405209865421244"
   ]
  },
  {
   "cell_type": "code",
   "execution_count": 119,
   "metadata": {},
   "outputs": [
    {
     "data": {
      "text/html": [
       "<div>\n",
       "<style scoped>\n",
       "    .dataframe tbody tr th:only-of-type {\n",
       "        vertical-align: middle;\n",
       "    }\n",
       "\n",
       "    .dataframe tbody tr th {\n",
       "        vertical-align: top;\n",
       "    }\n",
       "\n",
       "    .dataframe thead th {\n",
       "        text-align: right;\n",
       "    }\n",
       "</style>\n",
       "<table border=\"1\" class=\"dataframe\">\n",
       "  <thead>\n",
       "    <tr style=\"text-align: right;\">\n",
       "      <th></th>\n",
       "      <th>child_mort</th>\n",
       "      <th>exports</th>\n",
       "      <th>health</th>\n",
       "      <th>imports</th>\n",
       "      <th>income</th>\n",
       "      <th>inflation</th>\n",
       "      <th>life_expec</th>\n",
       "      <th>total_fer</th>\n",
       "      <th>gdpp</th>\n",
       "      <th>country</th>\n",
       "    </tr>\n",
       "  </thead>\n",
       "  <tbody>\n",
       "    <tr>\n",
       "      <th>31</th>\n",
       "      <td>2.753928</td>\n",
       "      <td>-1.072418</td>\n",
       "      <td>-1.035452</td>\n",
       "      <td>-0.844770</td>\n",
       "      <td>-0.845810</td>\n",
       "      <td>-0.547664</td>\n",
       "      <td>-2.600313</td>\n",
       "      <td>1.498724</td>\n",
       "      <td>-0.685035</td>\n",
       "      <td>Central African Republic</td>\n",
       "    </tr>\n",
       "    <tr>\n",
       "      <th>64</th>\n",
       "      <td>1.883454</td>\n",
       "      <td>-0.958988</td>\n",
       "      <td>0.615026</td>\n",
       "      <td>-0.484328</td>\n",
       "      <td>-0.819692</td>\n",
       "      <td>-0.456574</td>\n",
       "      <td>-1.686762</td>\n",
       "      <td>1.392715</td>\n",
       "      <td>-0.679508</td>\n",
       "      <td>Guinea-Bissau</td>\n",
       "    </tr>\n",
       "    <tr>\n",
       "      <th>66</th>\n",
       "      <td>4.221297</td>\n",
       "      <td>-0.944352</td>\n",
       "      <td>0.034438</td>\n",
       "      <td>0.737863</td>\n",
       "      <td>-0.813969</td>\n",
       "      <td>-0.221257</td>\n",
       "      <td>-4.337186</td>\n",
       "      <td>0.253120</td>\n",
       "      <td>-0.673215</td>\n",
       "      <td>Haiti</td>\n",
       "    </tr>\n",
       "    <tr>\n",
       "      <th>87</th>\n",
       "      <td>1.527804</td>\n",
       "      <td>-0.062532</td>\n",
       "      <td>1.564416</td>\n",
       "      <td>2.241778</td>\n",
       "      <td>-0.768184</td>\n",
       "      <td>-0.344609</td>\n",
       "      <td>-2.713097</td>\n",
       "      <td>0.233243</td>\n",
       "      <td>-0.645415</td>\n",
       "      <td>Lesotho</td>\n",
       "    </tr>\n",
       "    <tr>\n",
       "      <th>94</th>\n",
       "      <td>1.298994</td>\n",
       "      <td>-0.669927</td>\n",
       "      <td>-0.082410</td>\n",
       "      <td>-0.496757</td>\n",
       "      <td>-0.838422</td>\n",
       "      <td>0.409732</td>\n",
       "      <td>-1.968722</td>\n",
       "      <td>1.564979</td>\n",
       "      <td>-0.684324</td>\n",
       "      <td>Malawi</td>\n",
       "    </tr>\n",
       "    <tr>\n",
       "      <th>106</th>\n",
       "      <td>1.560136</td>\n",
       "      <td>-0.351593</td>\n",
       "      <td>-0.586317</td>\n",
       "      <td>-0.028596</td>\n",
       "      <td>-0.844249</td>\n",
       "      <td>-0.013458</td>\n",
       "      <td>-1.810825</td>\n",
       "      <td>1.730618</td>\n",
       "      <td>-0.686513</td>\n",
       "      <td>Mozambique</td>\n",
       "    </tr>\n",
       "    <tr>\n",
       "      <th>132</th>\n",
       "      <td>3.027505</td>\n",
       "      <td>-0.889467</td>\n",
       "      <td>2.294716</td>\n",
       "      <td>-0.513329</td>\n",
       "      <td>-0.828536</td>\n",
       "      <td>0.893648</td>\n",
       "      <td>-1.754433</td>\n",
       "      <td>1.492098</td>\n",
       "      <td>-0.687607</td>\n",
       "      <td>Sierra Leone</td>\n",
       "    </tr>\n",
       "    <tr>\n",
       "      <th>137</th>\n",
       "      <td>0.383753</td>\n",
       "      <td>-0.457704</td>\n",
       "      <td>0.775692</td>\n",
       "      <td>-0.807483</td>\n",
       "      <td>-0.267670</td>\n",
       "      <td>-0.135860</td>\n",
       "      <td>-1.833382</td>\n",
       "      <td>-0.237171</td>\n",
       "      <td>-0.311056</td>\n",
       "      <td>South Africa</td>\n",
       "    </tr>\n",
       "    <tr>\n",
       "      <th>166</th>\n",
       "      <td>1.114951</td>\n",
       "      <td>-0.150348</td>\n",
       "      <td>-0.338015</td>\n",
       "      <td>-0.662477</td>\n",
       "      <td>-0.721358</td>\n",
       "      <td>0.590015</td>\n",
       "      <td>-2.092785</td>\n",
       "      <td>1.624609</td>\n",
       "      <td>-0.629546</td>\n",
       "      <td>Zambia</td>\n",
       "    </tr>\n",
       "  </tbody>\n",
       "</table>\n",
       "</div>"
      ],
      "text/plain": [
       "     child_mort   exports    health   imports    income  inflation  \\\n",
       "31     2.753928 -1.072418 -1.035452 -0.844770 -0.845810  -0.547664   \n",
       "64     1.883454 -0.958988  0.615026 -0.484328 -0.819692  -0.456574   \n",
       "66     4.221297 -0.944352  0.034438  0.737863 -0.813969  -0.221257   \n",
       "87     1.527804 -0.062532  1.564416  2.241778 -0.768184  -0.344609   \n",
       "94     1.298994 -0.669927 -0.082410 -0.496757 -0.838422   0.409732   \n",
       "106    1.560136 -0.351593 -0.586317 -0.028596 -0.844249  -0.013458   \n",
       "132    3.027505 -0.889467  2.294716 -0.513329 -0.828536   0.893648   \n",
       "137    0.383753 -0.457704  0.775692 -0.807483 -0.267670  -0.135860   \n",
       "166    1.114951 -0.150348 -0.338015 -0.662477 -0.721358   0.590015   \n",
       "\n",
       "     life_expec  total_fer      gdpp                   country  \n",
       "31    -2.600313   1.498724 -0.685035  Central African Republic  \n",
       "64    -1.686762   1.392715 -0.679508             Guinea-Bissau  \n",
       "66    -4.337186   0.253120 -0.673215                     Haiti  \n",
       "87    -2.713097   0.233243 -0.645415                   Lesotho  \n",
       "94    -1.968722   1.564979 -0.684324                    Malawi  \n",
       "106   -1.810825   1.730618 -0.686513                Mozambique  \n",
       "132   -1.754433   1.492098 -0.687607              Sierra Leone  \n",
       "137   -1.833382  -0.237171 -0.311056              South Africa  \n",
       "166   -2.092785   1.624609 -0.629546                    Zambia  "
      ]
     },
     "execution_count": 119,
     "metadata": {},
     "output_type": "execute_result"
    }
   ],
   "source": [
    "#Countries less than the mean calcualted above for life expectancy \n",
    "life_expec_belowmean=country_norm_with_country.loc[(country_norm_with_country.life_expec < -1.6405209865421244)]\n",
    "life_expec_belowmean"
   ]
  },
  {
   "cell_type": "code",
   "execution_count": 121,
   "metadata": {},
   "outputs": [
    {
     "name": "stdout",
     "output_type": "stream",
     "text": [
      "Child Mortality - K6 - Cl0 1.7709145324432676\n",
      "Child Mortality - K6 - Cl5 0.9215811690386919\n",
      "Child Mortality - K5 - Cl3 1.8190392779246103\n",
      "Child Mortality - K5 - Cl0 0.649040082441079\n"
     ]
    }
   ],
   "source": [
    "print(\"Child Mortality - K6 - Cl0\",mean_cl0_child_mort_km6)\n",
    "print(\"Child Mortality - K6 - Cl5\",mean_cl5_child_mort_km6)\n",
    "print(\"Child Mortality - K5 - Cl3\",mean_cl3_child_mort_km5)\n",
    "print(\"Child Mortality - K5 - Cl0\",mean_cl0_child_mort_km5)\n",
    "\n",
    "### Highest mean of child mortality is 1.8190392779246103"
   ]
  },
  {
   "cell_type": "code",
   "execution_count": 123,
   "metadata": {},
   "outputs": [
    {
     "data": {
      "text/html": [
       "<div>\n",
       "<style scoped>\n",
       "    .dataframe tbody tr th:only-of-type {\n",
       "        vertical-align: middle;\n",
       "    }\n",
       "\n",
       "    .dataframe tbody tr th {\n",
       "        vertical-align: top;\n",
       "    }\n",
       "\n",
       "    .dataframe thead th {\n",
       "        text-align: right;\n",
       "    }\n",
       "</style>\n",
       "<table border=\"1\" class=\"dataframe\">\n",
       "  <thead>\n",
       "    <tr style=\"text-align: right;\">\n",
       "      <th></th>\n",
       "      <th>child_mort</th>\n",
       "      <th>exports</th>\n",
       "      <th>health</th>\n",
       "      <th>imports</th>\n",
       "      <th>income</th>\n",
       "      <th>inflation</th>\n",
       "      <th>life_expec</th>\n",
       "      <th>total_fer</th>\n",
       "      <th>gdpp</th>\n",
       "      <th>country</th>\n",
       "    </tr>\n",
       "  </thead>\n",
       "  <tbody>\n",
       "    <tr>\n",
       "      <th>3</th>\n",
       "      <td>2.007808</td>\n",
       "      <td>0.775381</td>\n",
       "      <td>-1.448071</td>\n",
       "      <td>-0.165315</td>\n",
       "      <td>-0.585043</td>\n",
       "      <td>1.387054</td>\n",
       "      <td>-1.179234</td>\n",
       "      <td>2.128151</td>\n",
       "      <td>-0.516268</td>\n",
       "      <td>Angola</td>\n",
       "    </tr>\n",
       "    <tr>\n",
       "      <th>25</th>\n",
       "      <td>1.933196</td>\n",
       "      <td>-0.801651</td>\n",
       "      <td>-0.027638</td>\n",
       "      <td>-0.716337</td>\n",
       "      <td>-0.817611</td>\n",
       "      <td>-0.092213</td>\n",
       "      <td>-1.427359</td>\n",
       "      <td>1.936010</td>\n",
       "      <td>-0.677976</td>\n",
       "      <td>Burkina Faso</td>\n",
       "    </tr>\n",
       "    <tr>\n",
       "      <th>31</th>\n",
       "      <td>2.753928</td>\n",
       "      <td>-1.072418</td>\n",
       "      <td>-1.035452</td>\n",
       "      <td>-0.844770</td>\n",
       "      <td>-0.845810</td>\n",
       "      <td>-0.547664</td>\n",
       "      <td>-2.600313</td>\n",
       "      <td>1.498724</td>\n",
       "      <td>-0.685035</td>\n",
       "      <td>Central African Republic</td>\n",
       "    </tr>\n",
       "    <tr>\n",
       "      <th>32</th>\n",
       "      <td>2.778798</td>\n",
       "      <td>-0.157666</td>\n",
       "      <td>-0.834619</td>\n",
       "      <td>-0.140457</td>\n",
       "      <td>-0.791596</td>\n",
       "      <td>-0.132065</td>\n",
       "      <td>-1.585257</td>\n",
       "      <td>2.413050</td>\n",
       "      <td>-0.660355</td>\n",
       "      <td>Chad</td>\n",
       "    </tr>\n",
       "    <tr>\n",
       "      <th>37</th>\n",
       "      <td>1.933196</td>\n",
       "      <td>-0.000328</td>\n",
       "      <td>0.399588</td>\n",
       "      <td>0.112267</td>\n",
       "      <td>-0.860326</td>\n",
       "      <td>1.235237</td>\n",
       "      <td>-1.472473</td>\n",
       "      <td>2.379922</td>\n",
       "      <td>-0.691164</td>\n",
       "      <td>Congo, Dem. Rep.</td>\n",
       "    </tr>\n",
       "    <tr>\n",
       "      <th>64</th>\n",
       "      <td>1.883454</td>\n",
       "      <td>-0.958988</td>\n",
       "      <td>0.615026</td>\n",
       "      <td>-0.484328</td>\n",
       "      <td>-0.819692</td>\n",
       "      <td>-0.456574</td>\n",
       "      <td>-1.686762</td>\n",
       "      <td>1.392715</td>\n",
       "      <td>-0.679508</td>\n",
       "      <td>Guinea-Bissau</td>\n",
       "    </tr>\n",
       "    <tr>\n",
       "      <th>66</th>\n",
       "      <td>4.221297</td>\n",
       "      <td>-0.944352</td>\n",
       "      <td>0.034438</td>\n",
       "      <td>0.737863</td>\n",
       "      <td>-0.813969</td>\n",
       "      <td>-0.221257</td>\n",
       "      <td>-4.337186</td>\n",
       "      <td>0.253120</td>\n",
       "      <td>-0.673215</td>\n",
       "      <td>Haiti</td>\n",
       "    </tr>\n",
       "    <tr>\n",
       "      <th>97</th>\n",
       "      <td>2.455480</td>\n",
       "      <td>-0.669927</td>\n",
       "      <td>-0.670302</td>\n",
       "      <td>-0.488471</td>\n",
       "      <td>-0.794718</td>\n",
       "      <td>-0.323734</td>\n",
       "      <td>-1.246905</td>\n",
       "      <td>2.386548</td>\n",
       "      <td>-0.670697</td>\n",
       "      <td>Mali</td>\n",
       "    </tr>\n",
       "    <tr>\n",
       "      <th>112</th>\n",
       "      <td>2.107290</td>\n",
       "      <td>-0.691881</td>\n",
       "      <td>-0.604575</td>\n",
       "      <td>0.091552</td>\n",
       "      <td>-0.849660</td>\n",
       "      <td>-0.496426</td>\n",
       "      <td>-1.325854</td>\n",
       "      <td>3.009349</td>\n",
       "      <td>-0.690398</td>\n",
       "      <td>Niger</td>\n",
       "    </tr>\n",
       "    <tr>\n",
       "      <th>113</th>\n",
       "      <td>2.281385</td>\n",
       "      <td>-0.578452</td>\n",
       "      <td>-0.637438</td>\n",
       "      <td>-1.221785</td>\n",
       "      <td>-0.624065</td>\n",
       "      <td>9.129718</td>\n",
       "      <td>-1.134121</td>\n",
       "      <td>1.916133</td>\n",
       "      <td>-0.581936</td>\n",
       "      <td>Nigeria</td>\n",
       "    </tr>\n",
       "    <tr>\n",
       "      <th>132</th>\n",
       "      <td>3.027505</td>\n",
       "      <td>-0.889467</td>\n",
       "      <td>2.294716</td>\n",
       "      <td>-0.513329</td>\n",
       "      <td>-0.828536</td>\n",
       "      <td>0.893648</td>\n",
       "      <td>-1.754433</td>\n",
       "      <td>1.492098</td>\n",
       "      <td>-0.687607</td>\n",
       "      <td>Sierra Leone</td>\n",
       "    </tr>\n",
       "  </tbody>\n",
       "</table>\n",
       "</div>"
      ],
      "text/plain": [
       "     child_mort   exports    health   imports    income  inflation  \\\n",
       "3      2.007808  0.775381 -1.448071 -0.165315 -0.585043   1.387054   \n",
       "25     1.933196 -0.801651 -0.027638 -0.716337 -0.817611  -0.092213   \n",
       "31     2.753928 -1.072418 -1.035452 -0.844770 -0.845810  -0.547664   \n",
       "32     2.778798 -0.157666 -0.834619 -0.140457 -0.791596  -0.132065   \n",
       "37     1.933196 -0.000328  0.399588  0.112267 -0.860326   1.235237   \n",
       "64     1.883454 -0.958988  0.615026 -0.484328 -0.819692  -0.456574   \n",
       "66     4.221297 -0.944352  0.034438  0.737863 -0.813969  -0.221257   \n",
       "97     2.455480 -0.669927 -0.670302 -0.488471 -0.794718  -0.323734   \n",
       "112    2.107290 -0.691881 -0.604575  0.091552 -0.849660  -0.496426   \n",
       "113    2.281385 -0.578452 -0.637438 -1.221785 -0.624065   9.129718   \n",
       "132    3.027505 -0.889467  2.294716 -0.513329 -0.828536   0.893648   \n",
       "\n",
       "     life_expec  total_fer      gdpp                   country  \n",
       "3     -1.179234   2.128151 -0.516268                    Angola  \n",
       "25    -1.427359   1.936010 -0.677976              Burkina Faso  \n",
       "31    -2.600313   1.498724 -0.685035  Central African Republic  \n",
       "32    -1.585257   2.413050 -0.660355                      Chad  \n",
       "37    -1.472473   2.379922 -0.691164          Congo, Dem. Rep.  \n",
       "64    -1.686762   1.392715 -0.679508             Guinea-Bissau  \n",
       "66    -4.337186   0.253120 -0.673215                     Haiti  \n",
       "97    -1.246905   2.386548 -0.670697                      Mali  \n",
       "112   -1.325854   3.009349 -0.690398                     Niger  \n",
       "113   -1.134121   1.916133 -0.581936                   Nigeria  \n",
       "132   -1.754433   1.492098 -0.687607              Sierra Leone  "
      ]
     },
     "execution_count": 123,
     "metadata": {},
     "output_type": "execute_result"
    }
   ],
   "source": [
    "#Countries having higher value than the mean calcualted above \n",
    "childmort_abvmean=country_norm_with_country.loc[(country_norm_with_country.child_mort > 1.8190392779246103)]\n",
    "childmort_abvmean"
   ]
  },
  {
   "cell_type": "code",
   "execution_count": 124,
   "metadata": {},
   "outputs": [
    {
     "data": {
      "text/plain": [
       "{'Central African Republic', 'Guinea-Bissau', 'Haiti', 'Sierra Leone'}"
      ]
     },
     "execution_count": 124,
     "metadata": {},
     "output_type": "execute_result"
    }
   ],
   "source": [
    "set(childmort_abvmean.country) & set(life_expec_belowmean.country)"
   ]
  },
  {
   "cell_type": "markdown",
   "metadata": {},
   "source": [
    "## Hierarchical Clustering"
   ]
  },
  {
   "cell_type": "code",
   "execution_count": 125,
   "metadata": {},
   "outputs": [
    {
     "data": {
      "image/png": "[encoded data removed]",
      "text/plain": [
       "<Figure size 720x504 with 1 Axes>"
      ]
     },
     "metadata": {
      "needs_background": "light"
     },
     "output_type": "display_data"
    }
   ],
   "source": [
    "# heirarchical clustering - Single \n",
    "plt.figure(figsize=(10,7))\n",
    "mergings = linkage(country_reduced, method = \"single\", metric='euclidean')\n",
    "dendrogram(mergings)\n",
    "plt.xticks(rotation=90)\n",
    "plt.show()"
   ]
  },
  {
   "cell_type": "code",
   "execution_count": 126,
   "metadata": {},
   "outputs": [
    {
     "data": {
      "image/png": "[encoded data removed]",
      "text/plain": [
       "<Figure size 1440x504 with 1 Axes>"
      ]
     },
     "metadata": {
      "needs_background": "light"
     },
     "output_type": "display_data"
    }
   ],
   "source": [
    "# heirarchical clustering - Complete\n",
    "plt.figure(figsize=(20,7))\n",
    "mergings = linkage(country_reduced, method = \"complete\", metric='euclidean')\n",
    "dendrogram(mergings)\n",
    "plt.show()"
   ]
  },
  {
   "cell_type": "markdown",
   "metadata": {},
   "source": [
    "### 5 Clusters"
   ]
  },
  {
   "cell_type": "code",
   "execution_count": 147,
   "metadata": {},
   "outputs": [],
   "source": [
    "### 5 clusters \n",
    "clusterCut = pd.Series(cut_tree(mergings, n_clusters = 5).reshape(-1,))\n",
    "countrydata_hc = pd.concat([country_norm_after_outlierremoval_withcountry, clusterCut], axis=1)\n",
    "countrydata_hc.columns = ['child_mort', 'exports', 'health', 'imports', 'income','inflation','life_expec','total_fer','gdpp','country','ClusterID']"
   ]
  },
  {
   "cell_type": "code",
   "execution_count": 132,
   "metadata": {},
   "outputs": [
    {
     "data": {
      "text/html": [
       "<div>\n",
       "<style scoped>\n",
       "    .dataframe tbody tr th:only-of-type {\n",
       "        vertical-align: middle;\n",
       "    }\n",
       "\n",
       "    .dataframe tbody tr th {\n",
       "        vertical-align: top;\n",
       "    }\n",
       "\n",
       "    .dataframe thead th {\n",
       "        text-align: right;\n",
       "    }\n",
       "</style>\n",
       "<table border=\"1\" class=\"dataframe\">\n",
       "  <thead>\n",
       "    <tr style=\"text-align: right;\">\n",
       "      <th></th>\n",
       "      <th>child_mort</th>\n",
       "      <th>exports</th>\n",
       "      <th>health</th>\n",
       "      <th>imports</th>\n",
       "      <th>income</th>\n",
       "      <th>inflation</th>\n",
       "      <th>life_expec</th>\n",
       "      <th>total_fer</th>\n",
       "      <th>gdpp</th>\n",
       "      <th>Country</th>\n",
       "      <th>ClusterID</th>\n",
       "    </tr>\n",
       "  </thead>\n",
       "  <tbody>\n",
       "    <tr>\n",
       "      <th>0</th>\n",
       "      <td>1.291532</td>\n",
       "      <td>-1.138280</td>\n",
       "      <td>0.279088</td>\n",
       "      <td>-0.082455</td>\n",
       "      <td>-0.808245</td>\n",
       "      <td>0.157336</td>\n",
       "      <td>-1.619092</td>\n",
       "      <td>1.902882</td>\n",
       "      <td>-0.679180</td>\n",
       "      <td>Afghanistan</td>\n",
       "      <td>0</td>\n",
       "    </tr>\n",
       "    <tr>\n",
       "      <th>1</th>\n",
       "      <td>-0.538949</td>\n",
       "      <td>-0.479658</td>\n",
       "      <td>-0.097016</td>\n",
       "      <td>0.070837</td>\n",
       "      <td>-0.375369</td>\n",
       "      <td>-0.312347</td>\n",
       "      <td>0.647866</td>\n",
       "      <td>-0.859973</td>\n",
       "      <td>-0.485623</td>\n",
       "      <td>Albania</td>\n",
       "      <td>1</td>\n",
       "    </tr>\n",
       "    <tr>\n",
       "      <th>2</th>\n",
       "      <td>-0.272833</td>\n",
       "      <td>-0.099122</td>\n",
       "      <td>-0.966073</td>\n",
       "      <td>-0.641762</td>\n",
       "      <td>-0.220844</td>\n",
       "      <td>0.789274</td>\n",
       "      <td>0.670423</td>\n",
       "      <td>-0.038404</td>\n",
       "      <td>-0.465376</td>\n",
       "      <td>Algeria</td>\n",
       "      <td>2</td>\n",
       "    </tr>\n",
       "    <tr>\n",
       "      <th>3</th>\n",
       "      <td>2.007808</td>\n",
       "      <td>0.775381</td>\n",
       "      <td>-1.448071</td>\n",
       "      <td>-0.165315</td>\n",
       "      <td>-0.585043</td>\n",
       "      <td>1.387054</td>\n",
       "      <td>-1.179234</td>\n",
       "      <td>2.128151</td>\n",
       "      <td>-0.516268</td>\n",
       "      <td>Angola</td>\n",
       "      <td>3</td>\n",
       "    </tr>\n",
       "    <tr>\n",
       "      <th>4</th>\n",
       "      <td>-0.695634</td>\n",
       "      <td>0.160668</td>\n",
       "      <td>-0.286894</td>\n",
       "      <td>0.497568</td>\n",
       "      <td>0.101732</td>\n",
       "      <td>-0.601749</td>\n",
       "      <td>0.704258</td>\n",
       "      <td>-0.541946</td>\n",
       "      <td>-0.041817</td>\n",
       "      <td>Antigua and Barbuda</td>\n",
       "      <td>1</td>\n",
       "    </tr>\n",
       "  </tbody>\n",
       "</table>\n",
       "</div>"
      ],
      "text/plain": [
       "   child_mort   exports    health   imports    income  inflation  life_expec  \\\n",
       "0    1.291532 -1.138280  0.279088 -0.082455 -0.808245   0.157336   -1.619092   \n",
       "1   -0.538949 -0.479658 -0.097016  0.070837 -0.375369  -0.312347    0.647866   \n",
       "2   -0.272833 -0.099122 -0.966073 -0.641762 -0.220844   0.789274    0.670423   \n",
       "3    2.007808  0.775381 -1.448071 -0.165315 -0.585043   1.387054   -1.179234   \n",
       "4   -0.695634  0.160668 -0.286894  0.497568  0.101732  -0.601749    0.704258   \n",
       "\n",
       "   total_fer      gdpp              Country  ClusterID  \n",
       "0   1.902882 -0.679180          Afghanistan          0  \n",
       "1  -0.859973 -0.485623              Albania          1  \n",
       "2  -0.038404 -0.465376              Algeria          2  \n",
       "3   2.128151 -0.516268               Angola          3  \n",
       "4  -0.541946 -0.041817  Antigua and Barbuda          1  "
      ]
     },
     "execution_count": 132,
     "metadata": {},
     "output_type": "execute_result"
    }
   ],
   "source": [
    "countrydata_hc.head(5)"
   ]
  },
  {
   "cell_type": "code",
   "execution_count": 133,
   "metadata": {},
   "outputs": [
    {
     "data": {
      "text/plain": [
       "(143, 11)"
      ]
     },
     "execution_count": 133,
     "metadata": {},
     "output_type": "execute_result"
    }
   ],
   "source": [
    "countrydata_hc.shape"
   ]
  },
  {
   "cell_type": "code",
   "execution_count": 134,
   "metadata": {},
   "outputs": [
    {
     "data": {
      "text/plain": [
       "{0: 18, 1: 52, 2: 42, 3: 8, 4: 23}"
      ]
     },
     "execution_count": 134,
     "metadata": {},
     "output_type": "execute_result"
    }
   ],
   "source": [
    "unique, counts = np.unique(countrydata_hc.ClusterID, return_counts=True)\n",
    "dict(zip(unique, counts))"
   ]
  },
  {
   "cell_type": "code",
   "execution_count": 135,
   "metadata": {},
   "outputs": [],
   "source": [
    "# Analyse the cluster result\n",
    "km_clusters_child_mort_hc = pd.DataFrame(countrydata_hc.groupby([\"ClusterID\"]).child_mort.mean())\n",
    "km_clusters_income_hc = pd.DataFrame(countrydata_hc.groupby([\"ClusterID\"]).income.mean())\n",
    "km_clusters_health_hc = pd.DataFrame(countrydata_hc.groupby([\"ClusterID\"]).health.mean())\n",
    "km_clusters_gdpp_hc = pd.DataFrame(countrydata_hc.groupby([\"ClusterID\"]).gdpp.mean())\n",
    "km_clusters_life_expec_hc =pd.DataFrame(countrydata_hc.groupby([\"ClusterID\"]).life_expec.mean())\n",
    "km_clusters_life_exports_hc =pd.DataFrame(countrydata_hc.groupby([\"ClusterID\"]).exports.mean())\n",
    "km_clusters_life_imports_hc =pd.DataFrame(countrydata_hc.groupby([\"ClusterID\"]).imports.mean())\n",
    "km_clusters_life_inflation_hc =pd.DataFrame(countrydata_hc.groupby([\"ClusterID\"]).inflation.mean())\n",
    "km_clusters_life_fertility_hc =pd.DataFrame(countrydata_hc.groupby([\"ClusterID\"]).total_fer.mean())"
   ]
  },
  {
   "cell_type": "code",
   "execution_count": 136,
   "metadata": {},
   "outputs": [
    {
     "data": {
      "text/html": [
       "<div>\n",
       "<style scoped>\n",
       "    .dataframe tbody tr th:only-of-type {\n",
       "        vertical-align: middle;\n",
       "    }\n",
       "\n",
       "    .dataframe tbody tr th {\n",
       "        vertical-align: top;\n",
       "    }\n",
       "\n",
       "    .dataframe thead th {\n",
       "        text-align: right;\n",
       "    }\n",
       "</style>\n",
       "<table border=\"1\" class=\"dataframe\">\n",
       "  <thead>\n",
       "    <tr style=\"text-align: right;\">\n",
       "      <th></th>\n",
       "      <th>ClusterID</th>\n",
       "      <th>child_mort_mean</th>\n",
       "      <th>Income_mean</th>\n",
       "      <th>health_mean</th>\n",
       "      <th>gdpp_mean</th>\n",
       "      <th>life_expec_mean</th>\n",
       "      <th>exports_mean</th>\n",
       "      <th>imports_mean</th>\n",
       "      <th>inflation_mean</th>\n",
       "      <th>fertility_mean</th>\n",
       "    </tr>\n",
       "  </thead>\n",
       "  <tbody>\n",
       "    <tr>\n",
       "      <th>0</th>\n",
       "      <td>0</td>\n",
       "      <td>1.812573</td>\n",
       "      <td>-0.784674</td>\n",
       "      <td>0.217013</td>\n",
       "      <td>-0.655028</td>\n",
       "      <td>-1.714332</td>\n",
       "      <td>-0.613985</td>\n",
       "      <td>-0.308710</td>\n",
       "      <td>0.121227</td>\n",
       "      <td>1.684607</td>\n",
       "    </tr>\n",
       "    <tr>\n",
       "      <th>1</th>\n",
       "      <td>1</td>\n",
       "      <td>-0.544545</td>\n",
       "      <td>-0.139470</td>\n",
       "      <td>-0.095261</td>\n",
       "      <td>-0.255737</td>\n",
       "      <td>0.389114</td>\n",
       "      <td>0.322720</td>\n",
       "      <td>0.426658</td>\n",
       "      <td>-0.344176</td>\n",
       "      <td>-0.614063</td>\n",
       "    </tr>\n",
       "    <tr>\n",
       "      <th>2</th>\n",
       "      <td>2</td>\n",
       "      <td>0.077311</td>\n",
       "      <td>-0.448432</td>\n",
       "      <td>-0.513374</td>\n",
       "      <td>-0.486323</td>\n",
       "      <td>-0.094360</td>\n",
       "      <td>-0.556262</td>\n",
       "      <td>-0.646399</td>\n",
       "      <td>0.269030</td>\n",
       "      <td>0.186864</td>\n",
       "    </tr>\n",
       "    <tr>\n",
       "      <th>3</th>\n",
       "      <td>3</td>\n",
       "      <td>0.970079</td>\n",
       "      <td>-0.418162</td>\n",
       "      <td>-0.412871</td>\n",
       "      <td>-0.450272</td>\n",
       "      <td>-1.110154</td>\n",
       "      <td>0.621703</td>\n",
       "      <td>0.482031</td>\n",
       "      <td>0.535099</td>\n",
       "      <td>1.102019</td>\n",
       "    </tr>\n",
       "    <tr>\n",
       "      <th>4</th>\n",
       "      <td>4</td>\n",
       "      <td>-0.837938</td>\n",
       "      <td>1.142979</td>\n",
       "      <td>1.191328</td>\n",
       "      <td>1.727412</td>\n",
       "      <td>1.141664</td>\n",
       "      <td>0.022103</td>\n",
       "      <td>-0.307799</td>\n",
       "      <td>-0.618374</td>\n",
       "      <td>-0.755404</td>\n",
       "    </tr>\n",
       "  </tbody>\n",
       "</table>\n",
       "</div>"
      ],
      "text/plain": [
       "   ClusterID  child_mort_mean  Income_mean  health_mean  gdpp_mean  \\\n",
       "0          0         1.812573    -0.784674     0.217013  -0.655028   \n",
       "1          1        -0.544545    -0.139470    -0.095261  -0.255737   \n",
       "2          2         0.077311    -0.448432    -0.513374  -0.486323   \n",
       "3          3         0.970079    -0.418162    -0.412871  -0.450272   \n",
       "4          4        -0.837938     1.142979     1.191328   1.727412   \n",
       "\n",
       "   life_expec_mean  exports_mean  imports_mean  inflation_mean  fertility_mean  \n",
       "0        -1.714332     -0.613985     -0.308710        0.121227        1.684607  \n",
       "1         0.389114      0.322720      0.426658       -0.344176       -0.614063  \n",
       "2        -0.094360     -0.556262     -0.646399        0.269030        0.186864  \n",
       "3        -1.110154      0.621703      0.482031        0.535099        1.102019  \n",
       "4         1.141664      0.022103     -0.307799       -0.618374       -0.755404  "
      ]
     },
     "execution_count": 136,
     "metadata": {},
     "output_type": "execute_result"
    }
   ],
   "source": [
    "df_hc = pd.concat([pd.Series([0,1,2,3,4]), km_clusters_child_mort_hc, km_clusters_income_hc, km_clusters_health_hc,km_clusters_gdpp_hc,km_clusters_life_expec_hc,km_clusters_life_exports_hc,km_clusters_life_imports_hc,km_clusters_life_inflation_hc,km_clusters_life_fertility_hc], axis=1)\n",
    "df_hc.columns = [\"ClusterID\", \"child_mort_mean\", \"Income_mean\", \"health_mean\",\"gdpp_mean\",'life_expec_mean','exports_mean','imports_mean','inflation_mean','fertility_mean']\n",
    "df_hc.head()"
   ]
  },
  {
   "cell_type": "code",
   "execution_count": 137,
   "metadata": {},
   "outputs": [
    {
     "data": {
      "image/png": "[encoded data removed]",
      "text/plain": [
       "<Figure size 1080x720 with 9 Axes>"
      ]
     },
     "metadata": {
      "needs_background": "light"
     },
     "output_type": "display_data"
    }
   ],
   "source": [
    "plt.figure(figsize=(15,10))\n",
    "plt.subplot(3,3,1)\n",
    "sns.barplot(x=df_hc.ClusterID, y=df_hc['child_mort_mean'])\n",
    "plt.subplot(3,3,2)\n",
    "sns.barplot(x=df_hc.ClusterID, y=df_hc['exports_mean'])\n",
    "plt.subplot(3,3,3)\n",
    "sns.barplot(x=df_hc.ClusterID, y=df_hc['health_mean'])\n",
    "plt.subplot(3,3,4)\n",
    "sns.barplot(x=df_hc.ClusterID, y=df_hc['imports_mean'])\n",
    "plt.subplot(3,3,5)\n",
    "sns.barplot(x=df_hc.ClusterID, y=df_hc['Income_mean'])\n",
    "plt.subplot(3,3,6)\n",
    "sns.barplot(x=df_hc.ClusterID, y=df_hc['inflation_mean'])\n",
    "plt.subplot(3,3,7)\n",
    "sns.barplot(x=df_hc.ClusterID, y=df_hc['life_expec_mean'])\n",
    "plt.subplot(3,3,8)\n",
    "sns.barplot(x=df_hc.ClusterID, y=df_hc['fertility_mean'])\n",
    "plt.subplot(3,3,9)\n",
    "sns.barplot(x=df_hc.ClusterID, y=df_hc['gdpp_mean'])\n",
    "plt.show()"
   ]
  },
  {
   "cell_type": "markdown",
   "metadata": {},
   "source": [
    "Cluster 0 & 3 have very poort life expectancy and high child mortality rate. \n",
    "Also poor GDPP"
   ]
  },
  {
   "cell_type": "markdown",
   "metadata": {},
   "source": [
    "### 6 Clusters"
   ]
  },
  {
   "cell_type": "code",
   "execution_count": 140,
   "metadata": {},
   "outputs": [],
   "source": [
    "### 6 clusters \n",
    "clusterCut6 = pd.Series(cut_tree(mergings, n_clusters = 6).reshape(-1,))\n",
    "countrydata_hc_6 = pd.concat([country_norm_after_outlierremoval_withcountry, clusterCut6], axis=1)\n",
    "countrydata_hc_6.columns = ['child_mort', 'exports', 'health', 'imports', 'income','inflation','life_expec','total_fer','gdpp','country','ClusterID']"
   ]
  },
  {
   "cell_type": "code",
   "execution_count": 141,
   "metadata": {},
   "outputs": [
    {
     "data": {
      "text/plain": [
       "{0: 18, 1: 52, 2: 42, 3: 8, 4: 18, 5: 5}"
      ]
     },
     "execution_count": 141,
     "metadata": {},
     "output_type": "execute_result"
    }
   ],
   "source": [
    "unique, counts = np.unique(countrydata_hc_6.ClusterID, return_counts=True)\n",
    "dict(zip(unique, counts))"
   ]
  },
  {
   "cell_type": "code",
   "execution_count": 142,
   "metadata": {},
   "outputs": [],
   "source": [
    "# analysis of clusters formed.\n",
    "km_clusters_child_mort_hc6 = pd.DataFrame(countrydata_hc_6.groupby([\"ClusterID\"]).child_mort.mean())\n",
    "km_clusters_income_hc6 = pd.DataFrame(countrydata_hc_6.groupby([\"ClusterID\"]).income.mean())\n",
    "km_clusters_health_hc6 = pd.DataFrame(countrydata_hc_6.groupby([\"ClusterID\"]).health.mean())\n",
    "km_clusters_gdpp_hc6 = pd.DataFrame(countrydata_hc_6.groupby([\"ClusterID\"]).gdpp.mean())\n",
    "km_clusters_life_expec_hc6 =pd.DataFrame(countrydata_hc_6.groupby([\"ClusterID\"]).life_expec.mean())\n",
    "km_clusters_life_exports_hc6 =pd.DataFrame(countrydata_hc_6.groupby([\"ClusterID\"]).exports.mean())\n",
    "km_clusters_life_imports_hc6 =pd.DataFrame(countrydata_hc_6.groupby([\"ClusterID\"]).imports.mean())\n",
    "km_clusters_life_inflation_hc6 =pd.DataFrame(countrydata_hc_6.groupby([\"ClusterID\"]).inflation.mean())\n",
    "km_clusters_life_fertility_hc6 =pd.DataFrame(countrydata_hc_6.groupby([\"ClusterID\"]).total_fer.mean())"
   ]
  },
  {
   "cell_type": "code",
   "execution_count": 144,
   "metadata": {},
   "outputs": [
    {
     "data": {
      "text/html": [
       "<div>\n",
       "<style scoped>\n",
       "    .dataframe tbody tr th:only-of-type {\n",
       "        vertical-align: middle;\n",
       "    }\n",
       "\n",
       "    .dataframe tbody tr th {\n",
       "        vertical-align: top;\n",
       "    }\n",
       "\n",
       "    .dataframe thead th {\n",
       "        text-align: right;\n",
       "    }\n",
       "</style>\n",
       "<table border=\"1\" class=\"dataframe\">\n",
       "  <thead>\n",
       "    <tr style=\"text-align: right;\">\n",
       "      <th></th>\n",
       "      <th>ClusterID</th>\n",
       "      <th>child_mort_mean</th>\n",
       "      <th>Income_mean</th>\n",
       "      <th>health_mean</th>\n",
       "      <th>gdpp_mean</th>\n",
       "      <th>life_expec_mean</th>\n",
       "      <th>exports_mean</th>\n",
       "      <th>imports_mean</th>\n",
       "      <th>inflation_mean</th>\n",
       "      <th>fertility_mean</th>\n",
       "    </tr>\n",
       "  </thead>\n",
       "  <tbody>\n",
       "    <tr>\n",
       "      <th>0</th>\n",
       "      <td>0</td>\n",
       "      <td>1.812573</td>\n",
       "      <td>-0.784674</td>\n",
       "      <td>0.217013</td>\n",
       "      <td>-0.655028</td>\n",
       "      <td>-1.714332</td>\n",
       "      <td>-0.613985</td>\n",
       "      <td>-0.308710</td>\n",
       "      <td>0.121227</td>\n",
       "      <td>1.684607</td>\n",
       "    </tr>\n",
       "    <tr>\n",
       "      <th>1</th>\n",
       "      <td>1</td>\n",
       "      <td>-0.544545</td>\n",
       "      <td>-0.139470</td>\n",
       "      <td>-0.095261</td>\n",
       "      <td>-0.255737</td>\n",
       "      <td>0.389114</td>\n",
       "      <td>0.322720</td>\n",
       "      <td>0.426658</td>\n",
       "      <td>-0.344176</td>\n",
       "      <td>-0.614063</td>\n",
       "    </tr>\n",
       "    <tr>\n",
       "      <th>2</th>\n",
       "      <td>2</td>\n",
       "      <td>0.077311</td>\n",
       "      <td>-0.448432</td>\n",
       "      <td>-0.513374</td>\n",
       "      <td>-0.486323</td>\n",
       "      <td>-0.094360</td>\n",
       "      <td>-0.556262</td>\n",
       "      <td>-0.646399</td>\n",
       "      <td>0.269030</td>\n",
       "      <td>0.186864</td>\n",
       "    </tr>\n",
       "    <tr>\n",
       "      <th>3</th>\n",
       "      <td>3</td>\n",
       "      <td>0.970079</td>\n",
       "      <td>-0.418162</td>\n",
       "      <td>-0.412871</td>\n",
       "      <td>-0.450272</td>\n",
       "      <td>-1.110154</td>\n",
       "      <td>0.621703</td>\n",
       "      <td>0.482031</td>\n",
       "      <td>0.535099</td>\n",
       "      <td>1.102019</td>\n",
       "    </tr>\n",
       "    <tr>\n",
       "      <th>4</th>\n",
       "      <td>4</td>\n",
       "      <td>-0.835186</td>\n",
       "      <td>0.985348</td>\n",
       "      <td>1.143074</td>\n",
       "      <td>1.474627</td>\n",
       "      <td>1.135971</td>\n",
       "      <td>-0.275770</td>\n",
       "      <td>-0.559362</td>\n",
       "      <td>-0.615481</td>\n",
       "      <td>-0.760221</td>\n",
       "    </tr>\n",
       "  </tbody>\n",
       "</table>\n",
       "</div>"
      ],
      "text/plain": [
       "   ClusterID  child_mort_mean  Income_mean  health_mean  gdpp_mean  \\\n",
       "0          0         1.812573    -0.784674     0.217013  -0.655028   \n",
       "1          1        -0.544545    -0.139470    -0.095261  -0.255737   \n",
       "2          2         0.077311    -0.448432    -0.513374  -0.486323   \n",
       "3          3         0.970079    -0.418162    -0.412871  -0.450272   \n",
       "4          4        -0.835186     0.985348     1.143074   1.474627   \n",
       "\n",
       "   life_expec_mean  exports_mean  imports_mean  inflation_mean  fertility_mean  \n",
       "0        -1.714332     -0.613985     -0.308710        0.121227        1.684607  \n",
       "1         0.389114      0.322720      0.426658       -0.344176       -0.614063  \n",
       "2        -0.094360     -0.556262     -0.646399        0.269030        0.186864  \n",
       "3        -1.110154      0.621703      0.482031        0.535099        1.102019  \n",
       "4         1.135971     -0.275770     -0.559362       -0.615481       -0.760221  "
      ]
     },
     "execution_count": 144,
     "metadata": {},
     "output_type": "execute_result"
    }
   ],
   "source": [
    "df_hc6 = pd.concat([pd.Series([0,1,2,3,4,5]), km_clusters_child_mort_hc6, km_clusters_income_hc6, km_clusters_health_hc6,km_clusters_gdpp_hc6,km_clusters_life_expec_hc6,km_clusters_life_exports_hc6,km_clusters_life_imports_hc6,km_clusters_life_inflation_hc6,km_clusters_life_fertility_hc6], axis=1)\n",
    "df_hc6.columns = [\"ClusterID\", \"child_mort_mean\", \"Income_mean\", \"health_mean\",\"gdpp_mean\",'life_expec_mean','exports_mean','imports_mean','inflation_mean','fertility_mean']\n",
    "v.head()"
   ]
  },
  {
   "cell_type": "code",
   "execution_count": 145,
   "metadata": {},
   "outputs": [
    {
     "data": {
      "image/png": "[encoded data removed]",
      "text/plain": [
       "<Figure size 1080x720 with 9 Axes>"
      ]
     },
     "metadata": {
      "needs_background": "light"
     },
     "output_type": "display_data"
    }
   ],
   "source": [
    "plt.figure(figsize=(15,10))\n",
    "plt.subplot(3,3,1)\n",
    "sns.barplot(x=df_hc6.ClusterID, y=df_hc6['child_mort_mean'])\n",
    "plt.subplot(3,3,2)\n",
    "sns.barplot(x=df_hc6.ClusterID, y=df_hc6['exports_mean'])\n",
    "plt.subplot(3,3,3)\n",
    "sns.barplot(x=df_hc6.ClusterID, y=df_hc6['health_mean'])\n",
    "plt.subplot(3,3,4)\n",
    "sns.barplot(x=df_hc6.ClusterID, y=df_hc6['imports_mean'])\n",
    "plt.subplot(3,3,5)\n",
    "sns.barplot(x=df_hc6.ClusterID, y=df_hc6['Income_mean'])\n",
    "plt.subplot(3,3,6)\n",
    "sns.barplot(x=df_hc6.ClusterID, y=df_hc6['inflation_mean'])\n",
    "plt.subplot(3,3,7)\n",
    "sns.barplot(x=df_hc6.ClusterID, y=df_hc6['life_expec_mean'])\n",
    "plt.subplot(3,3,8)\n",
    "sns.barplot(x=df_hc6.ClusterID, y=df_hc6['fertility_mean'])\n",
    "plt.subplot(3,3,9)\n",
    "sns.barplot(x=df_hc6.ClusterID, y=df_hc6['gdpp_mean'])\n",
    "plt.show()"
   ]
  },
  {
   "cell_type": "markdown",
   "metadata": {},
   "source": [
    "Cluster 0 & 3 have very poort life expectancy and high child mortality rate. \n",
    "Also poor GDPP"
   ]
  },
  {
   "cell_type": "markdown",
   "metadata": {},
   "source": [
    "#### Analysis within Cluster ( Cluster =5)"
   ]
  },
  {
   "cell_type": "code",
   "execution_count": 148,
   "metadata": {},
   "outputs": [
    {
     "data": {
      "text/plain": [
       "array(['Afghanistan', 'Burkina Faso', 'Burundi', 'Chad',\n",
       "       'Congo, Dem. Rep.', \"Cote d'Ivoire\", 'Guinea', 'Guinea-Bissau',\n",
       "       'Haiti', 'Malawi', 'Mali', 'Mozambique', 'Niger', 'Rwanda',\n",
       "       'Sierra Leone', 'South Africa', 'Uganda', 'Zambia'], dtype=object)"
      ]
     },
     "execution_count": 148,
     "metadata": {},
     "output_type": "execute_result"
    }
   ],
   "source": [
    "## Countries belonging to Cluster #0 \n",
    "\n",
    "cl0_country=countrydata_hc.loc[(countrydata_hc.ClusterID==0)]\n",
    "mean_cl0_life_expec=cl0_country.life_expec.mean()\n",
    "mean_cl0_child_mort=cl0_country.child_mort.mean()\n",
    "cl0_country.country.unique()"
   ]
  },
  {
   "cell_type": "code",
   "execution_count": 158,
   "metadata": {},
   "outputs": [
    {
     "data": {
      "text/plain": [
       "array(['Angola', 'Botswana', 'Congo, Rep.', 'Equatorial Guinea',\n",
       "       'Mauritania', 'Namibia', 'Solomon Islands', 'Togo'], dtype=object)"
      ]
     },
     "execution_count": 158,
     "metadata": {},
     "output_type": "execute_result"
    }
   ],
   "source": [
    "## Countries belonging to Cluster 3\n",
    "cl3_country=countrydata_hc.loc[(countrydata_hc.ClusterID==3)]\n",
    "mean_cl3_life_expec=cl3_country.life_expec.mean()\n",
    "mean_cl3_child_mort=cl3_country.child_mort.mean()\n",
    "cl3_country.country.unique()"
   ]
  },
  {
   "cell_type": "code",
   "execution_count": 159,
   "metadata": {},
   "outputs": [
    {
     "data": {
      "image/png": "[encoded data removed]",
      "text/plain": [
       "<Figure size 1800x1440 with 4 Axes>"
      ]
     },
     "metadata": {
      "needs_background": "light"
     },
     "output_type": "display_data"
    }
   ],
   "source": [
    "### analysis of Cluster 0 & 3 for life expectancy & Child Mortality - Top variable \n",
    "\n",
    "plt.figure(figsize=(25,20))\n",
    "plt.subplot(2,2,1)\n",
    "sns.boxplot(x='country', y='life_expec', data=cl0_country )\n",
    "plt.hlines(mean_cl0_life_expec, 0,len(cl0_country.country.unique()),color='red', linestyle='-')\n",
    "plt.title(\"Life Expectancy within Cluster0\")\n",
    "plt.xticks(rotation=90)\n",
    "plt.subplot(2,2,2)\n",
    "sns.boxplot(x='country', y='child_mort', data=cl0_country )\n",
    "plt.hlines(mean_cl0_child_mort, 0,len(cl0_country.country.unique()),color='red', linestyle='-')\n",
    "plt.title(\"Child Mortality within Cluster0\")\n",
    "plt.xticks(rotation=90)\n",
    "plt.subplot(2,2,3)\n",
    "sns.boxplot(x='country', y='life_expec', data=cl3_country )\n",
    "plt.hlines(mean_cl3_life_expec, 0,len(cl3_country_6.country.unique()),color='red', linestyle='-')\n",
    "plt.title(\"Life Expectancy within Cluster3\")\n",
    "plt.xticks(rotation=90)\n",
    "plt.subplot(2,2,4)\n",
    "sns.boxplot(x='country', y='child_mort', data=cl3_country )\n",
    "plt.hlines(mean_cl3_child_mort, 0,len(cl3_country_6.country.unique()),color='red', linestyle='-')\n",
    "plt.title(\"Child Mortality within Cluster3\")\n",
    "plt.xticks(rotation=90)\n",
    "plt.show()\n",
    "\n",
    "## Countries which are below the mean for life expectancy  - Cluster 0 \n",
    "# Haiti, Malawi, Mozambique, Sierra Leone, South Africa, Zambia\n",
    "\n",
    "## Countries which are below the mean for Child mortality  - Cluster 0\n",
    "# Afghanistan, Burundi, Guinea, Malawi, Mozambique, Rwanda, South Africa,, Uganda, Zambia\n",
    "\n",
    "## Countries which are below the mean for life expectancy - Clusetr 3 \n",
    "# Angola, Bostwana, Congo, Namibia, Togo\n",
    "\n",
    "## Countries which are below the mean for Child mortality  - Cluster 3\n",
    "# Bostwana, Congo, Namibia, Solomon Islands"
   ]
  },
  {
   "cell_type": "markdown",
   "metadata": {},
   "source": [
    "#### Anbalysis within cluster ( Cluster=6)"
   ]
  },
  {
   "cell_type": "code",
   "execution_count": 152,
   "metadata": {},
   "outputs": [
    {
     "data": {
      "text/plain": [
       "array(['Afghanistan', 'Burkina Faso', 'Burundi', 'Chad',\n",
       "       'Congo, Dem. Rep.', \"Cote d'Ivoire\", 'Guinea', 'Guinea-Bissau',\n",
       "       'Haiti', 'Malawi', 'Mali', 'Mozambique', 'Niger', 'Rwanda',\n",
       "       'Sierra Leone', 'South Africa', 'Uganda', 'Zambia'], dtype=object)"
      ]
     },
     "execution_count": 152,
     "metadata": {},
     "output_type": "execute_result"
    }
   ],
   "source": [
    "## Countries belonging to Cluster #0 \n",
    "\n",
    "cl0_country_6=countrydata_hc_6.loc[(countrydata_hc_6.ClusterID==0)]\n",
    "mean_cl0_life_expec_6=cl0_country_6.life_expec.mean()\n",
    "mean_cl0_child_mort_6=cl0_country_6.child_mort.mean()\n",
    "cl0_country_6.country.unique()"
   ]
  },
  {
   "cell_type": "code",
   "execution_count": 155,
   "metadata": {},
   "outputs": [
    {
     "data": {
      "text/plain": [
       "array(['Angola', 'Botswana', 'Congo, Rep.', 'Equatorial Guinea',\n",
       "       'Mauritania', 'Namibia', 'Solomon Islands', 'Togo'], dtype=object)"
      ]
     },
     "execution_count": 155,
     "metadata": {},
     "output_type": "execute_result"
    }
   ],
   "source": [
    "## Countries belonging to Cluster 3\n",
    "cl3_country_6=countrydata_hc_6.loc[(countrydata_hc_6.ClusterID==3)]\n",
    "mean_cl3_life_expec_6=cl3_country_6.life_expec.mean()\n",
    "mean_cl3_child_mort_6=cl3_country_6.child_mort.mean()\n",
    "cl3_country_6.country.unique()"
   ]
  },
  {
   "cell_type": "code",
   "execution_count": 157,
   "metadata": {},
   "outputs": [
    {
     "data": {
      "image/png": "[encoded data removed]",
      "text/plain": [
       "<Figure size 1800x1440 with 4 Axes>"
      ]
     },
     "metadata": {
      "needs_background": "light"
     },
     "output_type": "display_data"
    }
   ],
   "source": [
    "### analysis of Cluster 0 & 3 for life expectancy & Child Mortality - Top variable \n",
    "\n",
    "plt.figure(figsize=(25,20))\n",
    "plt.subplot(2,2,1)\n",
    "sns.boxplot(x='country', y='life_expec', data=cl0_country_6 )\n",
    "plt.hlines(mean_cl0_life_expec_6, 0,len(cl0_country_6.country.unique()),color='red', linestyle='-')\n",
    "plt.title(\"Life Expectancy within Cluster0\")\n",
    "plt.xticks(rotation=90)\n",
    "plt.subplot(2,2,2)\n",
    "sns.boxplot(x='country', y='child_mort', data=cl0_country_6 )\n",
    "plt.hlines(mean_cl0_child_mort_6, 0,len(cl0_country_6.country.unique()),color='red', linestyle='-')\n",
    "plt.title(\"Child Mortality within Cluster0\")\n",
    "plt.xticks(rotation=90)\n",
    "plt.subplot(2,2,3)\n",
    "sns.boxplot(x='country', y='life_expec', data=cl3_country_6 )\n",
    "plt.hlines(mean_cl3_life_expec_6, 0,len(cl3_country_6.country.unique()),color='red', linestyle='-')\n",
    "plt.title(\"Life Expectancy within Cluster3\")\n",
    "plt.xticks(rotation=90)\n",
    "plt.subplot(2,2,4)\n",
    "sns.boxplot(x='country', y='child_mort', data=cl3_country_6 )\n",
    "plt.hlines(mean_cl3_child_mort_6, 0,len(cl3_country_6.country.unique()),color='red', linestyle='-')\n",
    "plt.title(\"Child Mortality within Cluster3\")\n",
    "plt.xticks(rotation=90)\n",
    "plt.show()\n",
    "\n",
    "## Countries which are below the mean for life expectancy  - Cluster 0 \n",
    "# Haiti, Malawi, Mozambique, Sierra Leone, South Africa, Zambia\n",
    "\n",
    "## Countries which are below the mean for Child mortality  - Cluster 0\n",
    "# Afghanistan, Burundi, Guinea, Malawi, Mozambique, Rwanda, South Africa,, Uganda, Zambia\n",
    "\n",
    "## Countries which are below the mean for life expectancy - Clusetr 3 \n",
    "# Angola, Bostwana, Congo, Namiia, Togo\n",
    "\n",
    "## Countries which are below the mean for Child mortality  - Cluster 3\n",
    "# Bostwana, Congo, Namibia, Solomon Islands"
   ]
  },
  {
   "cell_type": "markdown",
   "metadata": {},
   "source": [
    "<B>Results of both cluster cut 5 & 6 seem the same for analysis of Top variable.</B>"
   ]
  },
  {
   "cell_type": "code",
   "execution_count": 161,
   "metadata": {},
   "outputs": [
    {
     "name": "stdout",
     "output_type": "stream",
     "text": [
      "Life Expec - hc6 - Cl0 -1.7143318506051353\n",
      "Life Expec - hc6 - Cl3 -1.1101542133151685\n",
      "Life Expec - hc5 - Cl0 -1.7143318506051353\n",
      "Life Expec - hc5 - Cl3 -1.1101542133151685\n"
     ]
    }
   ],
   "source": [
    "print(\"Life Expec - hc6 - Cl0\",mean_cl0_life_expec_6)\n",
    "print(\"Life Expec - hc6 - Cl3\",mean_cl3_life_expec_6)\n",
    "print(\"Life Expec - hc5 - Cl0\",mean_cl0_life_expec)\n",
    "print(\"Life Expec - hc5 - Cl3\",mean_cl3_life_expec)\n",
    "\n",
    "### Lowest mean of Life expectancy is -1.7143318506051353"
   ]
  },
  {
   "cell_type": "code",
   "execution_count": 160,
   "metadata": {},
   "outputs": [
    {
     "name": "stdout",
     "output_type": "stream",
     "text": [
      "Child Mortality - hc5 - Cl0 1.8125729038547658\n",
      "Child Mortality - hc5 - Cl3 0.9700789745625256\n",
      "Child Mortality - hc6 - Cl0 1.8125729038547658\n",
      "Child Mortality - hc6 - Cl3 0.9700789745625256\n"
     ]
    }
   ],
   "source": [
    "print(\"Child Mortality - hc5 - Cl0\",mean_cl0_child_mort)\n",
    "print(\"Child Mortality - hc5 - Cl3\",mean_cl3_child_mort)\n",
    "print(\"Child Mortality - hc6 - Cl0\",mean_cl0_child_mort_6)\n",
    "print(\"Child Mortality - hc6 - Cl3\",mean_cl3_child_mort_6)\n",
    "\n",
    "### Highest mean of child mortality is 1.8125729038547658"
   ]
  },
  {
   "cell_type": "code",
   "execution_count": 162,
   "metadata": {},
   "outputs": [
    {
     "data": {
      "text/html": [
       "<div>\n",
       "<style scoped>\n",
       "    .dataframe tbody tr th:only-of-type {\n",
       "        vertical-align: middle;\n",
       "    }\n",
       "\n",
       "    .dataframe tbody tr th {\n",
       "        vertical-align: top;\n",
       "    }\n",
       "\n",
       "    .dataframe thead th {\n",
       "        text-align: right;\n",
       "    }\n",
       "</style>\n",
       "<table border=\"1\" class=\"dataframe\">\n",
       "  <thead>\n",
       "    <tr style=\"text-align: right;\">\n",
       "      <th></th>\n",
       "      <th>child_mort</th>\n",
       "      <th>exports</th>\n",
       "      <th>health</th>\n",
       "      <th>imports</th>\n",
       "      <th>income</th>\n",
       "      <th>inflation</th>\n",
       "      <th>life_expec</th>\n",
       "      <th>total_fer</th>\n",
       "      <th>gdpp</th>\n",
       "      <th>country</th>\n",
       "    </tr>\n",
       "  </thead>\n",
       "  <tbody>\n",
       "    <tr>\n",
       "      <th>31</th>\n",
       "      <td>2.753928</td>\n",
       "      <td>-1.072418</td>\n",
       "      <td>-1.035452</td>\n",
       "      <td>-0.844770</td>\n",
       "      <td>-0.845810</td>\n",
       "      <td>-0.547664</td>\n",
       "      <td>-2.600313</td>\n",
       "      <td>1.498724</td>\n",
       "      <td>-0.685035</td>\n",
       "      <td>Central African Republic</td>\n",
       "    </tr>\n",
       "    <tr>\n",
       "      <th>66</th>\n",
       "      <td>4.221297</td>\n",
       "      <td>-0.944352</td>\n",
       "      <td>0.034438</td>\n",
       "      <td>0.737863</td>\n",
       "      <td>-0.813969</td>\n",
       "      <td>-0.221257</td>\n",
       "      <td>-4.337186</td>\n",
       "      <td>0.253120</td>\n",
       "      <td>-0.673215</td>\n",
       "      <td>Haiti</td>\n",
       "    </tr>\n",
       "    <tr>\n",
       "      <th>87</th>\n",
       "      <td>1.527804</td>\n",
       "      <td>-0.062532</td>\n",
       "      <td>1.564416</td>\n",
       "      <td>2.241778</td>\n",
       "      <td>-0.768184</td>\n",
       "      <td>-0.344609</td>\n",
       "      <td>-2.713097</td>\n",
       "      <td>0.233243</td>\n",
       "      <td>-0.645415</td>\n",
       "      <td>Lesotho</td>\n",
       "    </tr>\n",
       "    <tr>\n",
       "      <th>94</th>\n",
       "      <td>1.298994</td>\n",
       "      <td>-0.669927</td>\n",
       "      <td>-0.082410</td>\n",
       "      <td>-0.496757</td>\n",
       "      <td>-0.838422</td>\n",
       "      <td>0.409732</td>\n",
       "      <td>-1.968722</td>\n",
       "      <td>1.564979</td>\n",
       "      <td>-0.684324</td>\n",
       "      <td>Malawi</td>\n",
       "    </tr>\n",
       "    <tr>\n",
       "      <th>106</th>\n",
       "      <td>1.560136</td>\n",
       "      <td>-0.351593</td>\n",
       "      <td>-0.586317</td>\n",
       "      <td>-0.028596</td>\n",
       "      <td>-0.844249</td>\n",
       "      <td>-0.013458</td>\n",
       "      <td>-1.810825</td>\n",
       "      <td>1.730618</td>\n",
       "      <td>-0.686513</td>\n",
       "      <td>Mozambique</td>\n",
       "    </tr>\n",
       "    <tr>\n",
       "      <th>132</th>\n",
       "      <td>3.027505</td>\n",
       "      <td>-0.889467</td>\n",
       "      <td>2.294716</td>\n",
       "      <td>-0.513329</td>\n",
       "      <td>-0.828536</td>\n",
       "      <td>0.893648</td>\n",
       "      <td>-1.754433</td>\n",
       "      <td>1.492098</td>\n",
       "      <td>-0.687607</td>\n",
       "      <td>Sierra Leone</td>\n",
       "    </tr>\n",
       "    <tr>\n",
       "      <th>137</th>\n",
       "      <td>0.383753</td>\n",
       "      <td>-0.457704</td>\n",
       "      <td>0.775692</td>\n",
       "      <td>-0.807483</td>\n",
       "      <td>-0.267670</td>\n",
       "      <td>-0.135860</td>\n",
       "      <td>-1.833382</td>\n",
       "      <td>-0.237171</td>\n",
       "      <td>-0.311056</td>\n",
       "      <td>South Africa</td>\n",
       "    </tr>\n",
       "    <tr>\n",
       "      <th>166</th>\n",
       "      <td>1.114951</td>\n",
       "      <td>-0.150348</td>\n",
       "      <td>-0.338015</td>\n",
       "      <td>-0.662477</td>\n",
       "      <td>-0.721358</td>\n",
       "      <td>0.590015</td>\n",
       "      <td>-2.092785</td>\n",
       "      <td>1.624609</td>\n",
       "      <td>-0.629546</td>\n",
       "      <td>Zambia</td>\n",
       "    </tr>\n",
       "  </tbody>\n",
       "</table>\n",
       "</div>"
      ],
      "text/plain": [
       "     child_mort   exports    health   imports    income  inflation  \\\n",
       "31     2.753928 -1.072418 -1.035452 -0.844770 -0.845810  -0.547664   \n",
       "66     4.221297 -0.944352  0.034438  0.737863 -0.813969  -0.221257   \n",
       "87     1.527804 -0.062532  1.564416  2.241778 -0.768184  -0.344609   \n",
       "94     1.298994 -0.669927 -0.082410 -0.496757 -0.838422   0.409732   \n",
       "106    1.560136 -0.351593 -0.586317 -0.028596 -0.844249  -0.013458   \n",
       "132    3.027505 -0.889467  2.294716 -0.513329 -0.828536   0.893648   \n",
       "137    0.383753 -0.457704  0.775692 -0.807483 -0.267670  -0.135860   \n",
       "166    1.114951 -0.150348 -0.338015 -0.662477 -0.721358   0.590015   \n",
       "\n",
       "     life_expec  total_fer      gdpp                   country  \n",
       "31    -2.600313   1.498724 -0.685035  Central African Republic  \n",
       "66    -4.337186   0.253120 -0.673215                     Haiti  \n",
       "87    -2.713097   0.233243 -0.645415                   Lesotho  \n",
       "94    -1.968722   1.564979 -0.684324                    Malawi  \n",
       "106   -1.810825   1.730618 -0.686513                Mozambique  \n",
       "132   -1.754433   1.492098 -0.687607              Sierra Leone  \n",
       "137   -1.833382  -0.237171 -0.311056              South Africa  \n",
       "166   -2.092785   1.624609 -0.629546                    Zambia  "
      ]
     },
     "execution_count": 162,
     "metadata": {},
     "output_type": "execute_result"
    }
   ],
   "source": [
    "#Countries less than the mean calcualted above for life expectancy \n",
    "life_expec_belowmean=country_norm_with_country.loc[(country_norm_with_country.life_expec < -1.7143318506051353)]\n",
    "life_expec_belowmean"
   ]
  },
  {
   "cell_type": "code",
   "execution_count": 163,
   "metadata": {},
   "outputs": [
    {
     "data": {
      "text/html": [
       "<div>\n",
       "<style scoped>\n",
       "    .dataframe tbody tr th:only-of-type {\n",
       "        vertical-align: middle;\n",
       "    }\n",
       "\n",
       "    .dataframe tbody tr th {\n",
       "        vertical-align: top;\n",
       "    }\n",
       "\n",
       "    .dataframe thead th {\n",
       "        text-align: right;\n",
       "    }\n",
       "</style>\n",
       "<table border=\"1\" class=\"dataframe\">\n",
       "  <thead>\n",
       "    <tr style=\"text-align: right;\">\n",
       "      <th></th>\n",
       "      <th>child_mort</th>\n",
       "      <th>exports</th>\n",
       "      <th>health</th>\n",
       "      <th>imports</th>\n",
       "      <th>income</th>\n",
       "      <th>inflation</th>\n",
       "      <th>life_expec</th>\n",
       "      <th>total_fer</th>\n",
       "      <th>gdpp</th>\n",
       "      <th>country</th>\n",
       "    </tr>\n",
       "  </thead>\n",
       "  <tbody>\n",
       "    <tr>\n",
       "      <th>3</th>\n",
       "      <td>2.007808</td>\n",
       "      <td>0.775381</td>\n",
       "      <td>-1.448071</td>\n",
       "      <td>-0.165315</td>\n",
       "      <td>-0.585043</td>\n",
       "      <td>1.387054</td>\n",
       "      <td>-1.179234</td>\n",
       "      <td>2.128151</td>\n",
       "      <td>-0.516268</td>\n",
       "      <td>Angola</td>\n",
       "    </tr>\n",
       "    <tr>\n",
       "      <th>25</th>\n",
       "      <td>1.933196</td>\n",
       "      <td>-0.801651</td>\n",
       "      <td>-0.027638</td>\n",
       "      <td>-0.716337</td>\n",
       "      <td>-0.817611</td>\n",
       "      <td>-0.092213</td>\n",
       "      <td>-1.427359</td>\n",
       "      <td>1.936010</td>\n",
       "      <td>-0.677976</td>\n",
       "      <td>Burkina Faso</td>\n",
       "    </tr>\n",
       "    <tr>\n",
       "      <th>31</th>\n",
       "      <td>2.753928</td>\n",
       "      <td>-1.072418</td>\n",
       "      <td>-1.035452</td>\n",
       "      <td>-0.844770</td>\n",
       "      <td>-0.845810</td>\n",
       "      <td>-0.547664</td>\n",
       "      <td>-2.600313</td>\n",
       "      <td>1.498724</td>\n",
       "      <td>-0.685035</td>\n",
       "      <td>Central African Republic</td>\n",
       "    </tr>\n",
       "    <tr>\n",
       "      <th>32</th>\n",
       "      <td>2.778798</td>\n",
       "      <td>-0.157666</td>\n",
       "      <td>-0.834619</td>\n",
       "      <td>-0.140457</td>\n",
       "      <td>-0.791596</td>\n",
       "      <td>-0.132065</td>\n",
       "      <td>-1.585257</td>\n",
       "      <td>2.413050</td>\n",
       "      <td>-0.660355</td>\n",
       "      <td>Chad</td>\n",
       "    </tr>\n",
       "    <tr>\n",
       "      <th>37</th>\n",
       "      <td>1.933196</td>\n",
       "      <td>-0.000328</td>\n",
       "      <td>0.399588</td>\n",
       "      <td>0.112267</td>\n",
       "      <td>-0.860326</td>\n",
       "      <td>1.235237</td>\n",
       "      <td>-1.472473</td>\n",
       "      <td>2.379922</td>\n",
       "      <td>-0.691164</td>\n",
       "      <td>Congo, Dem. Rep.</td>\n",
       "    </tr>\n",
       "    <tr>\n",
       "      <th>64</th>\n",
       "      <td>1.883454</td>\n",
       "      <td>-0.958988</td>\n",
       "      <td>0.615026</td>\n",
       "      <td>-0.484328</td>\n",
       "      <td>-0.819692</td>\n",
       "      <td>-0.456574</td>\n",
       "      <td>-1.686762</td>\n",
       "      <td>1.392715</td>\n",
       "      <td>-0.679508</td>\n",
       "      <td>Guinea-Bissau</td>\n",
       "    </tr>\n",
       "    <tr>\n",
       "      <th>66</th>\n",
       "      <td>4.221297</td>\n",
       "      <td>-0.944352</td>\n",
       "      <td>0.034438</td>\n",
       "      <td>0.737863</td>\n",
       "      <td>-0.813969</td>\n",
       "      <td>-0.221257</td>\n",
       "      <td>-4.337186</td>\n",
       "      <td>0.253120</td>\n",
       "      <td>-0.673215</td>\n",
       "      <td>Haiti</td>\n",
       "    </tr>\n",
       "    <tr>\n",
       "      <th>97</th>\n",
       "      <td>2.455480</td>\n",
       "      <td>-0.669927</td>\n",
       "      <td>-0.670302</td>\n",
       "      <td>-0.488471</td>\n",
       "      <td>-0.794718</td>\n",
       "      <td>-0.323734</td>\n",
       "      <td>-1.246905</td>\n",
       "      <td>2.386548</td>\n",
       "      <td>-0.670697</td>\n",
       "      <td>Mali</td>\n",
       "    </tr>\n",
       "    <tr>\n",
       "      <th>112</th>\n",
       "      <td>2.107290</td>\n",
       "      <td>-0.691881</td>\n",
       "      <td>-0.604575</td>\n",
       "      <td>0.091552</td>\n",
       "      <td>-0.849660</td>\n",
       "      <td>-0.496426</td>\n",
       "      <td>-1.325854</td>\n",
       "      <td>3.009349</td>\n",
       "      <td>-0.690398</td>\n",
       "      <td>Niger</td>\n",
       "    </tr>\n",
       "    <tr>\n",
       "      <th>113</th>\n",
       "      <td>2.281385</td>\n",
       "      <td>-0.578452</td>\n",
       "      <td>-0.637438</td>\n",
       "      <td>-1.221785</td>\n",
       "      <td>-0.624065</td>\n",
       "      <td>9.129718</td>\n",
       "      <td>-1.134121</td>\n",
       "      <td>1.916133</td>\n",
       "      <td>-0.581936</td>\n",
       "      <td>Nigeria</td>\n",
       "    </tr>\n",
       "    <tr>\n",
       "      <th>132</th>\n",
       "      <td>3.027505</td>\n",
       "      <td>-0.889467</td>\n",
       "      <td>2.294716</td>\n",
       "      <td>-0.513329</td>\n",
       "      <td>-0.828536</td>\n",
       "      <td>0.893648</td>\n",
       "      <td>-1.754433</td>\n",
       "      <td>1.492098</td>\n",
       "      <td>-0.687607</td>\n",
       "      <td>Sierra Leone</td>\n",
       "    </tr>\n",
       "  </tbody>\n",
       "</table>\n",
       "</div>"
      ],
      "text/plain": [
       "     child_mort   exports    health   imports    income  inflation  \\\n",
       "3      2.007808  0.775381 -1.448071 -0.165315 -0.585043   1.387054   \n",
       "25     1.933196 -0.801651 -0.027638 -0.716337 -0.817611  -0.092213   \n",
       "31     2.753928 -1.072418 -1.035452 -0.844770 -0.845810  -0.547664   \n",
       "32     2.778798 -0.157666 -0.834619 -0.140457 -0.791596  -0.132065   \n",
       "37     1.933196 -0.000328  0.399588  0.112267 -0.860326   1.235237   \n",
       "64     1.883454 -0.958988  0.615026 -0.484328 -0.819692  -0.456574   \n",
       "66     4.221297 -0.944352  0.034438  0.737863 -0.813969  -0.221257   \n",
       "97     2.455480 -0.669927 -0.670302 -0.488471 -0.794718  -0.323734   \n",
       "112    2.107290 -0.691881 -0.604575  0.091552 -0.849660  -0.496426   \n",
       "113    2.281385 -0.578452 -0.637438 -1.221785 -0.624065   9.129718   \n",
       "132    3.027505 -0.889467  2.294716 -0.513329 -0.828536   0.893648   \n",
       "\n",
       "     life_expec  total_fer      gdpp                   country  \n",
       "3     -1.179234   2.128151 -0.516268                    Angola  \n",
       "25    -1.427359   1.936010 -0.677976              Burkina Faso  \n",
       "31    -2.600313   1.498724 -0.685035  Central African Republic  \n",
       "32    -1.585257   2.413050 -0.660355                      Chad  \n",
       "37    -1.472473   2.379922 -0.691164          Congo, Dem. Rep.  \n",
       "64    -1.686762   1.392715 -0.679508             Guinea-Bissau  \n",
       "66    -4.337186   0.253120 -0.673215                     Haiti  \n",
       "97    -1.246905   2.386548 -0.670697                      Mali  \n",
       "112   -1.325854   3.009349 -0.690398                     Niger  \n",
       "113   -1.134121   1.916133 -0.581936                   Nigeria  \n",
       "132   -1.754433   1.492098 -0.687607              Sierra Leone  "
      ]
     },
     "execution_count": 163,
     "metadata": {},
     "output_type": "execute_result"
    }
   ],
   "source": [
    "#Countries having higher value than the mean calcualted above \n",
    "childmort_abvmean=country_norm_with_country.loc[(country_norm_with_country.child_mort > 1.8125729038547658)]\n",
    "childmort_abvmean"
   ]
  },
  {
   "cell_type": "code",
   "execution_count": 164,
   "metadata": {},
   "outputs": [
    {
     "data": {
      "text/plain": [
       "{'Central African Republic', 'Haiti', 'Sierra Leone'}"
      ]
     },
     "execution_count": 164,
     "metadata": {},
     "output_type": "execute_result"
    }
   ],
   "source": [
    "set(childmort_abvmean.country) & set(life_expec_belowmean.country)"
   ]
  },
  {
   "cell_type": "markdown",
   "metadata": {},
   "source": [
    "## Cluster Plots "
   ]
  },
  {
   "cell_type": "markdown",
   "metadata": {},
   "source": [
    "### K Means Clustering  "
   ]
  },
  {
   "cell_type": "code",
   "execution_count": 168,
   "metadata": {},
   "outputs": [
    {
     "data": {
      "image/png": "[encoded data removed]",
      "text/plain": [
       "<Figure size 432x288 with 1 Axes>"
      ]
     },
     "metadata": {
      "needs_background": "light"
     },
     "output_type": "display_data"
    }
   ],
   "source": [
    "plt.figure('Kmeans with 6 clusters')\n",
    "plt.scatter(pca_km_6['life_expec'], pca_km_6['child_mort'], c=pca_km_6.ClusterID)\n",
    "plt.xlabel(\"Life Expectancy\")\n",
    "plt.ylabel(\"Child Mortality\")\n",
    "plt.show()"
   ]
  },
  {
   "cell_type": "markdown",
   "metadata": {},
   "source": [
    "### Hierarchical Cluserting"
   ]
  },
  {
   "cell_type": "code",
   "execution_count": 170,
   "metadata": {},
   "outputs": [
    {
     "data": {
      "image/png": "[encoded data removed]",
      "text/plain": [
       "<Figure size 432x288 with 1 Axes>"
      ]
     },
     "metadata": {
      "needs_background": "light"
     },
     "output_type": "display_data"
    }
   ],
   "source": [
    "plt.figure('HC with 6 clusters')\n",
    "plt.scatter(countrydata_hc_6['life_expec'], countrydata_hc_6['child_mort'], c=countrydata_hc_6.ClusterID)\n",
    "plt.xlabel(\"Life Expectancy\")\n",
    "plt.ylabel(\"Child Mortality\")\n",
    "plt.show()"
   ]
  },
  {
   "cell_type": "markdown",
   "metadata": {},
   "source": [
    "### Clustering based on PCA"
   ]
  },
  {
   "cell_type": "code",
   "execution_count": 173,
   "metadata": {},
   "outputs": [
    {
     "data": {
      "image/png": "[encoded data removed]",
      "text/plain": [
       "<Figure size 432x288 with 1 Axes>"
      ]
     },
     "metadata": {
      "needs_background": "light"
     },
     "output_type": "display_data"
    }
   ],
   "source": [
    "plt.figure('PCA - for PC1 & PC2')\n",
    "plt.scatter(pca_km['PC1'], pca_km['PC2'], c=pca_km.ClusterID)\n",
    "plt.xlabel(\"PC1\")\n",
    "plt.ylabel(\"PC2\")\n",
    "plt.title (\"PCA - for PC1 & PC2 - K=5\")\n",
    "plt.show()"
   ]
  },
  {
   "cell_type": "code",
   "execution_count": 174,
   "metadata": {},
   "outputs": [
    {
     "data": {
      "image/png": "[encoded data removed]",
      "text/plain": [
       "<Figure size 432x288 with 1 Axes>"
      ]
     },
     "metadata": {
      "needs_background": "light"
     },
     "output_type": "display_data"
    }
   ],
   "source": [
    "plt.figure('PCA - for PC1 & PC2')\n",
    "plt.scatter(pca_km_6['PC1'], pca_km_6['PC2'], c=pca_km_6.ClusterID)\n",
    "plt.xlabel(\"PC1\")\n",
    "plt.ylabel(\"PC2\")\n",
    "plt.title (\"PCA - for PC1 & PC2 - K=6\")\n",
    "plt.show()"
   ]
  },
  {
   "cell_type": "markdown",
   "metadata": {},
   "source": [
    "<B>Summary :</B> \n",
    "\n",
    "Child Mortality and Life expectancy are coming out as 2 top influcencing variables.\n",
    "They are also related.\n",
    "\n",
    "By both clustering mehtods, KMeans and HC, below countries emerge as top countries which will require investment.\n",
    "\n",
    "\n",
    "1. 'Central African Republic'\n",
    "2. 'Haiti', \n",
    "3. 'Sierra Leone'\n",
    "4. 'Guinea-Bissau' \n"
   ]
  }
 ],
 "metadata": {
  "kernelspec": {
   "display_name": "Python 3",
   "language": "python",
   "name": "python3"
  },
  "language_info": {
   "codemirror_mode": {
    "name": "ipython",
    "version": 3
   },
   "file_extension": ".py",
   "mimetype": "text/x-python",
   "name": "python",
   "nbconvert_exporter": "python",
   "pygments_lexer": "ipython3",
   "version": "3.7.1"
  }
 },
 "nbformat": 4,
 "nbformat_minor": 2
}
