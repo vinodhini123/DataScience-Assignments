{
 "cells": [
  {
   "cell_type": "markdown",
   "metadata": {},
   "source": [
    "# BeerMart Recommendation Engine\n",
    "\n",
    "## Problem Statement\n",
    "\n",
    "You are the sales manager for \"BeerMart\", an online beer store in the United States. You want to build a recommendation system (collaborative) for your store, where customers will be recommended the beer that they are most likely to buy. You collect data about the ratings that the customers have given in the past. You can download the dataset from the link below.You are the sales manager for \"BeerMart\", an online beer store in the United States. You want to build a recommendation system (collaborative) for your store, where customers will be recommended the beer that they are most likely to buy. You collect data about the ratings that the customers have given in the past. You can download the dataset from the link below."
   ]
  },
  {
   "cell_type": "code",
   "execution_count": 6,
   "metadata": {},
   "outputs": [],
   "source": [
    "# import required libraries\n",
    "import pandas as pd\n",
    "import numpy as np\n",
    "import matplotlib.pyplot as plt\n",
    "import seaborn as sns\n",
    "\n",
    "# Reading ratings file\n",
    "ratings = pd.read_csv(r'beer_data.csv', encoding='latin-1')"
   ]
  },
  {
   "cell_type": "code",
   "execution_count": 7,
   "metadata": {},
   "outputs": [
    {
     "data": {
      "text/html": [
       "<div>\n",
       "<style scoped>\n",
       "    .dataframe tbody tr th:only-of-type {\n",
       "        vertical-align: middle;\n",
       "    }\n",
       "\n",
       "    .dataframe tbody tr th {\n",
       "        vertical-align: top;\n",
       "    }\n",
       "\n",
       "    .dataframe thead th {\n",
       "        text-align: right;\n",
       "    }\n",
       "</style>\n",
       "<table border=\"1\" class=\"dataframe\">\n",
       "  <thead>\n",
       "    <tr style=\"text-align: right;\">\n",
       "      <th></th>\n",
       "      <th>beer_beerid</th>\n",
       "      <th>review_profilename</th>\n",
       "      <th>review_overall</th>\n",
       "    </tr>\n",
       "  </thead>\n",
       "  <tbody>\n",
       "    <tr>\n",
       "      <th>0</th>\n",
       "      <td>48215</td>\n",
       "      <td>stcules</td>\n",
       "      <td>3.0</td>\n",
       "    </tr>\n",
       "    <tr>\n",
       "      <th>1</th>\n",
       "      <td>52159</td>\n",
       "      <td>oline73</td>\n",
       "      <td>3.0</td>\n",
       "    </tr>\n",
       "    <tr>\n",
       "      <th>2</th>\n",
       "      <td>52159</td>\n",
       "      <td>alpinebryant</td>\n",
       "      <td>3.0</td>\n",
       "    </tr>\n",
       "    <tr>\n",
       "      <th>3</th>\n",
       "      <td>52159</td>\n",
       "      <td>rawthar</td>\n",
       "      <td>4.0</td>\n",
       "    </tr>\n",
       "    <tr>\n",
       "      <th>4</th>\n",
       "      <td>52159</td>\n",
       "      <td>RangerClegg</td>\n",
       "      <td>3.5</td>\n",
       "    </tr>\n",
       "  </tbody>\n",
       "</table>\n",
       "</div>"
      ],
      "text/plain": [
       "   beer_beerid review_profilename  review_overall\n",
       "0        48215            stcules             3.0\n",
       "1        52159            oline73             3.0\n",
       "2        52159       alpinebryant             3.0\n",
       "3        52159            rawthar             4.0\n",
       "4        52159        RangerClegg             3.5"
      ]
     },
     "execution_count": 7,
     "metadata": {},
     "output_type": "execute_result"
    }
   ],
   "source": [
    "### Quick view of the loaded data.\n",
    "ratings.head(5)"
   ]
  },
  {
   "cell_type": "markdown",
   "metadata": {},
   "source": [
    "### Data Analysis"
   ]
  },
  {
   "cell_type": "code",
   "execution_count": 8,
   "metadata": {},
   "outputs": [
    {
     "data": {
      "text/plain": [
       "count    475984.000000\n",
       "mean          3.814827\n",
       "std           0.720411\n",
       "min           0.000000\n",
       "25%           3.500000\n",
       "50%           4.000000\n",
       "75%           4.500000\n",
       "max           5.000000\n",
       "Name: review_overall, dtype: float64"
      ]
     },
     "execution_count": 8,
     "metadata": {},
     "output_type": "execute_result"
    }
   ],
   "source": [
    "### Get an idea of the rating spread.\n",
    "ratings['review_overall'].describe()"
   ]
  },
  {
   "cell_type": "code",
   "execution_count": 9,
   "metadata": {},
   "outputs": [
    {
     "data": {
      "text/plain": [
       "(475984, 3)"
      ]
     },
     "execution_count": 9,
     "metadata": {},
     "output_type": "execute_result"
    }
   ],
   "source": [
    "ratings.shape"
   ]
  },
  {
   "cell_type": "code",
   "execution_count": 10,
   "metadata": {},
   "outputs": [],
   "source": [
    "### Drop any null values for beerid or user.\n",
    "ratings=ratings.dropna(subset=['beer_beerid','review_profilename'])  "
   ]
  },
  {
   "cell_type": "code",
   "execution_count": 11,
   "metadata": {},
   "outputs": [
    {
     "data": {
      "text/plain": [
       "(475884, 3)"
      ]
     },
     "execution_count": 11,
     "metadata": {},
     "output_type": "execute_result"
    }
   ],
   "source": [
    "ratings.shape"
   ]
  },
  {
   "cell_type": "code",
   "execution_count": 12,
   "metadata": {},
   "outputs": [],
   "source": [
    "## Drop duplicates if any.\n",
    "ratings.drop_duplicates(subset=['beer_beerid', 'review_profilename'], keep='first',inplace=True)"
   ]
  },
  {
   "cell_type": "code",
   "execution_count": 13,
   "metadata": {},
   "outputs": [
    {
     "data": {
      "text/plain": [
       "(474462, 3)"
      ]
     },
     "execution_count": 13,
     "metadata": {},
     "output_type": "execute_result"
    }
   ],
   "source": [
    "ratings.shape"
   ]
  },
  {
   "cell_type": "code",
   "execution_count": 14,
   "metadata": {},
   "outputs": [],
   "source": [
    "### Find the number of ratings marked against each beer to find the optimum number N beers to be considered for further analysis.\n",
    "df_count_beerid=ratings[['beer_beerid','review_overall']].groupby('beer_beerid').agg(['count'])"
   ]
  },
  {
   "cell_type": "code",
   "execution_count": 15,
   "metadata": {},
   "outputs": [
    {
     "data": {
      "text/html": [
       "<div>\n",
       "<style scoped>\n",
       "    .dataframe tbody tr th:only-of-type {\n",
       "        vertical-align: middle;\n",
       "    }\n",
       "\n",
       "    .dataframe tbody tr th {\n",
       "        vertical-align: top;\n",
       "    }\n",
       "\n",
       "    .dataframe thead tr th {\n",
       "        text-align: left;\n",
       "    }\n",
       "</style>\n",
       "<table border=\"1\" class=\"dataframe\">\n",
       "  <thead>\n",
       "    <tr>\n",
       "      <th></th>\n",
       "      <th>review_overall</th>\n",
       "    </tr>\n",
       "    <tr>\n",
       "      <th></th>\n",
       "      <th>count</th>\n",
       "    </tr>\n",
       "  </thead>\n",
       "  <tbody>\n",
       "    <tr>\n",
       "      <th>count</th>\n",
       "      <td>40304.000000</td>\n",
       "    </tr>\n",
       "    <tr>\n",
       "      <th>mean</th>\n",
       "      <td>11.772082</td>\n",
       "    </tr>\n",
       "    <tr>\n",
       "      <th>std</th>\n",
       "      <td>41.888449</td>\n",
       "    </tr>\n",
       "    <tr>\n",
       "      <th>min</th>\n",
       "      <td>1.000000</td>\n",
       "    </tr>\n",
       "    <tr>\n",
       "      <th>25%</th>\n",
       "      <td>1.000000</td>\n",
       "    </tr>\n",
       "    <tr>\n",
       "      <th>50%</th>\n",
       "      <td>2.000000</td>\n",
       "    </tr>\n",
       "    <tr>\n",
       "      <th>75%</th>\n",
       "      <td>5.000000</td>\n",
       "    </tr>\n",
       "    <tr>\n",
       "      <th>max</th>\n",
       "      <td>977.000000</td>\n",
       "    </tr>\n",
       "  </tbody>\n",
       "</table>\n",
       "</div>"
      ],
      "text/plain": [
       "      review_overall\n",
       "               count\n",
       "count   40304.000000\n",
       "mean       11.772082\n",
       "std        41.888449\n",
       "min         1.000000\n",
       "25%         1.000000\n",
       "50%         2.000000\n",
       "75%         5.000000\n",
       "max       977.000000"
      ]
     },
     "execution_count": 15,
     "metadata": {},
     "output_type": "execute_result"
    }
   ],
   "source": [
    "df_count_beerid.describe()"
   ]
  },
  {
   "cell_type": "code",
   "execution_count": 16,
   "metadata": {},
   "outputs": [],
   "source": [
    "### From the above avg number of ratings received per beer is ~>11.\n",
    "### Filter out the beers which doesn't have 12 or more ratings.\n",
    "counts = ratings['beer_beerid'].value_counts()\n",
    "ratings=ratings[ratings['beer_beerid'].isin(counts[counts > 11].index)]"
   ]
  },
  {
   "cell_type": "code",
   "execution_count": 17,
   "metadata": {},
   "outputs": [
    {
     "data": {
      "text/plain": [
       "(392172, 3)"
      ]
     },
     "execution_count": 17,
     "metadata": {},
     "output_type": "execute_result"
    }
   ],
   "source": [
    "ratings.shape"
   ]
  },
  {
   "cell_type": "code",
   "execution_count": 18,
   "metadata": {},
   "outputs": [
    {
     "data": {
      "image/png": "[encoded data removed]",
      "text/plain": [
       "<Figure size 720x432 with 1 Axes>"
      ]
     },
     "metadata": {
      "needs_background": "light"
     },
     "output_type": "display_data"
    }
   ],
   "source": [
    "### Understand the frequency of rating provided . Rating 4 seems higher overall.\n",
    "plt.figure(figsize=(10, 6))\n",
    "sns.countplot(y=\"review_overall\", data=ratings)\n",
    "plt.show()"
   ]
  },
  {
   "cell_type": "code",
   "execution_count": 19,
   "metadata": {},
   "outputs": [
    {
     "data": {
      "text/plain": [
       "count    6150.000000\n",
       "mean        3.757049\n",
       "std         0.383597\n",
       "min         1.425676\n",
       "25%         3.588235\n",
       "50%         3.817157\n",
       "75%         4.000000\n",
       "max         4.875000\n",
       "Name: review_overall, dtype: float64"
      ]
     },
     "execution_count": 19,
     "metadata": {},
     "output_type": "execute_result"
    }
   ],
   "source": [
    "### Understand the average beer ratings :  3.757049\n",
    "group_beerid=ratings.groupby('beer_beerid')\n",
    "mean_beerid=group_beerid.review_overall.mean()\n",
    "mean_beerid.describe()"
   ]
  },
  {
   "cell_type": "code",
   "execution_count": null,
   "metadata": {},
   "outputs": [],
   "source": [
    "group_beerid.review_overall.agg(['count']).sort_values(by='count',ascending=False).head(20)"
   ]
  },
  {
   "cell_type": "code",
   "execution_count": 24,
   "metadata": {},
   "outputs": [
    {
     "data": {
      "text/plain": [
       "count    21157.000000\n",
       "mean         3.923534\n",
       "std          0.642139\n",
       "min          1.000000\n",
       "25%          3.666667\n",
       "50%          4.000000\n",
       "75%          4.250000\n",
       "max          5.000000\n",
       "Name: review_overall, dtype: float64"
      ]
     },
     "execution_count": 24,
     "metadata": {},
     "output_type": "execute_result"
    }
   ],
   "source": [
    "### Understand the avergae user ratings : 3.923534\n",
    "group_user=ratings.groupby('review_profilename')\n",
    "mean_user=group_user.review_overall.mean()\n",
    "mean_user.describe()"
   ]
  },
  {
   "cell_type": "code",
   "execution_count": 104,
   "metadata": {},
   "outputs": [
    {
     "data": {
      "text/html": [
       "<div>\n",
       "<style scoped>\n",
       "    .dataframe tbody tr th:only-of-type {\n",
       "        vertical-align: middle;\n",
       "    }\n",
       "\n",
       "    .dataframe tbody tr th {\n",
       "        vertical-align: top;\n",
       "    }\n",
       "\n",
       "    .dataframe thead th {\n",
       "        text-align: right;\n",
       "    }\n",
       "</style>\n",
       "<table border=\"1\" class=\"dataframe\">\n",
       "  <thead>\n",
       "    <tr style=\"text-align: right;\">\n",
       "      <th></th>\n",
       "      <th>count</th>\n",
       "    </tr>\n",
       "    <tr>\n",
       "      <th>review_profilename</th>\n",
       "      <th></th>\n",
       "    </tr>\n",
       "  </thead>\n",
       "  <tbody>\n",
       "    <tr>\n",
       "      <th>BuckeyeNation</th>\n",
       "      <td>1016</td>\n",
       "    </tr>\n",
       "    <tr>\n",
       "      <th>mikesgroove</th>\n",
       "      <td>1016</td>\n",
       "    </tr>\n",
       "    <tr>\n",
       "      <th>northyorksammy</th>\n",
       "      <td>946</td>\n",
       "    </tr>\n",
       "    <tr>\n",
       "      <th>brentk56</th>\n",
       "      <td>808</td>\n",
       "    </tr>\n",
       "    <tr>\n",
       "      <th>WesWes</th>\n",
       "      <td>759</td>\n",
       "    </tr>\n",
       "    <tr>\n",
       "      <th>ChainGangGuy</th>\n",
       "      <td>756</td>\n",
       "    </tr>\n",
       "    <tr>\n",
       "      <th>BEERchitect</th>\n",
       "      <td>725</td>\n",
       "    </tr>\n",
       "    <tr>\n",
       "      <th>feloniousmonk</th>\n",
       "      <td>723</td>\n",
       "    </tr>\n",
       "    <tr>\n",
       "      <th>oberon</th>\n",
       "      <td>714</td>\n",
       "    </tr>\n",
       "    <tr>\n",
       "      <th>Thorpe429</th>\n",
       "      <td>690</td>\n",
       "    </tr>\n",
       "    <tr>\n",
       "      <th>TheManiacalOne</th>\n",
       "      <td>677</td>\n",
       "    </tr>\n",
       "    <tr>\n",
       "      <th>NeroFiddled</th>\n",
       "      <td>676</td>\n",
       "    </tr>\n",
       "    <tr>\n",
       "      <th>jwc215</th>\n",
       "      <td>665</td>\n",
       "    </tr>\n",
       "    <tr>\n",
       "      <th>russpowell</th>\n",
       "      <td>661</td>\n",
       "    </tr>\n",
       "    <tr>\n",
       "      <th>Gueuzedude</th>\n",
       "      <td>633</td>\n",
       "    </tr>\n",
       "    <tr>\n",
       "      <th>Phyl21ca</th>\n",
       "      <td>619</td>\n",
       "    </tr>\n",
       "    <tr>\n",
       "      <th>Wasatch</th>\n",
       "      <td>618</td>\n",
       "    </tr>\n",
       "    <tr>\n",
       "      <th>tempest</th>\n",
       "      <td>614</td>\n",
       "    </tr>\n",
       "    <tr>\n",
       "      <th>zeff80</th>\n",
       "      <td>611</td>\n",
       "    </tr>\n",
       "    <tr>\n",
       "      <th>WVbeergeek</th>\n",
       "      <td>591</td>\n",
       "    </tr>\n",
       "  </tbody>\n",
       "</table>\n",
       "</div>"
      ],
      "text/plain": [
       "                    count\n",
       "review_profilename       \n",
       "BuckeyeNation        1016\n",
       "mikesgroove          1016\n",
       "northyorksammy        946\n",
       "brentk56              808\n",
       "WesWes                759\n",
       "ChainGangGuy          756\n",
       "BEERchitect           725\n",
       "feloniousmonk         723\n",
       "oberon                714\n",
       "Thorpe429             690\n",
       "TheManiacalOne        677\n",
       "NeroFiddled           676\n",
       "jwc215                665\n",
       "russpowell            661\n",
       "Gueuzedude            633\n",
       "Phyl21ca              619\n",
       "Wasatch               618\n",
       "tempest               614\n",
       "zeff80                611\n",
       "WVbeergeek            591"
      ]
     },
     "execution_count": 104,
     "metadata": {},
     "output_type": "execute_result"
    }
   ],
   "source": [
    "group_user.review_overall.agg(['count']).sort_values(by='count',ascending=False).head(20)"
   ]
  },
  {
   "cell_type": "code",
   "execution_count": 26,
   "metadata": {},
   "outputs": [
    {
     "data": {
      "text/html": [
       "<div>\n",
       "<style scoped>\n",
       "    .dataframe tbody tr th:only-of-type {\n",
       "        vertical-align: middle;\n",
       "    }\n",
       "\n",
       "    .dataframe tbody tr th {\n",
       "        vertical-align: top;\n",
       "    }\n",
       "\n",
       "    .dataframe thead tr th {\n",
       "        text-align: left;\n",
       "    }\n",
       "</style>\n",
       "<table border=\"1\" class=\"dataframe\">\n",
       "  <thead>\n",
       "    <tr>\n",
       "      <th></th>\n",
       "      <th>review_overall</th>\n",
       "    </tr>\n",
       "    <tr>\n",
       "      <th></th>\n",
       "      <th>count</th>\n",
       "    </tr>\n",
       "  </thead>\n",
       "  <tbody>\n",
       "    <tr>\n",
       "      <th>count</th>\n",
       "      <td>21157.000000</td>\n",
       "    </tr>\n",
       "    <tr>\n",
       "      <th>mean</th>\n",
       "      <td>18.536276</td>\n",
       "    </tr>\n",
       "    <tr>\n",
       "      <th>std</th>\n",
       "      <td>51.449800</td>\n",
       "    </tr>\n",
       "    <tr>\n",
       "      <th>min</th>\n",
       "      <td>1.000000</td>\n",
       "    </tr>\n",
       "    <tr>\n",
       "      <th>25%</th>\n",
       "      <td>1.000000</td>\n",
       "    </tr>\n",
       "    <tr>\n",
       "      <th>50%</th>\n",
       "      <td>3.000000</td>\n",
       "    </tr>\n",
       "    <tr>\n",
       "      <th>75%</th>\n",
       "      <td>11.000000</td>\n",
       "    </tr>\n",
       "    <tr>\n",
       "      <th>max</th>\n",
       "      <td>1016.000000</td>\n",
       "    </tr>\n",
       "  </tbody>\n",
       "</table>\n",
       "</div>"
      ],
      "text/plain": [
       "      review_overall\n",
       "               count\n",
       "count   21157.000000\n",
       "mean       18.536276\n",
       "std        51.449800\n",
       "min         1.000000\n",
       "25%         1.000000\n",
       "50%         3.000000\n",
       "75%        11.000000\n",
       "max      1016.000000"
      ]
     },
     "execution_count": 26,
     "metadata": {},
     "output_type": "execute_result"
    }
   ],
   "source": [
    "### Understand the number of ratings provided by user. \n",
    "df_count_userrating=ratings[['review_profilename','review_overall']].groupby('review_profilename').agg(['count'])\n",
    "df_count_userrating.describe()\n",
    "### average user has provided 18 ratings "
   ]
  },
  {
   "cell_type": "code",
   "execution_count": 54,
   "metadata": {},
   "outputs": [],
   "source": [
    "### There are few users seen who have provided only 1 rating . Very less rating count from users doesnt help for recommendation.\n",
    "counts = ratings['review_profilename'].value_counts()\n",
    "ratings=ratings[ratings['review_profilename'].isin(counts[counts > 18].index)]"
   ]
  },
  {
   "cell_type": "code",
   "execution_count": 55,
   "metadata": {},
   "outputs": [
    {
     "data": {
      "text/plain": [
       "False"
      ]
     },
     "execution_count": 55,
     "metadata": {},
     "output_type": "execute_result"
    }
   ],
   "source": [
    "### Check for any null values \n",
    "ratings.isnull().values.any()"
   ]
  },
  {
   "cell_type": "markdown",
   "metadata": {},
   "source": [
    "### Recommendation Model"
   ]
  },
  {
   "cell_type": "code",
   "execution_count": 56,
   "metadata": {},
   "outputs": [],
   "source": [
    "### SPlit data into test and train sets.\n",
    "from sklearn.model_selection import train_test_split\n",
    "train, test = train_test_split(ratings, test_size=0.30, random_state=31)"
   ]
  },
  {
   "cell_type": "code",
   "execution_count": 57,
   "metadata": {},
   "outputs": [
    {
     "name": "stdout",
     "output_type": "stream",
     "text": [
      "(230642, 3)\n",
      "(98847, 3)\n"
     ]
    }
   ],
   "source": [
    "print(train.shape)\n",
    "print(test.shape)"
   ]
  },
  {
   "cell_type": "code",
   "execution_count": 58,
   "metadata": {},
   "outputs": [],
   "source": [
    "### Creating of dummy test and train datasets for predition later.\n",
    "dummy_train = train.copy()\n",
    "dummy_test = test.copy()\n",
    "dummy_train['review_overall'] = dummy_train['review_overall'].apply(lambda x: 0 if x>=1 else 1)\n",
    "dummy_test['review_overall'] = dummy_test['review_overall'].apply(lambda x: 1 if x>=1 else 0)"
   ]
  },
  {
   "cell_type": "code",
   "execution_count": 59,
   "metadata": {},
   "outputs": [],
   "source": [
    "dummy_train=dummy_train.pivot(index=\"beer_beerid\", columns=\"review_profilename\", values=\"review_overall\").fillna(1)"
   ]
  },
  {
   "cell_type": "code",
   "execution_count": 60,
   "metadata": {},
   "outputs": [],
   "source": [
    "dummy_test=dummy_test.pivot(index=\"beer_beerid\", columns=\"review_profilename\", values=\"review_overall\").fillna(0)"
   ]
  },
  {
   "cell_type": "markdown",
   "metadata": {},
   "source": [
    "### Item based similarity"
   ]
  },
  {
   "cell_type": "markdown",
   "metadata": {},
   "source": [
    "#### Using adjusted Cosine similarity  "
   ]
  },
  {
   "cell_type": "code",
   "execution_count": 61,
   "metadata": {},
   "outputs": [],
   "source": [
    "from sklearn.metrics.pairwise import pairwise_distances"
   ]
  },
  {
   "cell_type": "code",
   "execution_count": 62,
   "metadata": {},
   "outputs": [],
   "source": [
    "df_rating_adjs = train.pivot(index='beer_beerid',columns='review_profilename',values='review_overall')"
   ]
  },
  {
   "cell_type": "code",
   "execution_count": 63,
   "metadata": {},
   "outputs": [],
   "source": [
    "### normalise the ratings using mean value to subtract from the actual rating.\n",
    "mean = np.nanmean(df_rating_adjs, axis=1)\n",
    "df_subtracted = (df_rating_adjs.T-mean).T"
   ]
  },
  {
   "cell_type": "code",
   "execution_count": 64,
   "metadata": {},
   "outputs": [
    {
     "name": "stdout",
     "output_type": "stream",
     "text": [
      "[[ 1.          0.01128016  0.08427162 ...  0.         -0.01074547\n",
      "   0.        ]\n",
      " [ 0.01128016  1.          0.07137745 ...  0.          0.\n",
      "  -0.02537957]\n",
      " [ 0.08427162  0.07137745  1.         ... -0.01093929  0.\n",
      "   0.        ]\n",
      " ...\n",
      " [ 0.          0.         -0.01093929 ...  1.          0.\n",
      "   0.        ]\n",
      " [-0.01074547  0.          0.         ...  0.          1.\n",
      "   0.        ]\n",
      " [ 0.         -0.02537957  0.         ...  0.          0.\n",
      "   1.        ]]\n"
     ]
    }
   ],
   "source": [
    "# Beer Similarity Matrix\n",
    "beer_correlation = 1 - pairwise_distances(df_subtracted.fillna(0), metric='cosine')\n",
    "beer_correlation[np.isnan(beer_correlation)] = 0\n",
    "print(beer_correlation)"
   ]
  },
  {
   "cell_type": "code",
   "execution_count": 65,
   "metadata": {},
   "outputs": [
    {
     "data": {
      "text/plain": [
       "array([[1.        , 0.01128016, 0.08427162, ..., 0.        , 0.        ,\n",
       "        0.        ],\n",
       "       [0.01128016, 1.        , 0.07137745, ..., 0.        , 0.        ,\n",
       "        0.        ],\n",
       "       [0.08427162, 0.07137745, 1.        , ..., 0.        , 0.        ,\n",
       "        0.        ],\n",
       "       ...,\n",
       "       [0.        , 0.        , 0.        , ..., 1.        , 0.        ,\n",
       "        0.        ],\n",
       "       [0.        , 0.        , 0.        , ..., 0.        , 1.        ,\n",
       "        0.        ],\n",
       "       [0.        , 0.        , 0.        , ..., 0.        , 0.        ,\n",
       "        1.        ]])"
      ]
     },
     "execution_count": 65,
     "metadata": {},
     "output_type": "execute_result"
    }
   ],
   "source": [
    "### Setting any correlation value less than 0 as 0. \n",
    "beer_correlation[beer_correlation<0]=0\n",
    "beer_correlation"
   ]
  },
  {
   "cell_type": "code",
   "execution_count": 66,
   "metadata": {},
   "outputs": [
    {
     "data": {
      "text/plain": [
       "array([[0.42079767, 0.35778642, 0.58394528, ..., 1.77558368, 0.75475388,\n",
       "        0.90776436],\n",
       "       [1.53791827, 0.93111179, 0.92285944, ..., 1.61676735, 0.4900536 ,\n",
       "        0.79932656],\n",
       "       [1.34006724, 1.1494209 , 0.68088896, ..., 2.08376285, 1.1099785 ,\n",
       "        1.06662595],\n",
       "       ...,\n",
       "       [0.42858743, 0.53166466, 0.44116417, ..., 1.01044082, 0.28191901,\n",
       "        0.11705206],\n",
       "       [0.1875474 , 0.58812282, 0.14457334, ..., 0.45357215, 0.01519115,\n",
       "        0.10143486],\n",
       "       [0.07786005, 0.10580952, 0.0059528 , ..., 0.98504904, 0.39148623,\n",
       "        0.2942164 ]])"
      ]
     },
     "execution_count": 66,
     "metadata": {},
     "output_type": "execute_result"
    }
   ],
   "source": [
    "### Get the model predicted rating using correlation between beers.\n",
    "beer_predicted_ratings = np.dot(beer_correlation, df_rating_adjs.fillna(0))\n",
    "beer_predicted_ratings"
   ]
  },
  {
   "cell_type": "code",
   "execution_count": 67,
   "metadata": {},
   "outputs": [
    {
     "data": {
      "text/html": [
       "<div>\n",
       "<style scoped>\n",
       "    .dataframe tbody tr th:only-of-type {\n",
       "        vertical-align: middle;\n",
       "    }\n",
       "\n",
       "    .dataframe tbody tr th {\n",
       "        vertical-align: top;\n",
       "    }\n",
       "\n",
       "    .dataframe thead th {\n",
       "        text-align: right;\n",
       "    }\n",
       "</style>\n",
       "<table border=\"1\" class=\"dataframe\">\n",
       "  <thead>\n",
       "    <tr style=\"text-align: right;\">\n",
       "      <th>review_profilename</th>\n",
       "      <th>0110x011</th>\n",
       "      <th>05Harley</th>\n",
       "      <th>100floods</th>\n",
       "      <th>1759Girl</th>\n",
       "      <th>1Adam12</th>\n",
       "      <th>1fastz28</th>\n",
       "      <th>1whiskey</th>\n",
       "      <th>2xHops</th>\n",
       "      <th>321jeff</th>\n",
       "      <th>32hoss32</th>\n",
       "      <th>...</th>\n",
       "      <th>zerofear13</th>\n",
       "      <th>zhanson88</th>\n",
       "      <th>zimm421</th>\n",
       "      <th>zjungleist</th>\n",
       "      <th>zoolzoo</th>\n",
       "      <th>zoso1967</th>\n",
       "      <th>zoso493</th>\n",
       "      <th>zrab11</th>\n",
       "      <th>zuggy9</th>\n",
       "      <th>zymurgy4all</th>\n",
       "    </tr>\n",
       "    <tr>\n",
       "      <th>beer_beerid</th>\n",
       "      <th></th>\n",
       "      <th></th>\n",
       "      <th></th>\n",
       "      <th></th>\n",
       "      <th></th>\n",
       "      <th></th>\n",
       "      <th></th>\n",
       "      <th></th>\n",
       "      <th></th>\n",
       "      <th></th>\n",
       "      <th></th>\n",
       "      <th></th>\n",
       "      <th></th>\n",
       "      <th></th>\n",
       "      <th></th>\n",
       "      <th></th>\n",
       "      <th></th>\n",
       "      <th></th>\n",
       "      <th></th>\n",
       "      <th></th>\n",
       "      <th></th>\n",
       "    </tr>\n",
       "  </thead>\n",
       "  <tbody>\n",
       "    <tr>\n",
       "      <th>5</th>\n",
       "      <td>0.420798</td>\n",
       "      <td>0.357786</td>\n",
       "      <td>0.583945</td>\n",
       "      <td>1.481388</td>\n",
       "      <td>1.227189</td>\n",
       "      <td>3.597908</td>\n",
       "      <td>0.567064</td>\n",
       "      <td>0.414181</td>\n",
       "      <td>0.868103</td>\n",
       "      <td>0.944126</td>\n",
       "      <td>...</td>\n",
       "      <td>0.987833</td>\n",
       "      <td>1.840657</td>\n",
       "      <td>0.891556</td>\n",
       "      <td>0.429717</td>\n",
       "      <td>1.122028</td>\n",
       "      <td>3.070874</td>\n",
       "      <td>2.709123</td>\n",
       "      <td>1.775584</td>\n",
       "      <td>0.754754</td>\n",
       "      <td>0.907764</td>\n",
       "    </tr>\n",
       "    <tr>\n",
       "      <th>6</th>\n",
       "      <td>1.537918</td>\n",
       "      <td>0.931112</td>\n",
       "      <td>0.922859</td>\n",
       "      <td>0.934191</td>\n",
       "      <td>0.554284</td>\n",
       "      <td>3.279010</td>\n",
       "      <td>0.556097</td>\n",
       "      <td>0.566667</td>\n",
       "      <td>0.600458</td>\n",
       "      <td>1.231166</td>\n",
       "      <td>...</td>\n",
       "      <td>1.753076</td>\n",
       "      <td>1.172192</td>\n",
       "      <td>1.351053</td>\n",
       "      <td>0.833652</td>\n",
       "      <td>1.161524</td>\n",
       "      <td>4.024478</td>\n",
       "      <td>1.300294</td>\n",
       "      <td>1.616767</td>\n",
       "      <td>0.490054</td>\n",
       "      <td>0.799327</td>\n",
       "    </tr>\n",
       "    <tr>\n",
       "      <th>7</th>\n",
       "      <td>1.340067</td>\n",
       "      <td>1.149421</td>\n",
       "      <td>0.680889</td>\n",
       "      <td>1.669960</td>\n",
       "      <td>0.245760</td>\n",
       "      <td>3.655163</td>\n",
       "      <td>0.949222</td>\n",
       "      <td>0.683047</td>\n",
       "      <td>0.786085</td>\n",
       "      <td>1.468176</td>\n",
       "      <td>...</td>\n",
       "      <td>0.000000</td>\n",
       "      <td>2.127826</td>\n",
       "      <td>1.765382</td>\n",
       "      <td>1.006034</td>\n",
       "      <td>1.397347</td>\n",
       "      <td>4.215033</td>\n",
       "      <td>1.575149</td>\n",
       "      <td>2.083763</td>\n",
       "      <td>1.109979</td>\n",
       "      <td>1.066626</td>\n",
       "    </tr>\n",
       "    <tr>\n",
       "      <th>8</th>\n",
       "      <td>0.215259</td>\n",
       "      <td>0.751220</td>\n",
       "      <td>0.386375</td>\n",
       "      <td>0.295960</td>\n",
       "      <td>0.010896</td>\n",
       "      <td>0.889033</td>\n",
       "      <td>0.012775</td>\n",
       "      <td>0.039795</td>\n",
       "      <td>0.144450</td>\n",
       "      <td>0.006317</td>\n",
       "      <td>...</td>\n",
       "      <td>0.817390</td>\n",
       "      <td>0.358957</td>\n",
       "      <td>0.876402</td>\n",
       "      <td>0.059174</td>\n",
       "      <td>0.260530</td>\n",
       "      <td>2.146501</td>\n",
       "      <td>0.199583</td>\n",
       "      <td>0.939741</td>\n",
       "      <td>0.150499</td>\n",
       "      <td>0.184153</td>\n",
       "    </tr>\n",
       "    <tr>\n",
       "      <th>9</th>\n",
       "      <td>0.180200</td>\n",
       "      <td>0.619682</td>\n",
       "      <td>0.325375</td>\n",
       "      <td>0.985881</td>\n",
       "      <td>0.472937</td>\n",
       "      <td>1.964993</td>\n",
       "      <td>0.606644</td>\n",
       "      <td>0.405282</td>\n",
       "      <td>0.016331</td>\n",
       "      <td>0.480463</td>\n",
       "      <td>...</td>\n",
       "      <td>1.110632</td>\n",
       "      <td>2.055375</td>\n",
       "      <td>1.210207</td>\n",
       "      <td>1.367324</td>\n",
       "      <td>0.316517</td>\n",
       "      <td>2.011668</td>\n",
       "      <td>0.178998</td>\n",
       "      <td>1.290271</td>\n",
       "      <td>1.298073</td>\n",
       "      <td>1.396787</td>\n",
       "    </tr>\n",
       "  </tbody>\n",
       "</table>\n",
       "<p>5 rows × 3933 columns</p>\n",
       "</div>"
      ],
      "text/plain": [
       "review_profilename  0110x011  05Harley  100floods  1759Girl   1Adam12  \\\n",
       "beer_beerid                                                             \n",
       "5                   0.420798  0.357786   0.583945  1.481388  1.227189   \n",
       "6                   1.537918  0.931112   0.922859  0.934191  0.554284   \n",
       "7                   1.340067  1.149421   0.680889  1.669960  0.245760   \n",
       "8                   0.215259  0.751220   0.386375  0.295960  0.010896   \n",
       "9                   0.180200  0.619682   0.325375  0.985881  0.472937   \n",
       "\n",
       "review_profilename  1fastz28  1whiskey    2xHops   321jeff  32hoss32  \\\n",
       "beer_beerid                                                            \n",
       "5                   3.597908  0.567064  0.414181  0.868103  0.944126   \n",
       "6                   3.279010  0.556097  0.566667  0.600458  1.231166   \n",
       "7                   3.655163  0.949222  0.683047  0.786085  1.468176   \n",
       "8                   0.889033  0.012775  0.039795  0.144450  0.006317   \n",
       "9                   1.964993  0.606644  0.405282  0.016331  0.480463   \n",
       "\n",
       "review_profilename     ...       zerofear13  zhanson88   zimm421  zjungleist  \\\n",
       "beer_beerid            ...                                                     \n",
       "5                      ...         0.987833   1.840657  0.891556    0.429717   \n",
       "6                      ...         1.753076   1.172192  1.351053    0.833652   \n",
       "7                      ...         0.000000   2.127826  1.765382    1.006034   \n",
       "8                      ...         0.817390   0.358957  0.876402    0.059174   \n",
       "9                      ...         1.110632   2.055375  1.210207    1.367324   \n",
       "\n",
       "review_profilename   zoolzoo  zoso1967   zoso493    zrab11    zuggy9  \\\n",
       "beer_beerid                                                            \n",
       "5                   1.122028  3.070874  2.709123  1.775584  0.754754   \n",
       "6                   1.161524  4.024478  1.300294  1.616767  0.490054   \n",
       "7                   1.397347  4.215033  1.575149  2.083763  1.109979   \n",
       "8                   0.260530  2.146501  0.199583  0.939741  0.150499   \n",
       "9                   0.316517  2.011668  0.178998  1.290271  1.298073   \n",
       "\n",
       "review_profilename  zymurgy4all  \n",
       "beer_beerid                      \n",
       "5                      0.907764  \n",
       "6                      0.799327  \n",
       "7                      1.066626  \n",
       "8                      0.184153  \n",
       "9                      1.396787  \n",
       "\n",
       "[5 rows x 3933 columns]"
      ]
     },
     "execution_count": 67,
     "metadata": {},
     "output_type": "execute_result"
    }
   ],
   "source": [
    "### Find the ratings to be recommended to users who have not rated a beer earlier.\n",
    "beer_final_rating = np.multiply(beer_predicted_ratings,dummy_train)\n",
    "beer_final_rating.head()"
   ]
  },
  {
   "cell_type": "code",
   "execution_count": 68,
   "metadata": {},
   "outputs": [
    {
     "data": {
      "text/html": [
       "<div>\n",
       "<style scoped>\n",
       "    .dataframe tbody tr th:only-of-type {\n",
       "        vertical-align: middle;\n",
       "    }\n",
       "\n",
       "    .dataframe tbody tr th {\n",
       "        vertical-align: top;\n",
       "    }\n",
       "\n",
       "    .dataframe thead th {\n",
       "        text-align: right;\n",
       "    }\n",
       "</style>\n",
       "<table border=\"1\" class=\"dataframe\">\n",
       "  <thead>\n",
       "    <tr style=\"text-align: right;\">\n",
       "      <th>review_profilename</th>\n",
       "      <th>0110x011</th>\n",
       "      <th>05Harley</th>\n",
       "      <th>100floods</th>\n",
       "      <th>1759Girl</th>\n",
       "      <th>1Adam12</th>\n",
       "      <th>1fastz28</th>\n",
       "      <th>1whiskey</th>\n",
       "      <th>2xHops</th>\n",
       "      <th>321jeff</th>\n",
       "      <th>32hoss32</th>\n",
       "      <th>...</th>\n",
       "      <th>zerofear13</th>\n",
       "      <th>zhanson88</th>\n",
       "      <th>zimm421</th>\n",
       "      <th>zjungleist</th>\n",
       "      <th>zoolzoo</th>\n",
       "      <th>zoso1967</th>\n",
       "      <th>zoso493</th>\n",
       "      <th>zrab11</th>\n",
       "      <th>zuggy9</th>\n",
       "      <th>zymurgy4all</th>\n",
       "    </tr>\n",
       "    <tr>\n",
       "      <th>beer_beerid</th>\n",
       "      <th></th>\n",
       "      <th></th>\n",
       "      <th></th>\n",
       "      <th></th>\n",
       "      <th></th>\n",
       "      <th></th>\n",
       "      <th></th>\n",
       "      <th></th>\n",
       "      <th></th>\n",
       "      <th></th>\n",
       "      <th></th>\n",
       "      <th></th>\n",
       "      <th></th>\n",
       "      <th></th>\n",
       "      <th></th>\n",
       "      <th></th>\n",
       "      <th></th>\n",
       "      <th></th>\n",
       "      <th></th>\n",
       "      <th></th>\n",
       "      <th></th>\n",
       "    </tr>\n",
       "  </thead>\n",
       "  <tbody>\n",
       "    <tr>\n",
       "      <th>5</th>\n",
       "      <td>0.420798</td>\n",
       "      <td>0.357786</td>\n",
       "      <td>0.583945</td>\n",
       "      <td>1.481388</td>\n",
       "      <td>1.227189</td>\n",
       "      <td>3.597908</td>\n",
       "      <td>0.567064</td>\n",
       "      <td>0.414181</td>\n",
       "      <td>0.868103</td>\n",
       "      <td>0.944126</td>\n",
       "      <td>...</td>\n",
       "      <td>0.987833</td>\n",
       "      <td>1.840657</td>\n",
       "      <td>0.891556</td>\n",
       "      <td>0.429717</td>\n",
       "      <td>1.122028</td>\n",
       "      <td>3.070874</td>\n",
       "      <td>2.709123</td>\n",
       "      <td>1.775584</td>\n",
       "      <td>0.754754</td>\n",
       "      <td>0.907764</td>\n",
       "    </tr>\n",
       "    <tr>\n",
       "      <th>6</th>\n",
       "      <td>1.537918</td>\n",
       "      <td>0.931112</td>\n",
       "      <td>0.922859</td>\n",
       "      <td>0.934191</td>\n",
       "      <td>0.554284</td>\n",
       "      <td>3.279010</td>\n",
       "      <td>0.556097</td>\n",
       "      <td>0.566667</td>\n",
       "      <td>0.600458</td>\n",
       "      <td>1.231166</td>\n",
       "      <td>...</td>\n",
       "      <td>1.753076</td>\n",
       "      <td>1.172192</td>\n",
       "      <td>1.351053</td>\n",
       "      <td>0.833652</td>\n",
       "      <td>1.161524</td>\n",
       "      <td>4.024478</td>\n",
       "      <td>1.300294</td>\n",
       "      <td>1.616767</td>\n",
       "      <td>0.490054</td>\n",
       "      <td>0.799327</td>\n",
       "    </tr>\n",
       "    <tr>\n",
       "      <th>7</th>\n",
       "      <td>1.340067</td>\n",
       "      <td>1.149421</td>\n",
       "      <td>0.680889</td>\n",
       "      <td>1.669960</td>\n",
       "      <td>0.245760</td>\n",
       "      <td>3.655163</td>\n",
       "      <td>0.949222</td>\n",
       "      <td>0.683047</td>\n",
       "      <td>0.786085</td>\n",
       "      <td>1.468176</td>\n",
       "      <td>...</td>\n",
       "      <td>0.000000</td>\n",
       "      <td>2.127826</td>\n",
       "      <td>1.765382</td>\n",
       "      <td>1.006034</td>\n",
       "      <td>1.397347</td>\n",
       "      <td>4.215033</td>\n",
       "      <td>1.575149</td>\n",
       "      <td>2.083763</td>\n",
       "      <td>1.109979</td>\n",
       "      <td>1.066626</td>\n",
       "    </tr>\n",
       "    <tr>\n",
       "      <th>8</th>\n",
       "      <td>0.215259</td>\n",
       "      <td>0.751220</td>\n",
       "      <td>0.386375</td>\n",
       "      <td>0.295960</td>\n",
       "      <td>0.010896</td>\n",
       "      <td>0.889033</td>\n",
       "      <td>0.012775</td>\n",
       "      <td>0.039795</td>\n",
       "      <td>0.144450</td>\n",
       "      <td>0.006317</td>\n",
       "      <td>...</td>\n",
       "      <td>0.817390</td>\n",
       "      <td>0.358957</td>\n",
       "      <td>0.876402</td>\n",
       "      <td>0.059174</td>\n",
       "      <td>0.260530</td>\n",
       "      <td>2.146501</td>\n",
       "      <td>0.199583</td>\n",
       "      <td>0.939741</td>\n",
       "      <td>0.150499</td>\n",
       "      <td>0.184153</td>\n",
       "    </tr>\n",
       "    <tr>\n",
       "      <th>9</th>\n",
       "      <td>0.180200</td>\n",
       "      <td>0.619682</td>\n",
       "      <td>0.325375</td>\n",
       "      <td>0.985881</td>\n",
       "      <td>0.472937</td>\n",
       "      <td>1.964993</td>\n",
       "      <td>0.606644</td>\n",
       "      <td>0.405282</td>\n",
       "      <td>0.016331</td>\n",
       "      <td>0.480463</td>\n",
       "      <td>...</td>\n",
       "      <td>1.110632</td>\n",
       "      <td>2.055375</td>\n",
       "      <td>1.210207</td>\n",
       "      <td>1.367324</td>\n",
       "      <td>0.316517</td>\n",
       "      <td>2.011668</td>\n",
       "      <td>0.178998</td>\n",
       "      <td>1.290271</td>\n",
       "      <td>1.298073</td>\n",
       "      <td>1.396787</td>\n",
       "    </tr>\n",
       "    <tr>\n",
       "      <th>10</th>\n",
       "      <td>0.738146</td>\n",
       "      <td>1.033151</td>\n",
       "      <td>0.449526</td>\n",
       "      <td>2.112331</td>\n",
       "      <td>0.274646</td>\n",
       "      <td>3.280574</td>\n",
       "      <td>0.524629</td>\n",
       "      <td>0.534872</td>\n",
       "      <td>0.222504</td>\n",
       "      <td>1.251421</td>\n",
       "      <td>...</td>\n",
       "      <td>1.746394</td>\n",
       "      <td>1.963394</td>\n",
       "      <td>1.248891</td>\n",
       "      <td>1.239384</td>\n",
       "      <td>1.922278</td>\n",
       "      <td>3.649799</td>\n",
       "      <td>1.537197</td>\n",
       "      <td>1.912754</td>\n",
       "      <td>0.731904</td>\n",
       "      <td>1.037757</td>\n",
       "    </tr>\n",
       "    <tr>\n",
       "      <th>11</th>\n",
       "      <td>0.701259</td>\n",
       "      <td>0.377629</td>\n",
       "      <td>0.572941</td>\n",
       "      <td>0.449663</td>\n",
       "      <td>1.493280</td>\n",
       "      <td>3.791096</td>\n",
       "      <td>0.181465</td>\n",
       "      <td>1.305248</td>\n",
       "      <td>0.363589</td>\n",
       "      <td>2.202817</td>\n",
       "      <td>...</td>\n",
       "      <td>1.373737</td>\n",
       "      <td>1.606311</td>\n",
       "      <td>1.305969</td>\n",
       "      <td>0.410218</td>\n",
       "      <td>1.190233</td>\n",
       "      <td>2.047920</td>\n",
       "      <td>1.686009</td>\n",
       "      <td>0.264381</td>\n",
       "      <td>1.301022</td>\n",
       "      <td>0.781406</td>\n",
       "    </tr>\n",
       "    <tr>\n",
       "      <th>12</th>\n",
       "      <td>0.295168</td>\n",
       "      <td>0.202518</td>\n",
       "      <td>0.171145</td>\n",
       "      <td>0.534112</td>\n",
       "      <td>0.344909</td>\n",
       "      <td>2.155637</td>\n",
       "      <td>0.130269</td>\n",
       "      <td>0.255788</td>\n",
       "      <td>0.136447</td>\n",
       "      <td>0.729377</td>\n",
       "      <td>...</td>\n",
       "      <td>0.471292</td>\n",
       "      <td>0.578639</td>\n",
       "      <td>0.377336</td>\n",
       "      <td>0.244372</td>\n",
       "      <td>0.708794</td>\n",
       "      <td>0.854631</td>\n",
       "      <td>0.960852</td>\n",
       "      <td>0.256238</td>\n",
       "      <td>0.352215</td>\n",
       "      <td>0.696979</td>\n",
       "    </tr>\n",
       "    <tr>\n",
       "      <th>13</th>\n",
       "      <td>0.397733</td>\n",
       "      <td>0.475672</td>\n",
       "      <td>1.174590</td>\n",
       "      <td>1.530854</td>\n",
       "      <td>0.325993</td>\n",
       "      <td>2.093440</td>\n",
       "      <td>0.379363</td>\n",
       "      <td>0.342743</td>\n",
       "      <td>0.002843</td>\n",
       "      <td>0.550436</td>\n",
       "      <td>...</td>\n",
       "      <td>0.819459</td>\n",
       "      <td>0.600131</td>\n",
       "      <td>0.386972</td>\n",
       "      <td>0.676444</td>\n",
       "      <td>0.314505</td>\n",
       "      <td>1.127456</td>\n",
       "      <td>0.609410</td>\n",
       "      <td>2.191768</td>\n",
       "      <td>0.919651</td>\n",
       "      <td>0.604223</td>\n",
       "    </tr>\n",
       "    <tr>\n",
       "      <th>14</th>\n",
       "      <td>1.160495</td>\n",
       "      <td>1.040257</td>\n",
       "      <td>0.285794</td>\n",
       "      <td>1.103789</td>\n",
       "      <td>0.449313</td>\n",
       "      <td>2.861981</td>\n",
       "      <td>0.332186</td>\n",
       "      <td>0.431703</td>\n",
       "      <td>0.104908</td>\n",
       "      <td>0.620792</td>\n",
       "      <td>...</td>\n",
       "      <td>0.894780</td>\n",
       "      <td>1.490211</td>\n",
       "      <td>1.318845</td>\n",
       "      <td>1.147420</td>\n",
       "      <td>1.476832</td>\n",
       "      <td>1.636147</td>\n",
       "      <td>1.133552</td>\n",
       "      <td>1.137087</td>\n",
       "      <td>0.282048</td>\n",
       "      <td>0.434189</td>\n",
       "    </tr>\n",
       "  </tbody>\n",
       "</table>\n",
       "<p>10 rows × 3933 columns</p>\n",
       "</div>"
      ],
      "text/plain": [
       "review_profilename  0110x011  05Harley  100floods  1759Girl   1Adam12  \\\n",
       "beer_beerid                                                             \n",
       "5                   0.420798  0.357786   0.583945  1.481388  1.227189   \n",
       "6                   1.537918  0.931112   0.922859  0.934191  0.554284   \n",
       "7                   1.340067  1.149421   0.680889  1.669960  0.245760   \n",
       "8                   0.215259  0.751220   0.386375  0.295960  0.010896   \n",
       "9                   0.180200  0.619682   0.325375  0.985881  0.472937   \n",
       "10                  0.738146  1.033151   0.449526  2.112331  0.274646   \n",
       "11                  0.701259  0.377629   0.572941  0.449663  1.493280   \n",
       "12                  0.295168  0.202518   0.171145  0.534112  0.344909   \n",
       "13                  0.397733  0.475672   1.174590  1.530854  0.325993   \n",
       "14                  1.160495  1.040257   0.285794  1.103789  0.449313   \n",
       "\n",
       "review_profilename  1fastz28  1whiskey    2xHops   321jeff  32hoss32  \\\n",
       "beer_beerid                                                            \n",
       "5                   3.597908  0.567064  0.414181  0.868103  0.944126   \n",
       "6                   3.279010  0.556097  0.566667  0.600458  1.231166   \n",
       "7                   3.655163  0.949222  0.683047  0.786085  1.468176   \n",
       "8                   0.889033  0.012775  0.039795  0.144450  0.006317   \n",
       "9                   1.964993  0.606644  0.405282  0.016331  0.480463   \n",
       "10                  3.280574  0.524629  0.534872  0.222504  1.251421   \n",
       "11                  3.791096  0.181465  1.305248  0.363589  2.202817   \n",
       "12                  2.155637  0.130269  0.255788  0.136447  0.729377   \n",
       "13                  2.093440  0.379363  0.342743  0.002843  0.550436   \n",
       "14                  2.861981  0.332186  0.431703  0.104908  0.620792   \n",
       "\n",
       "review_profilename     ...       zerofear13  zhanson88   zimm421  zjungleist  \\\n",
       "beer_beerid            ...                                                     \n",
       "5                      ...         0.987833   1.840657  0.891556    0.429717   \n",
       "6                      ...         1.753076   1.172192  1.351053    0.833652   \n",
       "7                      ...         0.000000   2.127826  1.765382    1.006034   \n",
       "8                      ...         0.817390   0.358957  0.876402    0.059174   \n",
       "9                      ...         1.110632   2.055375  1.210207    1.367324   \n",
       "10                     ...         1.746394   1.963394  1.248891    1.239384   \n",
       "11                     ...         1.373737   1.606311  1.305969    0.410218   \n",
       "12                     ...         0.471292   0.578639  0.377336    0.244372   \n",
       "13                     ...         0.819459   0.600131  0.386972    0.676444   \n",
       "14                     ...         0.894780   1.490211  1.318845    1.147420   \n",
       "\n",
       "review_profilename   zoolzoo  zoso1967   zoso493    zrab11    zuggy9  \\\n",
       "beer_beerid                                                            \n",
       "5                   1.122028  3.070874  2.709123  1.775584  0.754754   \n",
       "6                   1.161524  4.024478  1.300294  1.616767  0.490054   \n",
       "7                   1.397347  4.215033  1.575149  2.083763  1.109979   \n",
       "8                   0.260530  2.146501  0.199583  0.939741  0.150499   \n",
       "9                   0.316517  2.011668  0.178998  1.290271  1.298073   \n",
       "10                  1.922278  3.649799  1.537197  1.912754  0.731904   \n",
       "11                  1.190233  2.047920  1.686009  0.264381  1.301022   \n",
       "12                  0.708794  0.854631  0.960852  0.256238  0.352215   \n",
       "13                  0.314505  1.127456  0.609410  2.191768  0.919651   \n",
       "14                  1.476832  1.636147  1.133552  1.137087  0.282048   \n",
       "\n",
       "review_profilename  zymurgy4all  \n",
       "beer_beerid                      \n",
       "5                      0.907764  \n",
       "6                      0.799327  \n",
       "7                      1.066626  \n",
       "8                      0.184153  \n",
       "9                      1.396787  \n",
       "10                     1.037757  \n",
       "11                     0.781406  \n",
       "12                     0.696979  \n",
       "13                     0.604223  \n",
       "14                     0.434189  \n",
       "\n",
       "[10 rows x 3933 columns]"
      ]
     },
     "execution_count": 68,
     "metadata": {},
     "output_type": "execute_result"
    }
   ],
   "source": [
    "beer_final_rating.head(10)"
   ]
  },
  {
   "cell_type": "code",
   "execution_count": 69,
   "metadata": {},
   "outputs": [],
   "source": [
    "### Check for any pattern amongst the first 10 beers\n",
    "beer_pattern=pd.DataFrame(beer_correlation).iloc[:,0:10].head(10)"
   ]
  },
  {
   "cell_type": "code",
   "execution_count": 70,
   "metadata": {},
   "outputs": [
    {
     "data": {
      "image/png": "[encoded data removed]",
      "text/plain": [
       "<Figure size 1080x504 with 2 Axes>"
      ]
     },
     "metadata": {
      "needs_background": "light"
     },
     "output_type": "display_data"
    }
   ],
   "source": [
    "plt.figure(figsize=(15, 7))\n",
    "plt.imshow(beer_pattern)\n",
    "plt.colorbar()\n",
    "plt.show()"
   ]
  },
  {
   "cell_type": "markdown",
   "metadata": {},
   "source": [
    "Observation:\n",
    "1. Beer 2 has some correlation/similarity with the other beers in the first 10.\n",
    "2. However, overall the correlation seen is very less."
   ]
  },
  {
   "cell_type": "markdown",
   "metadata": {},
   "source": [
    "### User based similariy"
   ]
  },
  {
   "cell_type": "code",
   "execution_count": 71,
   "metadata": {},
   "outputs": [
    {
     "data": {
      "text/html": [
       "<div>\n",
       "<style scoped>\n",
       "    .dataframe tbody tr th:only-of-type {\n",
       "        vertical-align: middle;\n",
       "    }\n",
       "\n",
       "    .dataframe tbody tr th {\n",
       "        vertical-align: top;\n",
       "    }\n",
       "\n",
       "    .dataframe thead th {\n",
       "        text-align: right;\n",
       "    }\n",
       "</style>\n",
       "<table border=\"1\" class=\"dataframe\">\n",
       "  <thead>\n",
       "    <tr style=\"text-align: right;\">\n",
       "      <th>beer_beerid</th>\n",
       "      <th>5</th>\n",
       "      <th>6</th>\n",
       "      <th>7</th>\n",
       "      <th>8</th>\n",
       "      <th>9</th>\n",
       "      <th>10</th>\n",
       "      <th>11</th>\n",
       "      <th>12</th>\n",
       "      <th>13</th>\n",
       "      <th>14</th>\n",
       "      <th>...</th>\n",
       "      <th>74986</th>\n",
       "      <th>75013</th>\n",
       "      <th>75086</th>\n",
       "      <th>75160</th>\n",
       "      <th>75188</th>\n",
       "      <th>75230</th>\n",
       "      <th>75894</th>\n",
       "      <th>76144</th>\n",
       "      <th>76525</th>\n",
       "      <th>76816</th>\n",
       "    </tr>\n",
       "    <tr>\n",
       "      <th>review_profilename</th>\n",
       "      <th></th>\n",
       "      <th></th>\n",
       "      <th></th>\n",
       "      <th></th>\n",
       "      <th></th>\n",
       "      <th></th>\n",
       "      <th></th>\n",
       "      <th></th>\n",
       "      <th></th>\n",
       "      <th></th>\n",
       "      <th></th>\n",
       "      <th></th>\n",
       "      <th></th>\n",
       "      <th></th>\n",
       "      <th></th>\n",
       "      <th></th>\n",
       "      <th></th>\n",
       "      <th></th>\n",
       "      <th></th>\n",
       "      <th></th>\n",
       "      <th></th>\n",
       "    </tr>\n",
       "  </thead>\n",
       "  <tbody>\n",
       "    <tr>\n",
       "      <th>0110x011</th>\n",
       "      <td>NaN</td>\n",
       "      <td>NaN</td>\n",
       "      <td>NaN</td>\n",
       "      <td>NaN</td>\n",
       "      <td>NaN</td>\n",
       "      <td>NaN</td>\n",
       "      <td>NaN</td>\n",
       "      <td>NaN</td>\n",
       "      <td>NaN</td>\n",
       "      <td>NaN</td>\n",
       "      <td>...</td>\n",
       "      <td>NaN</td>\n",
       "      <td>NaN</td>\n",
       "      <td>NaN</td>\n",
       "      <td>NaN</td>\n",
       "      <td>NaN</td>\n",
       "      <td>NaN</td>\n",
       "      <td>NaN</td>\n",
       "      <td>NaN</td>\n",
       "      <td>NaN</td>\n",
       "      <td>NaN</td>\n",
       "    </tr>\n",
       "    <tr>\n",
       "      <th>05Harley</th>\n",
       "      <td>NaN</td>\n",
       "      <td>NaN</td>\n",
       "      <td>NaN</td>\n",
       "      <td>NaN</td>\n",
       "      <td>NaN</td>\n",
       "      <td>NaN</td>\n",
       "      <td>NaN</td>\n",
       "      <td>NaN</td>\n",
       "      <td>NaN</td>\n",
       "      <td>NaN</td>\n",
       "      <td>...</td>\n",
       "      <td>NaN</td>\n",
       "      <td>NaN</td>\n",
       "      <td>NaN</td>\n",
       "      <td>NaN</td>\n",
       "      <td>NaN</td>\n",
       "      <td>NaN</td>\n",
       "      <td>NaN</td>\n",
       "      <td>NaN</td>\n",
       "      <td>NaN</td>\n",
       "      <td>NaN</td>\n",
       "    </tr>\n",
       "    <tr>\n",
       "      <th>100floods</th>\n",
       "      <td>NaN</td>\n",
       "      <td>NaN</td>\n",
       "      <td>NaN</td>\n",
       "      <td>NaN</td>\n",
       "      <td>NaN</td>\n",
       "      <td>NaN</td>\n",
       "      <td>NaN</td>\n",
       "      <td>NaN</td>\n",
       "      <td>NaN</td>\n",
       "      <td>NaN</td>\n",
       "      <td>...</td>\n",
       "      <td>NaN</td>\n",
       "      <td>NaN</td>\n",
       "      <td>NaN</td>\n",
       "      <td>NaN</td>\n",
       "      <td>NaN</td>\n",
       "      <td>NaN</td>\n",
       "      <td>NaN</td>\n",
       "      <td>NaN</td>\n",
       "      <td>NaN</td>\n",
       "      <td>NaN</td>\n",
       "    </tr>\n",
       "    <tr>\n",
       "      <th>1759Girl</th>\n",
       "      <td>NaN</td>\n",
       "      <td>NaN</td>\n",
       "      <td>NaN</td>\n",
       "      <td>NaN</td>\n",
       "      <td>NaN</td>\n",
       "      <td>NaN</td>\n",
       "      <td>NaN</td>\n",
       "      <td>NaN</td>\n",
       "      <td>NaN</td>\n",
       "      <td>NaN</td>\n",
       "      <td>...</td>\n",
       "      <td>NaN</td>\n",
       "      <td>NaN</td>\n",
       "      <td>NaN</td>\n",
       "      <td>NaN</td>\n",
       "      <td>NaN</td>\n",
       "      <td>NaN</td>\n",
       "      <td>NaN</td>\n",
       "      <td>NaN</td>\n",
       "      <td>NaN</td>\n",
       "      <td>NaN</td>\n",
       "    </tr>\n",
       "    <tr>\n",
       "      <th>1Adam12</th>\n",
       "      <td>NaN</td>\n",
       "      <td>NaN</td>\n",
       "      <td>NaN</td>\n",
       "      <td>NaN</td>\n",
       "      <td>NaN</td>\n",
       "      <td>NaN</td>\n",
       "      <td>NaN</td>\n",
       "      <td>NaN</td>\n",
       "      <td>NaN</td>\n",
       "      <td>NaN</td>\n",
       "      <td>...</td>\n",
       "      <td>NaN</td>\n",
       "      <td>NaN</td>\n",
       "      <td>NaN</td>\n",
       "      <td>NaN</td>\n",
       "      <td>NaN</td>\n",
       "      <td>NaN</td>\n",
       "      <td>NaN</td>\n",
       "      <td>NaN</td>\n",
       "      <td>NaN</td>\n",
       "      <td>NaN</td>\n",
       "    </tr>\n",
       "  </tbody>\n",
       "</table>\n",
       "<p>5 rows × 6150 columns</p>\n",
       "</div>"
      ],
      "text/plain": [
       "beer_beerid         5      6      7      8      9      10     11     12     \\\n",
       "review_profilename                                                           \n",
       "0110x011              NaN    NaN    NaN    NaN    NaN    NaN    NaN    NaN   \n",
       "05Harley              NaN    NaN    NaN    NaN    NaN    NaN    NaN    NaN   \n",
       "100floods             NaN    NaN    NaN    NaN    NaN    NaN    NaN    NaN   \n",
       "1759Girl              NaN    NaN    NaN    NaN    NaN    NaN    NaN    NaN   \n",
       "1Adam12               NaN    NaN    NaN    NaN    NaN    NaN    NaN    NaN   \n",
       "\n",
       "beer_beerid         13     14     ...    74986  75013  75086  75160  75188  \\\n",
       "review_profilename                ...                                        \n",
       "0110x011              NaN    NaN  ...      NaN    NaN    NaN    NaN    NaN   \n",
       "05Harley              NaN    NaN  ...      NaN    NaN    NaN    NaN    NaN   \n",
       "100floods             NaN    NaN  ...      NaN    NaN    NaN    NaN    NaN   \n",
       "1759Girl              NaN    NaN  ...      NaN    NaN    NaN    NaN    NaN   \n",
       "1Adam12               NaN    NaN  ...      NaN    NaN    NaN    NaN    NaN   \n",
       "\n",
       "beer_beerid         75230  75894  76144  76525  76816  \n",
       "review_profilename                                     \n",
       "0110x011              NaN    NaN    NaN    NaN    NaN  \n",
       "05Harley              NaN    NaN    NaN    NaN    NaN  \n",
       "100floods             NaN    NaN    NaN    NaN    NaN  \n",
       "1759Girl              NaN    NaN    NaN    NaN    NaN  \n",
       "1Adam12               NaN    NaN    NaN    NaN    NaN  \n",
       "\n",
       "[5 rows x 6150 columns]"
      ]
     },
     "execution_count": 71,
     "metadata": {},
     "output_type": "execute_result"
    }
   ],
   "source": [
    "### Load training data \n",
    "df_rating_adjs_user = train.pivot(index='beer_beerid', columns='review_profilename',values='review_overall').T\n",
    "df_rating_adjs_user.head(5)"
   ]
  },
  {
   "cell_type": "code",
   "execution_count": 72,
   "metadata": {},
   "outputs": [],
   "source": [
    "### normalise the rating using mean value.\n",
    "mean = np.nanmean(df_rating_adjs_user, axis=1)\n",
    "df_user_subtracted = (df_rating_adjs_user.T-mean).T"
   ]
  },
  {
   "cell_type": "code",
   "execution_count": 73,
   "metadata": {},
   "outputs": [
    {
     "name": "stdout",
     "output_type": "stream",
     "text": [
      "[[ 1.00000000e+00  0.00000000e+00 -3.63013606e-02 ...  7.21526641e-03\n",
      "   0.00000000e+00  0.00000000e+00]\n",
      " [ 0.00000000e+00  1.00000000e+00 -4.39961320e-03 ...  2.39424878e-02\n",
      "   0.00000000e+00  0.00000000e+00]\n",
      " [-3.63013606e-02 -4.39961320e-03  1.00000000e+00 ... -8.78161142e-04\n",
      "  -6.95468142e-04  0.00000000e+00]\n",
      " ...\n",
      " [ 7.21526641e-03  2.39424878e-02 -8.78161142e-04 ...  1.00000000e+00\n",
      "   1.05055865e-02  0.00000000e+00]\n",
      " [ 0.00000000e+00  0.00000000e+00 -6.95468142e-04 ...  1.05055865e-02\n",
      "   1.00000000e+00  0.00000000e+00]\n",
      " [ 0.00000000e+00  0.00000000e+00  0.00000000e+00 ...  0.00000000e+00\n",
      "   0.00000000e+00  1.00000000e+00]]\n"
     ]
    }
   ],
   "source": [
    "# User Similarity Matrix using adjusted cosine similarity \n",
    "user_correlation = 1 - pairwise_distances(df_user_subtracted.fillna(0), metric='cosine')\n",
    "user_correlation[np.isnan(user_correlation)] = 0\n",
    "print(user_correlation)"
   ]
  },
  {
   "cell_type": "code",
   "execution_count": 74,
   "metadata": {},
   "outputs": [
    {
     "data": {
      "text/plain": [
       "array([[1.        , 0.        , 0.        , ..., 0.00721527, 0.        ,\n",
       "        0.        ],\n",
       "       [0.        , 1.        , 0.        , ..., 0.02394249, 0.        ,\n",
       "        0.        ],\n",
       "       [0.        , 0.        , 1.        , ..., 0.        , 0.        ,\n",
       "        0.        ],\n",
       "       ...,\n",
       "       [0.00721527, 0.02394249, 0.        , ..., 1.        , 0.01050559,\n",
       "        0.        ],\n",
       "       [0.        , 0.        , 0.        , ..., 0.01050559, 1.        ,\n",
       "        0.        ],\n",
       "       [0.        , 0.        , 0.        , ..., 0.        , 0.        ,\n",
       "        1.        ]])"
      ]
     },
     "execution_count": 74,
     "metadata": {},
     "output_type": "execute_result"
    }
   ],
   "source": [
    "### Seting any correlation less than 0 as 0 as focus is only to find the positive correlations.\n",
    "user_correlation[user_correlation<0]=0\n",
    "user_correlation"
   ]
  },
  {
   "cell_type": "code",
   "execution_count": 75,
   "metadata": {},
   "outputs": [
    {
     "data": {
      "text/plain": [
       "(3933, 3933)"
      ]
     },
     "execution_count": 75,
     "metadata": {},
     "output_type": "execute_result"
    }
   ],
   "source": [
    "user_correlation.shape"
   ]
  },
  {
   "cell_type": "code",
   "execution_count": 76,
   "metadata": {},
   "outputs": [
    {
     "data": {
      "text/plain": [
       "array([[ 0.88689478,  1.3614413 ,  0.52496715, ...,  2.72788839,\n",
       "         3.86459375,  2.26530776],\n",
       "       [ 1.43529201,  2.41484559,  1.25061428, ...,  6.42712407,\n",
       "        10.0007727 ,  5.47021021],\n",
       "       [ 0.97887581,  2.32561986,  0.75475946, ...,  4.53027696,\n",
       "         8.01949668,  3.25659159],\n",
       "       ...,\n",
       "       [ 0.48926368,  0.72755447,  0.22635208, ...,  0.8565627 ,\n",
       "         0.33364037,  0.38834867],\n",
       "       [ 0.05008488,  0.13058175,  0.22396719, ...,  0.57784836,\n",
       "         0.29398776,  0.41291042],\n",
       "       [ 0.07618832,  0.55730431,  0.51540635, ...,  0.15653129,\n",
       "         2.08509823,  0.31434375]])"
      ]
     },
     "execution_count": 76,
     "metadata": {},
     "output_type": "execute_result"
    }
   ],
   "source": [
    "### Predict the ratings based on user correlation for all users/beers\n",
    "user_predicted_ratings = np.dot((df_rating_adjs_user.fillna(0).T),user_correlation)\n",
    "user_predicted_ratings"
   ]
  },
  {
   "cell_type": "code",
   "execution_count": 77,
   "metadata": {},
   "outputs": [
    {
     "data": {
      "text/plain": [
       "(6150, 3933)"
      ]
     },
     "execution_count": 77,
     "metadata": {},
     "output_type": "execute_result"
    }
   ],
   "source": [
    "user_predicted_ratings.shape"
   ]
  },
  {
   "cell_type": "code",
   "execution_count": 78,
   "metadata": {},
   "outputs": [
    {
     "data": {
      "text/html": [
       "<div>\n",
       "<style scoped>\n",
       "    .dataframe tbody tr th:only-of-type {\n",
       "        vertical-align: middle;\n",
       "    }\n",
       "\n",
       "    .dataframe tbody tr th {\n",
       "        vertical-align: top;\n",
       "    }\n",
       "\n",
       "    .dataframe thead th {\n",
       "        text-align: right;\n",
       "    }\n",
       "</style>\n",
       "<table border=\"1\" class=\"dataframe\">\n",
       "  <thead>\n",
       "    <tr style=\"text-align: right;\">\n",
       "      <th>review_profilename</th>\n",
       "      <th>0110x011</th>\n",
       "      <th>05Harley</th>\n",
       "      <th>100floods</th>\n",
       "      <th>1759Girl</th>\n",
       "      <th>1Adam12</th>\n",
       "      <th>1fastz28</th>\n",
       "      <th>1whiskey</th>\n",
       "      <th>2xHops</th>\n",
       "      <th>321jeff</th>\n",
       "      <th>32hoss32</th>\n",
       "      <th>...</th>\n",
       "      <th>zerofear13</th>\n",
       "      <th>zhanson88</th>\n",
       "      <th>zimm421</th>\n",
       "      <th>zjungleist</th>\n",
       "      <th>zoolzoo</th>\n",
       "      <th>zoso1967</th>\n",
       "      <th>zoso493</th>\n",
       "      <th>zrab11</th>\n",
       "      <th>zuggy9</th>\n",
       "      <th>zymurgy4all</th>\n",
       "    </tr>\n",
       "    <tr>\n",
       "      <th>beer_beerid</th>\n",
       "      <th></th>\n",
       "      <th></th>\n",
       "      <th></th>\n",
       "      <th></th>\n",
       "      <th></th>\n",
       "      <th></th>\n",
       "      <th></th>\n",
       "      <th></th>\n",
       "      <th></th>\n",
       "      <th></th>\n",
       "      <th></th>\n",
       "      <th></th>\n",
       "      <th></th>\n",
       "      <th></th>\n",
       "      <th></th>\n",
       "      <th></th>\n",
       "      <th></th>\n",
       "      <th></th>\n",
       "      <th></th>\n",
       "      <th></th>\n",
       "      <th></th>\n",
       "    </tr>\n",
       "  </thead>\n",
       "  <tbody>\n",
       "    <tr>\n",
       "      <th>5</th>\n",
       "      <td>0.886895</td>\n",
       "      <td>1.361441</td>\n",
       "      <td>0.524967</td>\n",
       "      <td>1.735419</td>\n",
       "      <td>0.774847</td>\n",
       "      <td>3.371239</td>\n",
       "      <td>0.478316</td>\n",
       "      <td>2.616862</td>\n",
       "      <td>1.093588</td>\n",
       "      <td>3.276802</td>\n",
       "      <td>...</td>\n",
       "      <td>3.031038</td>\n",
       "      <td>2.832257</td>\n",
       "      <td>4.234768</td>\n",
       "      <td>3.673141</td>\n",
       "      <td>2.042135</td>\n",
       "      <td>2.468427</td>\n",
       "      <td>3.393017</td>\n",
       "      <td>2.727888</td>\n",
       "      <td>3.864594</td>\n",
       "      <td>2.265308</td>\n",
       "    </tr>\n",
       "    <tr>\n",
       "      <th>6</th>\n",
       "      <td>1.435292</td>\n",
       "      <td>2.414846</td>\n",
       "      <td>1.250614</td>\n",
       "      <td>4.257006</td>\n",
       "      <td>2.179424</td>\n",
       "      <td>6.926800</td>\n",
       "      <td>3.590985</td>\n",
       "      <td>3.840942</td>\n",
       "      <td>2.540497</td>\n",
       "      <td>8.603237</td>\n",
       "      <td>...</td>\n",
       "      <td>5.083739</td>\n",
       "      <td>4.267673</td>\n",
       "      <td>10.730281</td>\n",
       "      <td>7.336784</td>\n",
       "      <td>3.237588</td>\n",
       "      <td>4.439361</td>\n",
       "      <td>5.037958</td>\n",
       "      <td>6.427124</td>\n",
       "      <td>10.000773</td>\n",
       "      <td>5.470210</td>\n",
       "    </tr>\n",
       "    <tr>\n",
       "      <th>7</th>\n",
       "      <td>0.978876</td>\n",
       "      <td>2.325620</td>\n",
       "      <td>0.754759</td>\n",
       "      <td>3.312747</td>\n",
       "      <td>1.356337</td>\n",
       "      <td>4.035198</td>\n",
       "      <td>0.685745</td>\n",
       "      <td>1.710673</td>\n",
       "      <td>1.176033</td>\n",
       "      <td>4.780809</td>\n",
       "      <td>...</td>\n",
       "      <td>0.000000</td>\n",
       "      <td>4.189141</td>\n",
       "      <td>8.908955</td>\n",
       "      <td>4.349723</td>\n",
       "      <td>2.530357</td>\n",
       "      <td>3.825801</td>\n",
       "      <td>2.755042</td>\n",
       "      <td>4.530277</td>\n",
       "      <td>8.019497</td>\n",
       "      <td>3.256592</td>\n",
       "    </tr>\n",
       "    <tr>\n",
       "      <th>8</th>\n",
       "      <td>0.104367</td>\n",
       "      <td>0.106982</td>\n",
       "      <td>0.191979</td>\n",
       "      <td>0.591242</td>\n",
       "      <td>0.074143</td>\n",
       "      <td>0.887297</td>\n",
       "      <td>0.182748</td>\n",
       "      <td>0.328767</td>\n",
       "      <td>0.261380</td>\n",
       "      <td>0.225596</td>\n",
       "      <td>...</td>\n",
       "      <td>0.828976</td>\n",
       "      <td>0.560398</td>\n",
       "      <td>0.729754</td>\n",
       "      <td>0.672280</td>\n",
       "      <td>0.182276</td>\n",
       "      <td>0.328402</td>\n",
       "      <td>0.376092</td>\n",
       "      <td>0.861190</td>\n",
       "      <td>0.541242</td>\n",
       "      <td>0.647438</td>\n",
       "    </tr>\n",
       "    <tr>\n",
       "      <th>9</th>\n",
       "      <td>0.207715</td>\n",
       "      <td>0.579396</td>\n",
       "      <td>0.062747</td>\n",
       "      <td>0.878079</td>\n",
       "      <td>0.526537</td>\n",
       "      <td>1.718244</td>\n",
       "      <td>0.829860</td>\n",
       "      <td>0.341279</td>\n",
       "      <td>0.645211</td>\n",
       "      <td>0.422477</td>\n",
       "      <td>...</td>\n",
       "      <td>1.148150</td>\n",
       "      <td>0.826376</td>\n",
       "      <td>1.353795</td>\n",
       "      <td>1.141566</td>\n",
       "      <td>0.169715</td>\n",
       "      <td>0.614520</td>\n",
       "      <td>1.301870</td>\n",
       "      <td>1.189521</td>\n",
       "      <td>1.007339</td>\n",
       "      <td>0.289546</td>\n",
       "    </tr>\n",
       "  </tbody>\n",
       "</table>\n",
       "<p>5 rows × 3933 columns</p>\n",
       "</div>"
      ],
      "text/plain": [
       "review_profilename  0110x011  05Harley  100floods  1759Girl   1Adam12  \\\n",
       "beer_beerid                                                             \n",
       "5                   0.886895  1.361441   0.524967  1.735419  0.774847   \n",
       "6                   1.435292  2.414846   1.250614  4.257006  2.179424   \n",
       "7                   0.978876  2.325620   0.754759  3.312747  1.356337   \n",
       "8                   0.104367  0.106982   0.191979  0.591242  0.074143   \n",
       "9                   0.207715  0.579396   0.062747  0.878079  0.526537   \n",
       "\n",
       "review_profilename  1fastz28  1whiskey    2xHops   321jeff  32hoss32  \\\n",
       "beer_beerid                                                            \n",
       "5                   3.371239  0.478316  2.616862  1.093588  3.276802   \n",
       "6                   6.926800  3.590985  3.840942  2.540497  8.603237   \n",
       "7                   4.035198  0.685745  1.710673  1.176033  4.780809   \n",
       "8                   0.887297  0.182748  0.328767  0.261380  0.225596   \n",
       "9                   1.718244  0.829860  0.341279  0.645211  0.422477   \n",
       "\n",
       "review_profilename     ...       zerofear13  zhanson88    zimm421  zjungleist  \\\n",
       "beer_beerid            ...                                                      \n",
       "5                      ...         3.031038   2.832257   4.234768    3.673141   \n",
       "6                      ...         5.083739   4.267673  10.730281    7.336784   \n",
       "7                      ...         0.000000   4.189141   8.908955    4.349723   \n",
       "8                      ...         0.828976   0.560398   0.729754    0.672280   \n",
       "9                      ...         1.148150   0.826376   1.353795    1.141566   \n",
       "\n",
       "review_profilename   zoolzoo  zoso1967   zoso493    zrab11     zuggy9  \\\n",
       "beer_beerid                                                             \n",
       "5                   2.042135  2.468427  3.393017  2.727888   3.864594   \n",
       "6                   3.237588  4.439361  5.037958  6.427124  10.000773   \n",
       "7                   2.530357  3.825801  2.755042  4.530277   8.019497   \n",
       "8                   0.182276  0.328402  0.376092  0.861190   0.541242   \n",
       "9                   0.169715  0.614520  1.301870  1.189521   1.007339   \n",
       "\n",
       "review_profilename  zymurgy4all  \n",
       "beer_beerid                      \n",
       "5                      2.265308  \n",
       "6                      5.470210  \n",
       "7                      3.256592  \n",
       "8                      0.647438  \n",
       "9                      0.289546  \n",
       "\n",
       "[5 rows x 3933 columns]"
      ]
     },
     "execution_count": 78,
     "metadata": {},
     "output_type": "execute_result"
    }
   ],
   "source": [
    "### Predict the final rating only for users -beers not rated earlier using dummy train dataset.\n",
    "user_final_rating = np.multiply(user_predicted_ratings,dummy_train)\n",
    "user_final_rating.head()"
   ]
  },
  {
   "cell_type": "code",
   "execution_count": 79,
   "metadata": {},
   "outputs": [],
   "source": [
    "### Check for any pattern amongst the first 10 users\n",
    "user_pattern=pd.DataFrame(user_correlation).iloc[:,0:10].head(10)"
   ]
  },
  {
   "cell_type": "code",
   "execution_count": 81,
   "metadata": {},
   "outputs": [
    {
     "data": {
      "image/png": "[encoded data removed]",
      "text/plain": [
       "<Figure size 1080x504 with 2 Axes>"
      ]
     },
     "metadata": {
      "needs_background": "light"
     },
     "output_type": "display_data"
    }
   ],
   "source": [
    "plt.figure(figsize=(15, 7))\n",
    "plt.imshow(user_pattern)\n",
    "plt.colorbar()\n",
    "plt.show()"
   ]
  },
  {
   "cell_type": "markdown",
   "metadata": {},
   "source": [
    "##### Observations :\n",
    "1. There is not much correlation amonst the first 10 users. \n",
    "2. There is litte correlation between user 5&9. "
   ]
  },
  {
   "cell_type": "markdown",
   "metadata": {},
   "source": [
    "## Evaluation"
   ]
  },
  {
   "cell_type": "markdown",
   "metadata": {},
   "source": [
    "### User Similarity Model"
   ]
  },
  {
   "cell_type": "code",
   "execution_count": 82,
   "metadata": {},
   "outputs": [
    {
     "name": "stdout",
     "output_type": "stream",
     "text": [
      "[[ 1.          0.          0.         ...  0.04663214  0.\n",
      "   0.        ]\n",
      " [ 0.          1.          0.         ... -0.02252077  0.\n",
      "   0.        ]\n",
      " [ 0.          0.          1.         ...  0.01720052  0.\n",
      "   0.        ]\n",
      " ...\n",
      " [ 0.04663214 -0.02252077  0.01720052 ...  1.          0.\n",
      "   0.        ]\n",
      " [ 0.          0.          0.         ...  0.          1.\n",
      "   0.        ]\n",
      " [ 0.          0.          0.         ...  0.          0.\n",
      "   1.        ]]\n"
     ]
    }
   ],
   "source": [
    "## pivot dataframe for test user \n",
    "test_df_rating_adjs_user = test.pivot(index='beer_beerid', columns='review_profilename',values='review_overall').T\n",
    "\n",
    "### Normalise the data \n",
    "mean = np.nanmean(test_df_rating_adjs_user, axis=1)\n",
    "test_df_subtracted_user = (test_df_rating_adjs_user.T-mean).T\n",
    "\n",
    "# User Similarity Matrix using adjusted cosine similarity\n",
    "test_user_correlation = 1 - pairwise_distances(test_df_subtracted_user.fillna(0), metric='cosine')\n",
    "test_user_correlation[np.isnan(test_user_correlation)] = 0\n",
    "print(test_user_correlation)"
   ]
  },
  {
   "cell_type": "code",
   "execution_count": 83,
   "metadata": {},
   "outputs": [
    {
     "data": {
      "text/plain": [
       "array([[0.32119091, 0.2481382 , 0.0588465 , ..., 0.69246153, 1.28747462,\n",
       "        0.49994983],\n",
       "       [0.55468093, 0.86191434, 0.10798118, ..., 1.75470996, 1.36562218,\n",
       "        1.26306037],\n",
       "       [0.08524839, 0.13183547, 0.20190266, ..., 0.64100094, 1.72670286,\n",
       "        1.77703987],\n",
       "       ...,\n",
       "       [0.09106316, 0.075014  , 0.        , ..., 0.42578889, 0.        ,\n",
       "        0.        ],\n",
       "       [0.32883004, 0.05775705, 0.14914865, ..., 0.0784248 , 0.35225936,\n",
       "        0.        ],\n",
       "       [0.        , 0.        , 0.00882064, ..., 0.04533031, 0.        ,\n",
       "        0.        ]])"
      ]
     },
     "execution_count": 83,
     "metadata": {},
     "output_type": "execute_result"
    }
   ],
   "source": [
    "### Set negative correlation to 0.\n",
    "### Get predicted ratings for all test user<-> beer.\n",
    "test_user_correlation[test_user_correlation<0]=0\n",
    "test_user_predicted_ratings = (np.dot(test_user_correlation, test_df_rating_adjs_user.fillna(0))).T\n",
    "test_user_predicted_ratings"
   ]
  },
  {
   "cell_type": "code",
   "execution_count": 84,
   "metadata": {},
   "outputs": [
    {
     "data": {
      "text/plain": [
       "(6116, 3933)"
      ]
     },
     "execution_count": 84,
     "metadata": {},
     "output_type": "execute_result"
    }
   ],
   "source": [
    "test_user_predicted_ratings.shape"
   ]
  },
  {
   "cell_type": "code",
   "execution_count": 85,
   "metadata": {},
   "outputs": [],
   "source": [
    "### Get the final rating only for recommendation\n",
    "test_user_final_rating = np.multiply(test_user_predicted_ratings,dummy_test)"
   ]
  },
  {
   "cell_type": "code",
   "execution_count": 86,
   "metadata": {},
   "outputs": [
    {
     "data": {
      "text/html": [
       "<div>\n",
       "<style scoped>\n",
       "    .dataframe tbody tr th:only-of-type {\n",
       "        vertical-align: middle;\n",
       "    }\n",
       "\n",
       "    .dataframe tbody tr th {\n",
       "        vertical-align: top;\n",
       "    }\n",
       "\n",
       "    .dataframe thead th {\n",
       "        text-align: right;\n",
       "    }\n",
       "</style>\n",
       "<table border=\"1\" class=\"dataframe\">\n",
       "  <thead>\n",
       "    <tr style=\"text-align: right;\">\n",
       "      <th>review_profilename</th>\n",
       "      <th>0110x011</th>\n",
       "      <th>05Harley</th>\n",
       "      <th>100floods</th>\n",
       "      <th>1759Girl</th>\n",
       "      <th>1Adam12</th>\n",
       "      <th>1fastz28</th>\n",
       "      <th>1whiskey</th>\n",
       "      <th>2xHops</th>\n",
       "      <th>321jeff</th>\n",
       "      <th>32hoss32</th>\n",
       "      <th>...</th>\n",
       "      <th>zerofear13</th>\n",
       "      <th>zhanson88</th>\n",
       "      <th>zimm421</th>\n",
       "      <th>zjungleist</th>\n",
       "      <th>zoolzoo</th>\n",
       "      <th>zoso1967</th>\n",
       "      <th>zoso493</th>\n",
       "      <th>zrab11</th>\n",
       "      <th>zuggy9</th>\n",
       "      <th>zymurgy4all</th>\n",
       "    </tr>\n",
       "    <tr>\n",
       "      <th>beer_beerid</th>\n",
       "      <th></th>\n",
       "      <th></th>\n",
       "      <th></th>\n",
       "      <th></th>\n",
       "      <th></th>\n",
       "      <th></th>\n",
       "      <th></th>\n",
       "      <th></th>\n",
       "      <th></th>\n",
       "      <th></th>\n",
       "      <th></th>\n",
       "      <th></th>\n",
       "      <th></th>\n",
       "      <th></th>\n",
       "      <th></th>\n",
       "      <th></th>\n",
       "      <th></th>\n",
       "      <th></th>\n",
       "      <th></th>\n",
       "      <th></th>\n",
       "      <th></th>\n",
       "    </tr>\n",
       "  </thead>\n",
       "  <tbody>\n",
       "    <tr>\n",
       "      <th>5</th>\n",
       "      <td>0.0</td>\n",
       "      <td>0.0</td>\n",
       "      <td>0.0</td>\n",
       "      <td>0.0</td>\n",
       "      <td>0.0</td>\n",
       "      <td>0.000000</td>\n",
       "      <td>0.0</td>\n",
       "      <td>0.0</td>\n",
       "      <td>0.0</td>\n",
       "      <td>0.0</td>\n",
       "      <td>...</td>\n",
       "      <td>0.0</td>\n",
       "      <td>0.0</td>\n",
       "      <td>0.0</td>\n",
       "      <td>0.0</td>\n",
       "      <td>0.0</td>\n",
       "      <td>0.0</td>\n",
       "      <td>0.0</td>\n",
       "      <td>0.0</td>\n",
       "      <td>0.0</td>\n",
       "      <td>0.0</td>\n",
       "    </tr>\n",
       "    <tr>\n",
       "      <th>6</th>\n",
       "      <td>0.0</td>\n",
       "      <td>0.0</td>\n",
       "      <td>0.0</td>\n",
       "      <td>0.0</td>\n",
       "      <td>0.0</td>\n",
       "      <td>4.759548</td>\n",
       "      <td>0.0</td>\n",
       "      <td>0.0</td>\n",
       "      <td>0.0</td>\n",
       "      <td>0.0</td>\n",
       "      <td>...</td>\n",
       "      <td>0.0</td>\n",
       "      <td>0.0</td>\n",
       "      <td>0.0</td>\n",
       "      <td>0.0</td>\n",
       "      <td>0.0</td>\n",
       "      <td>0.0</td>\n",
       "      <td>0.0</td>\n",
       "      <td>0.0</td>\n",
       "      <td>0.0</td>\n",
       "      <td>0.0</td>\n",
       "    </tr>\n",
       "    <tr>\n",
       "      <th>7</th>\n",
       "      <td>0.0</td>\n",
       "      <td>0.0</td>\n",
       "      <td>0.0</td>\n",
       "      <td>0.0</td>\n",
       "      <td>0.0</td>\n",
       "      <td>0.000000</td>\n",
       "      <td>0.0</td>\n",
       "      <td>0.0</td>\n",
       "      <td>0.0</td>\n",
       "      <td>0.0</td>\n",
       "      <td>...</td>\n",
       "      <td>0.0</td>\n",
       "      <td>0.0</td>\n",
       "      <td>0.0</td>\n",
       "      <td>0.0</td>\n",
       "      <td>0.0</td>\n",
       "      <td>0.0</td>\n",
       "      <td>0.0</td>\n",
       "      <td>0.0</td>\n",
       "      <td>0.0</td>\n",
       "      <td>0.0</td>\n",
       "    </tr>\n",
       "    <tr>\n",
       "      <th>8</th>\n",
       "      <td>0.0</td>\n",
       "      <td>0.0</td>\n",
       "      <td>0.0</td>\n",
       "      <td>0.0</td>\n",
       "      <td>0.0</td>\n",
       "      <td>0.000000</td>\n",
       "      <td>0.0</td>\n",
       "      <td>0.0</td>\n",
       "      <td>0.0</td>\n",
       "      <td>0.0</td>\n",
       "      <td>...</td>\n",
       "      <td>0.0</td>\n",
       "      <td>0.0</td>\n",
       "      <td>0.0</td>\n",
       "      <td>0.0</td>\n",
       "      <td>0.0</td>\n",
       "      <td>0.0</td>\n",
       "      <td>0.0</td>\n",
       "      <td>0.0</td>\n",
       "      <td>0.0</td>\n",
       "      <td>0.0</td>\n",
       "    </tr>\n",
       "    <tr>\n",
       "      <th>9</th>\n",
       "      <td>0.0</td>\n",
       "      <td>0.0</td>\n",
       "      <td>0.0</td>\n",
       "      <td>0.0</td>\n",
       "      <td>0.0</td>\n",
       "      <td>2.446711</td>\n",
       "      <td>0.0</td>\n",
       "      <td>0.0</td>\n",
       "      <td>0.0</td>\n",
       "      <td>0.0</td>\n",
       "      <td>...</td>\n",
       "      <td>0.0</td>\n",
       "      <td>0.0</td>\n",
       "      <td>0.0</td>\n",
       "      <td>0.0</td>\n",
       "      <td>0.0</td>\n",
       "      <td>0.0</td>\n",
       "      <td>0.0</td>\n",
       "      <td>0.0</td>\n",
       "      <td>0.0</td>\n",
       "      <td>0.0</td>\n",
       "    </tr>\n",
       "  </tbody>\n",
       "</table>\n",
       "<p>5 rows × 3933 columns</p>\n",
       "</div>"
      ],
      "text/plain": [
       "review_profilename  0110x011  05Harley  100floods  1759Girl  1Adam12  \\\n",
       "beer_beerid                                                            \n",
       "5                        0.0       0.0        0.0       0.0      0.0   \n",
       "6                        0.0       0.0        0.0       0.0      0.0   \n",
       "7                        0.0       0.0        0.0       0.0      0.0   \n",
       "8                        0.0       0.0        0.0       0.0      0.0   \n",
       "9                        0.0       0.0        0.0       0.0      0.0   \n",
       "\n",
       "review_profilename  1fastz28  1whiskey  2xHops  321jeff  32hoss32  \\\n",
       "beer_beerid                                                         \n",
       "5                   0.000000       0.0     0.0      0.0       0.0   \n",
       "6                   4.759548       0.0     0.0      0.0       0.0   \n",
       "7                   0.000000       0.0     0.0      0.0       0.0   \n",
       "8                   0.000000       0.0     0.0      0.0       0.0   \n",
       "9                   2.446711       0.0     0.0      0.0       0.0   \n",
       "\n",
       "review_profilename     ...       zerofear13  zhanson88  zimm421  zjungleist  \\\n",
       "beer_beerid            ...                                                    \n",
       "5                      ...              0.0        0.0      0.0         0.0   \n",
       "6                      ...              0.0        0.0      0.0         0.0   \n",
       "7                      ...              0.0        0.0      0.0         0.0   \n",
       "8                      ...              0.0        0.0      0.0         0.0   \n",
       "9                      ...              0.0        0.0      0.0         0.0   \n",
       "\n",
       "review_profilename  zoolzoo  zoso1967  zoso493  zrab11  zuggy9  zymurgy4all  \n",
       "beer_beerid                                                                  \n",
       "5                       0.0       0.0      0.0     0.0     0.0          0.0  \n",
       "6                       0.0       0.0      0.0     0.0     0.0          0.0  \n",
       "7                       0.0       0.0      0.0     0.0     0.0          0.0  \n",
       "8                       0.0       0.0      0.0     0.0     0.0          0.0  \n",
       "9                       0.0       0.0      0.0     0.0     0.0          0.0  \n",
       "\n",
       "[5 rows x 3933 columns]"
      ]
     },
     "execution_count": 86,
     "metadata": {},
     "output_type": "execute_result"
    }
   ],
   "source": [
    "test_user_final_rating.head()"
   ]
  },
  {
   "cell_type": "code",
   "execution_count": 87,
   "metadata": {},
   "outputs": [
    {
     "name": "stdout",
     "output_type": "stream",
     "text": [
      "MinMaxScaler(copy=True, feature_range=(1, 5))\n",
      "[[nan nan nan ... nan nan nan]\n",
      " [nan nan nan ... nan nan nan]\n",
      " [nan nan nan ... nan nan nan]\n",
      " ...\n",
      " [nan nan nan ... nan nan nan]\n",
      " [nan nan nan ... nan nan nan]\n",
      " [nan nan nan ... nan nan nan]]\n"
     ]
    }
   ],
   "source": [
    "### Normalise the test rating within 1-5 range using minmax scaler.\n",
    "from sklearn.preprocessing import MinMaxScaler\n",
    "from numpy import *\n",
    "\n",
    "X  = test_user_final_rating.copy() \n",
    "X = X[X>0]\n",
    "scaler = MinMaxScaler(feature_range=(1, 5))\n",
    "print(scaler.fit(X))\n",
    "y = (scaler.transform(X))\n",
    "print(y)"
   ]
  },
  {
   "cell_type": "code",
   "execution_count": 88,
   "metadata": {},
   "outputs": [],
   "source": [
    "### test pivot dataframe for validation \n",
    "test_ = test.pivot(index='beer_beerid', columns='review_profilename',values='review_overall')"
   ]
  },
  {
   "cell_type": "code",
   "execution_count": 89,
   "metadata": {},
   "outputs": [],
   "source": [
    "# Finding total non-NaN value\n",
    "total_non_nan = np.count_nonzero(~np.isnan(y))"
   ]
  },
  {
   "cell_type": "code",
   "execution_count": 90,
   "metadata": {},
   "outputs": [
    {
     "name": "stdout",
     "output_type": "stream",
     "text": [
      "2.2562763019384464\n"
     ]
    }
   ],
   "source": [
    "#### RMSE Calculation for the model based on test data\n",
    "rmse_user = (sum(sum((test_ - y )**2))/total_non_nan)**0.5\n",
    "print(rmse_user)\n",
    "\n",
    "### RMSE is 2.2563"
   ]
  },
  {
   "cell_type": "markdown",
   "metadata": {},
   "source": [
    "### Item Similarity Model"
   ]
  },
  {
   "cell_type": "code",
   "execution_count": 91,
   "metadata": {},
   "outputs": [
    {
     "name": "stdout",
     "output_type": "stream",
     "text": [
      "[[ 1.          0.          0.         ...  0.          0.\n",
      "   0.        ]\n",
      " [ 0.          1.         -0.00985169 ...  0.16770365  0.\n",
      "   0.        ]\n",
      " [ 0.         -0.00985169  1.         ... -0.0774355  -0.10090659\n",
      "   0.        ]\n",
      " ...\n",
      " [ 0.          0.16770365 -0.0774355  ...  1.          0.\n",
      "   0.        ]\n",
      " [ 0.          0.         -0.10090659 ...  0.          1.\n",
      "   0.        ]\n",
      " [ 0.          0.          0.         ...  0.          0.\n",
      "   1.        ]]\n"
     ]
    }
   ],
   "source": [
    "## pivot dataframe for test user \n",
    "test_df_rating_adjs_item = test.pivot(index='beer_beerid', columns='review_profilename',values='review_overall')\n",
    "\n",
    "### Normalise the data \n",
    "mean = np.nanmean(test_df_rating_adjs_item, axis=1)\n",
    "test_df_subtracted_item = (test_df_rating_adjs_item.T-mean).T\n",
    "\n",
    "# Item Similarity Matrix\n",
    "test_item_correlation = 1 - pairwise_distances(test_df_subtracted_item.fillna(0), metric='cosine')\n",
    "test_item_correlation[np.isnan(test_item_correlation)] = 0\n",
    "print(test_item_correlation)"
   ]
  },
  {
   "cell_type": "code",
   "execution_count": 92,
   "metadata": {},
   "outputs": [
    {
     "data": {
      "text/plain": [
       "array([[0.        , 0.29790925, 0.00502771, ..., 0.05672385, 0.00732097,\n",
       "        0.1285396 ],\n",
       "       [0.03561126, 0.14754631, 0.09973841, ..., 0.37830863, 0.02699016,\n",
       "        0.28991294],\n",
       "       [0.10916063, 0.28754651, 0.        , ..., 0.47692868, 0.13657321,\n",
       "        0.25746219],\n",
       "       ...,\n",
       "       [0.        , 0.        , 0.00835634, ..., 0.47206126, 0.        ,\n",
       "        0.        ],\n",
       "       [0.20974276, 0.08073945, 0.33480059, ..., 0.        , 0.04188267,\n",
       "        0.        ],\n",
       "       [0.        , 0.        , 0.        , ..., 0.142073  , 0.        ,\n",
       "        0.        ]])"
      ]
     },
     "execution_count": 92,
     "metadata": {},
     "output_type": "execute_result"
    }
   ],
   "source": [
    "### Set negative correlation to 0.\n",
    "### Get predicted ratings for all test user<-> beer.\n",
    "test_item_correlation[test_item_correlation<0]=0\n",
    "test_item_predicted_ratings = np.dot(test_item_correlation, test_df_rating_adjs_item.fillna(0))\n",
    "test_item_predicted_ratings"
   ]
  },
  {
   "cell_type": "code",
   "execution_count": 93,
   "metadata": {},
   "outputs": [],
   "source": [
    "### Get the final rating only for recommendation\n",
    "test_item_final_rating = np.multiply(test_item_predicted_ratings,dummy_test)"
   ]
  },
  {
   "cell_type": "code",
   "execution_count": 94,
   "metadata": {},
   "outputs": [
    {
     "data": {
      "text/html": [
       "<div>\n",
       "<style scoped>\n",
       "    .dataframe tbody tr th:only-of-type {\n",
       "        vertical-align: middle;\n",
       "    }\n",
       "\n",
       "    .dataframe tbody tr th {\n",
       "        vertical-align: top;\n",
       "    }\n",
       "\n",
       "    .dataframe thead th {\n",
       "        text-align: right;\n",
       "    }\n",
       "</style>\n",
       "<table border=\"1\" class=\"dataframe\">\n",
       "  <thead>\n",
       "    <tr style=\"text-align: right;\">\n",
       "      <th>review_profilename</th>\n",
       "      <th>0110x011</th>\n",
       "      <th>05Harley</th>\n",
       "      <th>100floods</th>\n",
       "      <th>1759Girl</th>\n",
       "      <th>1Adam12</th>\n",
       "      <th>1fastz28</th>\n",
       "      <th>1whiskey</th>\n",
       "      <th>2xHops</th>\n",
       "      <th>321jeff</th>\n",
       "      <th>32hoss32</th>\n",
       "      <th>...</th>\n",
       "      <th>zerofear13</th>\n",
       "      <th>zhanson88</th>\n",
       "      <th>zimm421</th>\n",
       "      <th>zjungleist</th>\n",
       "      <th>zoolzoo</th>\n",
       "      <th>zoso1967</th>\n",
       "      <th>zoso493</th>\n",
       "      <th>zrab11</th>\n",
       "      <th>zuggy9</th>\n",
       "      <th>zymurgy4all</th>\n",
       "    </tr>\n",
       "    <tr>\n",
       "      <th>beer_beerid</th>\n",
       "      <th></th>\n",
       "      <th></th>\n",
       "      <th></th>\n",
       "      <th></th>\n",
       "      <th></th>\n",
       "      <th></th>\n",
       "      <th></th>\n",
       "      <th></th>\n",
       "      <th></th>\n",
       "      <th></th>\n",
       "      <th></th>\n",
       "      <th></th>\n",
       "      <th></th>\n",
       "      <th></th>\n",
       "      <th></th>\n",
       "      <th></th>\n",
       "      <th></th>\n",
       "      <th></th>\n",
       "      <th></th>\n",
       "      <th></th>\n",
       "      <th></th>\n",
       "    </tr>\n",
       "  </thead>\n",
       "  <tbody>\n",
       "    <tr>\n",
       "      <th>5</th>\n",
       "      <td>0.0</td>\n",
       "      <td>0.0</td>\n",
       "      <td>0.0</td>\n",
       "      <td>0.0</td>\n",
       "      <td>0.0</td>\n",
       "      <td>0.000000</td>\n",
       "      <td>0.0</td>\n",
       "      <td>0.0</td>\n",
       "      <td>0.0</td>\n",
       "      <td>0.0</td>\n",
       "      <td>...</td>\n",
       "      <td>0.0</td>\n",
       "      <td>0.0</td>\n",
       "      <td>0.0</td>\n",
       "      <td>0.0</td>\n",
       "      <td>0.0</td>\n",
       "      <td>0.0</td>\n",
       "      <td>0.0</td>\n",
       "      <td>0.0</td>\n",
       "      <td>0.0</td>\n",
       "      <td>0.0</td>\n",
       "    </tr>\n",
       "    <tr>\n",
       "      <th>6</th>\n",
       "      <td>0.0</td>\n",
       "      <td>0.0</td>\n",
       "      <td>0.0</td>\n",
       "      <td>0.0</td>\n",
       "      <td>0.0</td>\n",
       "      <td>4.751757</td>\n",
       "      <td>0.0</td>\n",
       "      <td>0.0</td>\n",
       "      <td>0.0</td>\n",
       "      <td>0.0</td>\n",
       "      <td>...</td>\n",
       "      <td>0.0</td>\n",
       "      <td>0.0</td>\n",
       "      <td>0.0</td>\n",
       "      <td>0.0</td>\n",
       "      <td>0.0</td>\n",
       "      <td>0.0</td>\n",
       "      <td>0.0</td>\n",
       "      <td>0.0</td>\n",
       "      <td>0.0</td>\n",
       "      <td>0.0</td>\n",
       "    </tr>\n",
       "    <tr>\n",
       "      <th>7</th>\n",
       "      <td>0.0</td>\n",
       "      <td>0.0</td>\n",
       "      <td>0.0</td>\n",
       "      <td>0.0</td>\n",
       "      <td>0.0</td>\n",
       "      <td>0.000000</td>\n",
       "      <td>0.0</td>\n",
       "      <td>0.0</td>\n",
       "      <td>0.0</td>\n",
       "      <td>0.0</td>\n",
       "      <td>...</td>\n",
       "      <td>0.0</td>\n",
       "      <td>0.0</td>\n",
       "      <td>0.0</td>\n",
       "      <td>0.0</td>\n",
       "      <td>0.0</td>\n",
       "      <td>0.0</td>\n",
       "      <td>0.0</td>\n",
       "      <td>0.0</td>\n",
       "      <td>0.0</td>\n",
       "      <td>0.0</td>\n",
       "    </tr>\n",
       "    <tr>\n",
       "      <th>8</th>\n",
       "      <td>0.0</td>\n",
       "      <td>0.0</td>\n",
       "      <td>0.0</td>\n",
       "      <td>0.0</td>\n",
       "      <td>0.0</td>\n",
       "      <td>0.000000</td>\n",
       "      <td>0.0</td>\n",
       "      <td>0.0</td>\n",
       "      <td>0.0</td>\n",
       "      <td>0.0</td>\n",
       "      <td>...</td>\n",
       "      <td>0.0</td>\n",
       "      <td>0.0</td>\n",
       "      <td>0.0</td>\n",
       "      <td>0.0</td>\n",
       "      <td>0.0</td>\n",
       "      <td>0.0</td>\n",
       "      <td>0.0</td>\n",
       "      <td>0.0</td>\n",
       "      <td>0.0</td>\n",
       "      <td>0.0</td>\n",
       "    </tr>\n",
       "    <tr>\n",
       "      <th>9</th>\n",
       "      <td>0.0</td>\n",
       "      <td>0.0</td>\n",
       "      <td>0.0</td>\n",
       "      <td>0.0</td>\n",
       "      <td>0.0</td>\n",
       "      <td>5.238592</td>\n",
       "      <td>0.0</td>\n",
       "      <td>0.0</td>\n",
       "      <td>0.0</td>\n",
       "      <td>0.0</td>\n",
       "      <td>...</td>\n",
       "      <td>0.0</td>\n",
       "      <td>0.0</td>\n",
       "      <td>0.0</td>\n",
       "      <td>0.0</td>\n",
       "      <td>0.0</td>\n",
       "      <td>0.0</td>\n",
       "      <td>0.0</td>\n",
       "      <td>0.0</td>\n",
       "      <td>0.0</td>\n",
       "      <td>0.0</td>\n",
       "    </tr>\n",
       "  </tbody>\n",
       "</table>\n",
       "<p>5 rows × 3933 columns</p>\n",
       "</div>"
      ],
      "text/plain": [
       "review_profilename  0110x011  05Harley  100floods  1759Girl  1Adam12  \\\n",
       "beer_beerid                                                            \n",
       "5                        0.0       0.0        0.0       0.0      0.0   \n",
       "6                        0.0       0.0        0.0       0.0      0.0   \n",
       "7                        0.0       0.0        0.0       0.0      0.0   \n",
       "8                        0.0       0.0        0.0       0.0      0.0   \n",
       "9                        0.0       0.0        0.0       0.0      0.0   \n",
       "\n",
       "review_profilename  1fastz28  1whiskey  2xHops  321jeff  32hoss32  \\\n",
       "beer_beerid                                                         \n",
       "5                   0.000000       0.0     0.0      0.0       0.0   \n",
       "6                   4.751757       0.0     0.0      0.0       0.0   \n",
       "7                   0.000000       0.0     0.0      0.0       0.0   \n",
       "8                   0.000000       0.0     0.0      0.0       0.0   \n",
       "9                   5.238592       0.0     0.0      0.0       0.0   \n",
       "\n",
       "review_profilename     ...       zerofear13  zhanson88  zimm421  zjungleist  \\\n",
       "beer_beerid            ...                                                    \n",
       "5                      ...              0.0        0.0      0.0         0.0   \n",
       "6                      ...              0.0        0.0      0.0         0.0   \n",
       "7                      ...              0.0        0.0      0.0         0.0   \n",
       "8                      ...              0.0        0.0      0.0         0.0   \n",
       "9                      ...              0.0        0.0      0.0         0.0   \n",
       "\n",
       "review_profilename  zoolzoo  zoso1967  zoso493  zrab11  zuggy9  zymurgy4all  \n",
       "beer_beerid                                                                  \n",
       "5                       0.0       0.0      0.0     0.0     0.0          0.0  \n",
       "6                       0.0       0.0      0.0     0.0     0.0          0.0  \n",
       "7                       0.0       0.0      0.0     0.0     0.0          0.0  \n",
       "8                       0.0       0.0      0.0     0.0     0.0          0.0  \n",
       "9                       0.0       0.0      0.0     0.0     0.0          0.0  \n",
       "\n",
       "[5 rows x 3933 columns]"
      ]
     },
     "execution_count": 94,
     "metadata": {},
     "output_type": "execute_result"
    }
   ],
   "source": [
    "test_item_final_rating.head()"
   ]
  },
  {
   "cell_type": "code",
   "execution_count": 95,
   "metadata": {},
   "outputs": [
    {
     "name": "stdout",
     "output_type": "stream",
     "text": [
      "MinMaxScaler(copy=True, feature_range=(1, 5))\n",
      "[[nan nan nan ... nan nan nan]\n",
      " [nan nan nan ... nan nan nan]\n",
      " [nan nan nan ... nan nan nan]\n",
      " ...\n",
      " [nan nan nan ... nan nan nan]\n",
      " [nan nan nan ... nan nan nan]\n",
      " [nan nan nan ... nan nan nan]]\n"
     ]
    }
   ],
   "source": [
    "### Normalise the test rating within 1-5 range using minmax scaler.\n",
    "X  = test_item_final_rating.copy() \n",
    "X = X[X>0]\n",
    "scaler = MinMaxScaler(feature_range=(1, 5))\n",
    "print(scaler.fit(X))\n",
    "y = (scaler.transform(X))\n",
    "print(y)"
   ]
  },
  {
   "cell_type": "code",
   "execution_count": 96,
   "metadata": {},
   "outputs": [],
   "source": [
    "total_non_nan = np.count_nonzero(~np.isnan(y))"
   ]
  },
  {
   "cell_type": "code",
   "execution_count": 97,
   "metadata": {},
   "outputs": [
    {
     "name": "stdout",
     "output_type": "stream",
     "text": [
      "1.8078803027973256\n"
     ]
    }
   ],
   "source": [
    "#### RMSE Calculation for the model based on test data\n",
    "rmse_item = (sum(sum((test_ - y )**2))/total_non_nan)**0.5\n",
    "print(rmse_item)\n",
    "\n",
    "### RMSE is 1.80788"
   ]
  },
  {
   "cell_type": "markdown",
   "metadata": {},
   "source": [
    "### Rating Recommendation "
   ]
  },
  {
   "cell_type": "markdown",
   "metadata": {},
   "source": [
    "#### Rating recommendation based item similiarity"
   ]
  },
  {
   "cell_type": "code",
   "execution_count": 98,
   "metadata": {},
   "outputs": [
    {
     "data": {
      "text/plain": [
       "beer_beerid\n",
       "2043     61.316300\n",
       "14418    55.136957\n",
       "5850     53.515005\n",
       "1712     47.922449\n",
       "47271    43.202732\n",
       "Name: cokes, dtype: float64"
      ]
     },
     "execution_count": 98,
     "metadata": {},
     "output_type": "execute_result"
    }
   ],
   "source": [
    "## For cokes\n",
    "test_item_final_rating['cokes'].sort_values(ascending=False).head(5)"
   ]
  },
  {
   "cell_type": "code",
   "execution_count": 99,
   "metadata": {
    "scrolled": true
   },
   "outputs": [
    {
     "data": {
      "text/plain": [
       "beer_beerid\n",
       "42084    8.500154\n",
       "38888    8.460367\n",
       "39514    7.674334\n",
       "2010     5.977493\n",
       "674      5.784334\n",
       "Name: genog, dtype: float64"
      ]
     },
     "execution_count": 99,
     "metadata": {},
     "output_type": "execute_result"
    }
   ],
   "source": [
    "## For genog\n",
    "test_item_final_rating['genog'].sort_values(ascending=False).head(5)"
   ]
  },
  {
   "cell_type": "code",
   "execution_count": 100,
   "metadata": {},
   "outputs": [
    {
     "data": {
      "text/plain": [
       "beer_beerid\n",
       "2575     8.199732\n",
       "17805    7.700645\n",
       "39043    6.734469\n",
       "21166    6.122878\n",
       "17625    6.102716\n",
       "Name: giblet, dtype: float64"
      ]
     },
     "execution_count": 100,
     "metadata": {},
     "output_type": "execute_result"
    }
   ],
   "source": [
    "## For Giblet\n",
    "test_item_final_rating['giblet'].sort_values(ascending=False).head(5)"
   ]
  },
  {
   "cell_type": "markdown",
   "metadata": {},
   "source": [
    "#### Rating Recommendation based on User Similarity "
   ]
  },
  {
   "cell_type": "code",
   "execution_count": 101,
   "metadata": {},
   "outputs": [
    {
     "data": {
      "text/plain": [
       "beer_beerid\n",
       "10672    15.471791\n",
       "2093     15.052425\n",
       "56973    13.482342\n",
       "837      13.263888\n",
       "222      12.967048\n",
       "Name: cokes, dtype: float64"
      ]
     },
     "execution_count": 101,
     "metadata": {},
     "output_type": "execute_result"
    }
   ],
   "source": [
    "## For cokes\n",
    "test_user_final_rating['cokes'].sort_values(ascending=False).head(5)"
   ]
  },
  {
   "cell_type": "code",
   "execution_count": 102,
   "metadata": {},
   "outputs": [
    {
     "data": {
      "text/plain": [
       "beer_beerid\n",
       "17112    32.108225\n",
       "34       29.195176\n",
       "674      13.799201\n",
       "299      13.614224\n",
       "42533    13.446949\n",
       "Name: genog, dtype: float64"
      ]
     },
     "execution_count": 102,
     "metadata": {},
     "output_type": "execute_result"
    }
   ],
   "source": [
    "## for Genog\n",
    "test_user_final_rating['genog'].sort_values(ascending=False).head(5)"
   ]
  },
  {
   "cell_type": "code",
   "execution_count": 103,
   "metadata": {},
   "outputs": [
    {
     "data": {
      "text/plain": [
       "beer_beerid\n",
       "2751    14.954531\n",
       "155      9.292481\n",
       "1790     8.837779\n",
       "1867     8.284388\n",
       "2729     7.674624\n",
       "Name: giblet, dtype: float64"
      ]
     },
     "execution_count": 103,
     "metadata": {},
     "output_type": "execute_result"
    }
   ],
   "source": [
    "## for Giblet\n",
    "test_user_final_rating['giblet'].sort_values(ascending=False).head(5)"
   ]
  },
  {
   "cell_type": "markdown",
   "metadata": {},
   "source": [
    "### Summary\n",
    "\n",
    "Item similarity model has a lower RMSE than user based model."
   ]
  },
  {
   "cell_type": "code",
   "execution_count": null,
   "metadata": {},
   "outputs": [],
   "source": []
  }
 ],
 "metadata": {
  "kernelspec": {
   "display_name": "Python 3",
   "language": "python",
   "name": "python3"
  },
  "language_info": {
   "codemirror_mode": {
    "name": "ipython",
    "version": 3
   },
   "file_extension": ".py",
   "mimetype": "text/x-python",
   "name": "python",
   "nbconvert_exporter": "python",
   "pygments_lexer": "ipython3",
   "version": "3.7.1"
  }
 },
 "nbformat": 4,
 "nbformat_minor": 2
}
