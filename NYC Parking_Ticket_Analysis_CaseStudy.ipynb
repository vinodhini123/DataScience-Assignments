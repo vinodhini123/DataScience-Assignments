{
 "cells": [
  {
   "cell_type": "markdown",
   "metadata": {},
   "source": [
    "# NYC Parking Ticket Analysis - Case Study\n",
    "\n",
    "New York City is a thriving metropolis. Just like most other metros its size, one of the biggest problems its citizens face is parking. The classic combination of a huge number of cars and cramped geography leads to a huge number of parking tickets.\n",
    "\n",
    "In an attempt to scientifically analyse this phenomenon, the NYC Police Department has collected data for parking tickets. Of these, the data files for multiple years are publicly available on Kaggle. We will try and perform some exploratory analysis on a part of this data. Spark will allow us to analyse the full files at high speeds as opposed to taking a series of random samples that will approximate the population. For the scope of this analysis, we will analyse the parking tickets over the year 2017. "
   ]
  },
  {
   "cell_type": "code",
   "execution_count": 1,
   "metadata": {},
   "outputs": [],
   "source": [
    "# Initiation of Spark Session \n",
    "from pyspark.sql import SparkSession\n",
    "spark = SparkSession \\\n",
    "    .builder \\\n",
    "    .appName(\"NYC_Parking\") \\\n",
    "    .getOrCreate()"
   ]
  },
  {
   "cell_type": "code",
   "execution_count": 2,
   "metadata": {},
   "outputs": [],
   "source": [
    "# The data for this case study has been placed in HDFS at the following path:\n",
    "# '/common_folder/nyc_parking/Parking_Violations_Issued_-_Fiscal_Year_2017.csv'\n",
    "# Read ticketing data\n",
    "parking = spark.read.format(\"csv\").option(\"header\", \"true\").option(\"inferSchema\", \"true\").load(\"/common_folder/nyc_parking/Parking_Violations_Issued_-_Fiscal_Year_2017.csv\")"
   ]
  },
  {
   "cell_type": "code",
   "execution_count": 3,
   "metadata": {},
   "outputs": [
    {
     "name": "stdout",
     "output_type": "stream",
     "text": [
      "+--------------+--------+------------------+-------------------+--------------+-----------------+------------+------------------+---------------+--------------+\n",
      "|Summons Number|Plate ID|Registration State|         Issue Date|Violation Code|Vehicle Body Type|Vehicle Make|Violation Precinct|Issuer Precinct|Violation Time|\n",
      "+--------------+--------+------------------+-------------------+--------------+-----------------+------------+------------------+---------------+--------------+\n",
      "|    5092469481| GZH7067|                NY|2016-07-10 00:00:00|             7|             SUBN|       TOYOT|                 0|              0|         0143A|\n",
      "|    5092451658| GZH7067|                NY|2016-07-08 00:00:00|             7|             SUBN|       TOYOT|                 0|              0|         0400P|\n",
      "|    4006265037| FZX9232|                NY|2016-08-23 00:00:00|             5|             SUBN|        FORD|                 0|              0|         0233P|\n",
      "|    8478629828| 66623ME|                NY|2017-06-14 00:00:00|            47|             REFG|       MITSU|                14|             14|         1120A|\n",
      "|    7868300310| 37033JV|                NY|2016-11-21 00:00:00|            69|             DELV|       INTER|                13|             13|         0555P|\n",
      "+--------------+--------+------------------+-------------------+--------------+-----------------+------------+------------------+---------------+--------------+\n",
      "only showing top 5 rows\n",
      "\n"
     ]
    }
   ],
   "source": [
    "# Check if data is read right \n",
    "parking.show(5)"
   ]
  },
  {
   "cell_type": "code",
   "execution_count": 4,
   "metadata": {},
   "outputs": [
    {
     "name": "stdout",
     "output_type": "stream",
     "text": [
      "root\n",
      " |-- Summons Number: long (nullable = true)\n",
      " |-- Plate ID: string (nullable = true)\n",
      " |-- Registration State: string (nullable = true)\n",
      " |-- Issue Date: timestamp (nullable = true)\n",
      " |-- Violation Code: integer (nullable = true)\n",
      " |-- Vehicle Body Type: string (nullable = true)\n",
      " |-- Vehicle Make: string (nullable = true)\n",
      " |-- Violation Precinct: integer (nullable = true)\n",
      " |-- Issuer Precinct: integer (nullable = true)\n",
      " |-- Violation Time: string (nullable = true)\n",
      "\n"
     ]
    }
   ],
   "source": [
    "# Check the schema\n",
    "parking.printSchema()"
   ]
  },
  {
   "cell_type": "code",
   "execution_count": 20,
   "metadata": {},
   "outputs": [],
   "source": [
    "# Filter only data for 2017\n",
    "from pyspark.sql.functions import *\n",
    "parking_2017=parking.where(year('Issue Date')==2017)"
   ]
  },
  {
   "cell_type": "code",
   "execution_count": 21,
   "metadata": {},
   "outputs": [
    {
     "name": "stdout",
     "output_type": "stream",
     "text": [
      "+--------------+--------+------------------+-------------------+--------------+-----------------+------------+------------------+---------------+--------------+\n",
      "|Summons Number|Plate ID|Registration State|         Issue Date|Violation Code|Vehicle Body Type|Vehicle Make|Violation Precinct|Issuer Precinct|Violation Time|\n",
      "+--------------+--------+------------------+-------------------+--------------+-----------------+------------+------------------+---------------+--------------+\n",
      "|    8478629828| 66623ME|                NY|2017-06-14 00:00:00|            47|             REFG|       MITSU|                14|             14|         1120A|\n",
      "|    5096917368| FZD8593|                NY|2017-06-13 00:00:00|             7|             SUBN|       ME/BE|                 0|              0|         0852P|\n",
      "|    1407740258| 2513JMG|                NY|2017-01-11 00:00:00|            78|             DELV|       FRUEH|               106|            106|         0015A|\n",
      "|    1413656420|T672371C|                NY|2017-02-04 00:00:00|            40|             TAXI|       TOYOT|                73|             73|         0525A|\n",
      "|    8480309064| 51771JW|                NY|2017-01-26 00:00:00|            64|              VAN|       INTER|                17|             17|         0256P|\n",
      "+--------------+--------+------------------+-------------------+--------------+-----------------+------------+------------------+---------------+--------------+\n",
      "only showing top 5 rows\n",
      "\n"
     ]
    }
   ],
   "source": [
    "# Check data now\n",
    "parking_2017.show(5)"
   ]
  },
  {
   "cell_type": "markdown",
   "metadata": {},
   "source": [
    "### Examine Data  "
   ]
  },
  {
   "cell_type": "code",
   "execution_count": 22,
   "metadata": {},
   "outputs": [
    {
     "data": {
      "text/plain": [
       "5431918"
      ]
     },
     "execution_count": 22,
     "metadata": {},
     "output_type": "execute_result"
    }
   ],
   "source": [
    "# Q1. Find the total number of tickets for the year.\n",
    "\n",
    "parking_2017.count()\n",
    "\n",
    "# 5,431,918 tickets issued in 2017."
   ]
  },
  {
   "cell_type": "code",
   "execution_count": 23,
   "metadata": {},
   "outputs": [
    {
     "data": {
      "text/plain": [
       "65"
      ]
     },
     "execution_count": 23,
     "metadata": {},
     "output_type": "execute_result"
    }
   ],
   "source": [
    "# Q2. Find out the number of unique states from where the cars that got parking tickets came. \n",
    "#     (Hint: Use the column 'Registration State'.)\n",
    "#     There is a numeric entry '99' in the column, which should be corrected. \n",
    "#     Replace it with the state having the maximum entries. Provide the number of unique states again.\n",
    "\n",
    "parking_2017.select('Registration State').distinct().count()\n",
    "\n",
    "# 65 unique states."
   ]
  },
  {
   "cell_type": "code",
   "execution_count": 24,
   "metadata": {},
   "outputs": [
    {
     "name": "stdout",
     "output_type": "stream",
     "text": [
      "+------------------+-------+\n",
      "|Registration State|  count|\n",
      "+------------------+-------+\n",
      "|                NY|4273951|\n",
      "|                NJ| 475825|\n",
      "|                PA| 140286|\n",
      "|                CT|  70403|\n",
      "|                FL|  69468|\n",
      "|                IN|  45525|\n",
      "|                MA|  38941|\n",
      "|                VA|  34367|\n",
      "|                MD|  30213|\n",
      "|                NC|  27152|\n",
      "|                TX|  18827|\n",
      "|                IL|  18666|\n",
      "|                GA|  17537|\n",
      "|                99|  16055|\n",
      "|                AZ|  12379|\n",
      "|                OH|  12281|\n",
      "|                CA|  12153|\n",
      "|                ME|  10806|\n",
      "|                SC|  10395|\n",
      "|                MN|  10083|\n",
      "|                OK|   9088|\n",
      "|                TN|   8514|\n",
      "|                DE|   7905|\n",
      "|                MI|   7231|\n",
      "|                RI|   5814|\n",
      "|                NH|   4119|\n",
      "|                VT|   3683|\n",
      "|                AL|   3178|\n",
      "|                WA|   3052|\n",
      "|                OR|   2622|\n",
      "|                MO|   2483|\n",
      "|                ON|   2460|\n",
      "|                WI|   2127|\n",
      "|                QB|   1998|\n",
      "|                IA|   1938|\n",
      "|                DC|   1929|\n",
      "|                CO|   1841|\n",
      "|                KY|   1795|\n",
      "|                DP|   1794|\n",
      "|                LA|   1689|\n",
      "|                MS|   1582|\n",
      "|                WV|   1265|\n",
      "|                AR|    994|\n",
      "|                SD|    859|\n",
      "|                NM|    792|\n",
      "|                ID|    763|\n",
      "|                NV|    725|\n",
      "|                KS|    706|\n",
      "|                NE|    704|\n",
      "|                UT|    561|\n",
      "|                MT|    505|\n",
      "|                GV|    348|\n",
      "|                NS|    322|\n",
      "|                AK|    298|\n",
      "|                ND|    254|\n",
      "|                WY|    188|\n",
      "|                HI|    156|\n",
      "|                AB|     79|\n",
      "|                PE|     61|\n",
      "|                NB|     57|\n",
      "|                BC|     54|\n",
      "|                PR|     38|\n",
      "|                MB|     17|\n",
      "|                SK|      9|\n",
      "|                FO|      8|\n",
      "+------------------+-------+\n",
      "\n"
     ]
    }
   ],
   "source": [
    "# View the unique states with ticket count\n",
    "parking_2017.groupby('Registration State').count().sort(desc(\"count\")).show(65)"
   ]
  },
  {
   "cell_type": "code",
   "execution_count": 25,
   "metadata": {},
   "outputs": [],
   "source": [
    "# Replacing 99 with NY. NY is the state with most tickets.\n",
    "parking_2017=parking_2017.withColumn('Registration State', regexp_replace('Registration State', '99', 'NY'))"
   ]
  },
  {
   "cell_type": "code",
   "execution_count": 26,
   "metadata": {},
   "outputs": [
    {
     "data": {
      "text/plain": [
       "64"
      ]
     },
     "execution_count": 26,
     "metadata": {},
     "output_type": "execute_result"
    }
   ],
   "source": [
    "# Get the unique state count after correction\n",
    "parking_2017.select('Registration State').distinct().count()"
   ]
  },
  {
   "cell_type": "code",
   "execution_count": 28,
   "metadata": {},
   "outputs": [
    {
     "name": "stdout",
     "output_type": "stream",
     "text": [
      "+------------------+-------+\n",
      "|Registration State|  count|\n",
      "+------------------+-------+\n",
      "|                NY|4290006|\n",
      "|                NJ| 475825|\n",
      "|                PA| 140286|\n",
      "|                CT|  70403|\n",
      "|                FL|  69468|\n",
      "|                IN|  45525|\n",
      "|                MA|  38941|\n",
      "|                VA|  34367|\n",
      "|                MD|  30213|\n",
      "|                NC|  27152|\n",
      "|                TX|  18827|\n",
      "|                IL|  18666|\n",
      "|                GA|  17537|\n",
      "|                AZ|  12379|\n",
      "|                OH|  12281|\n",
      "|                CA|  12153|\n",
      "|                ME|  10806|\n",
      "|                SC|  10395|\n",
      "|                MN|  10083|\n",
      "|                OK|   9088|\n",
      "+------------------+-------+\n",
      "only showing top 20 rows\n",
      "\n"
     ]
    }
   ],
   "source": [
    "# Get all the registration state details\n",
    "parking_2017.groupby('Registration State').count().sort(desc(\"count\")).show()"
   ]
  },
  {
   "cell_type": "markdown",
   "metadata": {},
   "source": [
    "### Aggregation Tasks"
   ]
  },
  {
   "cell_type": "code",
   "execution_count": 29,
   "metadata": {},
   "outputs": [
    {
     "data": {
      "text/plain": [
       "[Row(Violation Code=31, count=80593),\n",
       " Row(Violation Code=85, count=9316),\n",
       " Row(Violation Code=65, count=26),\n",
       " Row(Violation Code=53, count=19488),\n",
       " Row(Violation Code=78, count=26776),\n",
       " Row(Violation Code=34, count=11),\n",
       " Row(Violation Code=81, count=14),\n",
       " Row(Violation Code=28, count=5),\n",
       " Row(Violation Code=76, count=18),\n",
       " Row(Violation Code=27, count=3039),\n",
       " Row(Violation Code=26, count=660),\n",
       " Row(Violation Code=44, count=4),\n",
       " Row(Violation Code=12, count=53),\n",
       " Row(Violation Code=91, count=433),\n",
       " Row(Violation Code=22, count=81),\n",
       " Row(Violation Code=93, count=8),\n",
       " Row(Violation Code=47, count=65440),\n",
       " Row(Violation Code=1, count=674),\n",
       " Row(Violation Code=52, count=1001),\n",
       " Row(Violation Code=13, count=11673),\n",
       " Row(Violation Code=16, count=74790),\n",
       " Row(Violation Code=6, count=192),\n",
       " Row(Violation Code=86, count=6),\n",
       " Row(Violation Code=3, count=407),\n",
       " Row(Violation Code=20, count=319646),\n",
       " Row(Violation Code=40, count=277184),\n",
       " Row(Violation Code=94, count=199),\n",
       " Row(Violation Code=57, count=3),\n",
       " Row(Violation Code=54, count=3),\n",
       " Row(Violation Code=96, count=41),\n",
       " Row(Violation Code=48, count=40987),\n",
       " Row(Violation Code=5, count=48081),\n",
       " Row(Violation Code=19, count=149062),\n",
       " Row(Violation Code=92, count=20),\n",
       " Row(Violation Code=64, count=6764),\n",
       " Row(Violation Code=41, count=2621),\n",
       " Row(Violation Code=43, count=174),\n",
       " Row(Violation Code=15, count=7),\n",
       " Row(Violation Code=37, count=293147),\n",
       " Row(Violation Code=61, count=5524),\n",
       " Row(Violation Code=88, count=10),\n",
       " Row(Violation Code=17, count=38449),\n",
       " Row(Violation Code=9, count=28685),\n",
       " Row(Violation Code=72, count=5519),\n",
       " Row(Violation Code=35, count=2034),\n",
       " Row(Violation Code=55, count=89),\n",
       " Row(Violation Code=4, count=521),\n",
       " Row(Violation Code=59, count=132),\n",
       " Row(Violation Code=8, count=1405),\n",
       " Row(Violation Code=23, count=9697),\n",
       " Row(Violation Code=39, count=1177),\n",
       " Row(Violation Code=49, count=477),\n",
       " Row(Violation Code=7, count=210176),\n",
       " Row(Violation Code=84, count=40943),\n",
       " Row(Violation Code=87, count=1),\n",
       " Row(Violation Code=51, count=32764),\n",
       " Row(Violation Code=69, count=96914),\n",
       " Row(Violation Code=97, count=55),\n",
       " Row(Violation Code=63, count=250),\n",
       " Row(Violation Code=77, count=6081),\n",
       " Row(Violation Code=10, count=25923),\n",
       " Row(Violation Code=50, count=53749),\n",
       " Row(Violation Code=45, count=6107),\n",
       " Row(Violation Code=38, count=542079),\n",
       " Row(Violation Code=82, count=17289),\n",
       " Row(Violation Code=80, count=2084),\n",
       " Row(Violation Code=73, count=2081),\n",
       " Row(Violation Code=25, count=115),\n",
       " Row(Violation Code=24, count=38460),\n",
       " Row(Violation Code=70, count=144647),\n",
       " Row(Violation Code=62, count=2810),\n",
       " Row(Violation Code=95, count=87),\n",
       " Row(Violation Code=29, count=35),\n",
       " Row(Violation Code=21, count=768087),\n",
       " Row(Violation Code=98, count=23952),\n",
       " Row(Violation Code=60, count=3691),\n",
       " Row(Violation Code=90, count=27),\n",
       " Row(Violation Code=32, count=14),\n",
       " Row(Violation Code=75, count=4345),\n",
       " Row(Violation Code=56, count=367),\n",
       " Row(Violation Code=58, count=13),\n",
       " Row(Violation Code=11, count=5592),\n",
       " Row(Violation Code=33, count=28),\n",
       " Row(Violation Code=83, count=5111),\n",
       " Row(Violation Code=71, count=263393),\n",
       " Row(Violation Code=68, count=25036),\n",
       " Row(Violation Code=14, count=476664),\n",
       " Row(Violation Code=42, count=32008),\n",
       " Row(Violation Code=79, count=5208),\n",
       " Row(Violation Code=2, count=77),\n",
       " Row(Violation Code=99, count=1439),\n",
       " Row(Violation Code=30, count=553),\n",
       " Row(Violation Code=66, count=13142),\n",
       " Row(Violation Code=46, count=312330),\n",
       " Row(Violation Code=67, count=7381),\n",
       " Row(Violation Code=0, count=227),\n",
       " Row(Violation Code=18, count=10188),\n",
       " Row(Violation Code=74, count=58939),\n",
       " Row(Violation Code=36, count=662765),\n",
       " Row(Violation Code=89, count=2325)]"
      ]
     },
     "execution_count": 29,
     "metadata": {},
     "output_type": "execute_result"
    }
   ],
   "source": [
    "# Q1. How often does each violation code occur? Display the frequency of the top five violation codes.\n",
    "parking_2017.groupby('Violation Code').count().collect()"
   ]
  },
  {
   "cell_type": "code",
   "execution_count": 31,
   "metadata": {},
   "outputs": [
    {
     "name": "stdout",
     "output_type": "stream",
     "text": [
      "+--------------+------+\n",
      "|Violation Code| count|\n",
      "+--------------+------+\n",
      "|            21|768087|\n",
      "|            36|662765|\n",
      "|            38|542079|\n",
      "|            14|476664|\n",
      "|            20|319646|\n",
      "+--------------+------+\n",
      "only showing top 5 rows\n",
      "\n"
     ]
    }
   ],
   "source": [
    "# Displaying top 5 violation codes based on ticket count. \n",
    "parking_2017.groupby('Violation Code').count().sort(desc(\"count\")).show(5)\n",
    "\n",
    "# Violation code 21 is top in the list. "
   ]
  },
  {
   "cell_type": "code",
   "execution_count": 32,
   "metadata": {},
   "outputs": [
    {
     "name": "stdout",
     "output_type": "stream",
     "text": [
      "+-----------------+-------+\n",
      "|Vehicle Body Type|  count|\n",
      "+-----------------+-------+\n",
      "|             SUBN|1883954|\n",
      "|             4DSD|1547312|\n",
      "|              VAN| 724029|\n",
      "|             DELV| 358984|\n",
      "|              SDN| 194197|\n",
      "+-----------------+-------+\n",
      "only showing top 5 rows\n",
      "\n"
     ]
    }
   ],
   "source": [
    "# Q2. How often does each 'vehicle body type' get a parking ticket? How about the 'vehicle make'? \n",
    "#     (Hint: Find the top 5 for both.)\n",
    "\n",
    "##Vehicle Body Type\n",
    "parking_2017.groupby('Vehicle Body Type').count().sort(desc(\"count\")).show(5)\n",
    "\n",
    "## SUBN is the top."
   ]
  },
  {
   "cell_type": "code",
   "execution_count": 33,
   "metadata": {},
   "outputs": [
    {
     "name": "stdout",
     "output_type": "stream",
     "text": [
      "+------------+------+\n",
      "|Vehicle Make| count|\n",
      "+------------+------+\n",
      "|        FORD|636844|\n",
      "|       TOYOT|605291|\n",
      "|       HONDA|538884|\n",
      "|       NISSA|462017|\n",
      "|       CHEVR|356032|\n",
      "+------------+------+\n",
      "only showing top 5 rows\n",
      "\n"
     ]
    }
   ],
   "source": [
    "# Vehicle Make\n",
    "parking_2017.groupby('Vehicle Make').count().sort(desc(\"count\")).show(5)\n",
    "\n",
    "##FORD is the top."
   ]
  },
  {
   "cell_type": "code",
   "execution_count": 35,
   "metadata": {},
   "outputs": [
    {
     "name": "stdout",
     "output_type": "stream",
     "text": [
      "+------------------+------+\n",
      "|Violation Precinct| count|\n",
      "+------------------+------+\n",
      "|                 0|925596|\n",
      "|                19|274445|\n",
      "|                14|203553|\n",
      "|                 1|174702|\n",
      "|                18|169131|\n",
      "|               114|147444|\n",
      "+------------------+------+\n",
      "only showing top 6 rows\n",
      "\n"
     ]
    }
   ],
   "source": [
    "# Q3. A precinct is a police station that has a certain zone of the city under its command. \n",
    "#     Find the (5 highest) frequencies of tickets for each of the following:\n",
    "#     1. Violation Precinct' (This is the precinct of the zone where the violation occurred). \n",
    "#     Using this, can you draw any insights for parking violations in any specific areas of the city?\n",
    "#     2.'Issuer Precinct' (This is the precinct that issued the ticket.)\n",
    "#     Here, you would have noticed that the dataframe has the'Violating Precinct' or 'Issuing Precinct' as '0'. \n",
    "#     These are erroneous entries. Hence, you need to provide the records for five correct precincts. (Hint: Print the top six entries after sorting.)\n",
    "\n",
    "parking_2017.groupby('Violation Precinct').count().sort(desc(\"count\")).show(6)\n",
    "\n",
    "# 0 is incorrect data\n",
    "# Violation Precinct 19 is the top precinct where more violations occurred"
   ]
  },
  {
   "cell_type": "code",
   "execution_count": 36,
   "metadata": {},
   "outputs": [
    {
     "name": "stdout",
     "output_type": "stream",
     "text": [
      "+---------------+-------+\n",
      "|Issuer Precinct|  count|\n",
      "+---------------+-------+\n",
      "|              0|1078406|\n",
      "|             19| 266961|\n",
      "|             14| 200495|\n",
      "|              1| 168740|\n",
      "|             18| 162994|\n",
      "|            114| 144054|\n",
      "+---------------+-------+\n",
      "only showing top 6 rows\n",
      "\n"
     ]
    }
   ],
   "source": [
    "# Find the frequencies of ticket based on 'Issuer Precinct' - top 5 \n",
    "parking_2017.groupby('Issuer Precinct').count().sort(desc(\"count\")).show(6)\n",
    "\n",
    "# 19 is the top Issue Precinct where violation occurred. "
   ]
  },
  {
   "cell_type": "code",
   "execution_count": 37,
   "metadata": {},
   "outputs": [],
   "source": [
    "# Q4. Find the violation code frequencies for three precincts that have issued the most number of tickets. \n",
    "#     Do these precinct zones have an exceptionally high frequency of certain violation codes? \n",
    "#     Are these codes common across precincts? \n",
    "#    (Hint: In the SQL view, use the 'where' attribute to filter among three precincts.)\n",
    "\n",
    "from pyspark.sql.window import Window\n",
    "from pyspark.sql.functions import rank, col\n",
    "\n",
    "# Create a SQL view.\n",
    "parking_2017.createOrReplaceTempView(\"parkingTable\")\n",
    "\n",
    "# after registering temp table you can run your sql queries\n",
    "df=spark.sql('SELECT `Issuer Precinct`,`Violation Code`, count(`Violation Code`) as countval FROM parkingTable where `Issuer Precinct` in (19,14,1) group by `Issuer Precinct`,`Violation Code` order by `Issuer Precinct`,count(`Violation Code`) desc')"
   ]
  },
  {
   "cell_type": "code",
   "execution_count": 38,
   "metadata": {},
   "outputs": [
    {
     "name": "stdout",
     "output_type": "stream",
     "text": [
      "+---------------+--------------+--------+\n",
      "|Issuer Precinct|Violation Code|countval|\n",
      "+---------------+--------------+--------+\n",
      "|              1|            14|   38354|\n",
      "|              1|            16|   19081|\n",
      "|              1|            20|   15408|\n",
      "+---------------+--------------+--------+\n",
      "only showing top 3 rows\n",
      "\n"
     ]
    }
   ],
   "source": [
    "df.show(3)"
   ]
  },
  {
   "cell_type": "code",
   "execution_count": 39,
   "metadata": {},
   "outputs": [
    {
     "name": "stdout",
     "output_type": "stream",
     "text": [
      "+---------------+--------------+--------+----+\n",
      "|Issuer Precinct|Violation Code|countval|rank|\n",
      "+---------------+--------------+--------+----+\n",
      "|              1|            14|   38354|   1|\n",
      "|              1|            16|   19081|   2|\n",
      "|              1|            20|   15408|   3|\n",
      "|              1|            46|   12745|   4|\n",
      "|              1|            38|    8535|   5|\n",
      "|             19|            46|   48445|   1|\n",
      "|             19|            38|   36386|   2|\n",
      "|             19|            37|   36056|   3|\n",
      "|             19|            14|   29797|   4|\n",
      "|             19|            21|   28415|   5|\n",
      "|             14|            14|   45036|   1|\n",
      "|             14|            69|   30464|   2|\n",
      "|             14|            31|   22555|   3|\n",
      "|             14|            47|   18364|   4|\n",
      "|             14|            42|   10027|   5|\n",
      "+---------------+--------------+--------+----+\n",
      "\n"
     ]
    }
   ],
   "source": [
    "# Use window function to get the top counts per issuer precinct\n",
    "\n",
    "window = Window.partitionBy(df['Issuer Precinct']).orderBy(df['countval'].desc())\n",
    "df.select('*', rank().over(window).alias('rank')).filter(col('rank') <= 5).show()\n",
    "\n",
    "# 46, 38 , 14 are seen as common violation code "
   ]
  },
  {
   "cell_type": "code",
   "execution_count": 40,
   "metadata": {},
   "outputs": [],
   "source": [
    "# Q5. Find out the properties of parking violations across different times of the day\n",
    "\n",
    "from pyspark.sql.functions import unix_timestamp, to_timestamp\n",
    "from pyspark.sql.functions import from_unixtime\n",
    "from pyspark.sql.functions import concat, col, lit\n",
    "from pyspark.sql.functions import *\n",
    "\n",
    "\n",
    "# Drop records with null value\n",
    "parking_nonull = parking_2017.na.drop()\n",
    "\n",
    "# convert Issue Date to date format. \n",
    "parking_nonull=parking_nonull.withColumn(\"Date\", (col(\"Issue Date\").cast(\"date\")))\n",
    "\n",
    "# concat m to the violation time.\n",
    "# convert Violation time to a valid timestamp \n",
    "parking_nonull = parking_nonull.withColumn('Violation Time', regexp_replace(col('Violation Time'), '^00', '12'))\n",
    "parking_nonull=parking_nonull.withColumn(\"Violation Time\",concat(col(\"Violation Time\"),lit(\"M\")))\n",
    "parking_nonull=parking_nonull.withColumn(\"ViolationTime_Rd\", from_unixtime(unix_timestamp(col('Violation Time'), 'hhmmaa'), 'HH:mm:ss'))"
   ]
  },
  {
   "cell_type": "code",
   "execution_count": 41,
   "metadata": {},
   "outputs": [
    {
     "name": "stdout",
     "output_type": "stream",
     "text": [
      "+--------------+--------+------------------+-------------------+--------------+-----------------+------------+------------------+---------------+--------------+----------+----------------+\n",
      "|Summons Number|Plate ID|Registration State|         Issue Date|Violation Code|Vehicle Body Type|Vehicle Make|Violation Precinct|Issuer Precinct|Violation Time|      Date|ViolationTime_Rd|\n",
      "+--------------+--------+------------------+-------------------+--------------+-----------------+------------+------------------+---------------+--------------+----------+----------------+\n",
      "|    8478629828| 66623ME|                NY|2017-06-14 00:00:00|            47|             REFG|       MITSU|                14|             14|        1120AM|2017-06-14|        11:20:00|\n",
      "|    5096917368| FZD8593|                NY|2017-06-13 00:00:00|             7|             SUBN|       ME/BE|                 0|              0|        0852PM|2017-06-13|        20:52:00|\n",
      "|    1407740258| 2513JMG|                NY|2017-01-11 00:00:00|            78|             DELV|       FRUEH|               106|            106|        1215AM|2017-01-11|        00:15:00|\n",
      "+--------------+--------+------------------+-------------------+--------------+-----------------+------------+------------------+---------------+--------------+----------+----------------+\n",
      "only showing top 3 rows\n",
      "\n"
     ]
    }
   ],
   "source": [
    "parking_nonull.show(3)"
   ]
  },
  {
   "cell_type": "code",
   "execution_count": 42,
   "metadata": {},
   "outputs": [],
   "source": [
    "# Segregation of 24 hours into 6 buckets and categorise the violations into 1 bucket.\n",
    "# B1 : 0 -4 \n",
    "# B2 : 5- 8   \n",
    "# B3 : 9 - 12  \n",
    "# B4 : 13 - 16  \n",
    "# B5 : 17 - 20  \n",
    "# B6 : 21 - 24\n",
    "\n",
    "parking_nonull=parking_nonull.selectExpr(\"*\",\"CASE WHEN hour(ViolationTime_Rd) >= 21 THEN  'B6' WHEN hour(ViolationTime_Rd) >= 17 and hour(ViolationTime_Rd) <= 20  THEN  'B5' WHEN hour(ViolationTime_Rd) >= 13 and hour(ViolationTime_Rd) <= 16  THEN  'B4' WHEN hour(ViolationTime_Rd) >= 9 and hour(ViolationTime_Rd) <= 12  THEN  'B3' WHEN hour(ViolationTime_Rd) >= 5 and hour(ViolationTime_Rd) <= 8  THEN  'B2' ELSE 'B1' END AS Hour_Frequency\")"
   ]
  },
  {
   "cell_type": "code",
   "execution_count": 43,
   "metadata": {},
   "outputs": [
    {
     "name": "stdout",
     "output_type": "stream",
     "text": [
      "+--------------+--------+------------------+-------------------+--------------+-----------------+------------+------------------+---------------+--------------+----------+----------------+--------------+\n",
      "|Summons Number|Plate ID|Registration State|         Issue Date|Violation Code|Vehicle Body Type|Vehicle Make|Violation Precinct|Issuer Precinct|Violation Time|      Date|ViolationTime_Rd|Hour_Frequency|\n",
      "+--------------+--------+------------------+-------------------+--------------+-----------------+------------+------------------+---------------+--------------+----------+----------------+--------------+\n",
      "|    8478629828| 66623ME|                NY|2017-06-14 00:00:00|            47|             REFG|       MITSU|                14|             14|        1120AM|2017-06-14|        11:20:00|            B3|\n",
      "|    5096917368| FZD8593|                NY|2017-06-13 00:00:00|             7|             SUBN|       ME/BE|                 0|              0|        0852PM|2017-06-13|        20:52:00|            B5|\n",
      "|    1407740258| 2513JMG|                NY|2017-01-11 00:00:00|            78|             DELV|       FRUEH|               106|            106|        1215AM|2017-01-11|        00:15:00|            B1|\n",
      "+--------------+--------+------------------+-------------------+--------------+-----------------+------------+------------------+---------------+--------------+----------+----------------+--------------+\n",
      "only showing top 3 rows\n",
      "\n"
     ]
    }
   ],
   "source": [
    "parking_nonull.show(3)"
   ]
  },
  {
   "cell_type": "code",
   "execution_count": 44,
   "metadata": {},
   "outputs": [
    {
     "name": "stdout",
     "output_type": "stream",
     "text": [
      "+--------------+-------+\n",
      "|Hour_Frequency|  count|\n",
      "+--------------+-------+\n",
      "|            B3|2169845|\n",
      "|            B4|1625806|\n",
      "|            B2| 939173|\n",
      "|            B5| 390776|\n",
      "|            B1| 179184|\n",
      "|            B6| 127134|\n",
      "+--------------+-------+\n",
      "\n"
     ]
    }
   ],
   "source": [
    "# Finding the top 24 hour bucket with the ticket count\n",
    "parking_nonull.groupby('Hour_Frequency').count().sort(desc(\"count\")).show()\n",
    "\n",
    "# most of the faults occur during 9 AM to 4 PM ."
   ]
  },
  {
   "cell_type": "code",
   "execution_count": 45,
   "metadata": {},
   "outputs": [
    {
     "name": "stdout",
     "output_type": "stream",
     "text": [
      "+--------------+--------------+--------+----+\n",
      "|Hour_Frequency|Violation Code|countval|rank|\n",
      "+--------------+--------------+--------+----+\n",
      "|            B4|            38|  234449|   1|\n",
      "|            B4|            36|  193003|   2|\n",
      "|            B4|            37|  166793|   3|\n",
      "|            B6|             7|   18382|   1|\n",
      "|            B6|            40|   17545|   2|\n",
      "|            B6|            14|   15643|   3|\n",
      "|            B2|            21|  247422|   1|\n",
      "|            B2|            14|  109762|   2|\n",
      "|            B2|            36|   75948|   3|\n",
      "|            B1|            21|   38283|   1|\n",
      "|            B1|            40|   28908|   2|\n",
      "|            B1|            78|   16777|   3|\n",
      "|            B3|            21|  479606|   1|\n",
      "|            B3|            36|  388990|   2|\n",
      "|            B3|            38|  206769|   3|\n",
      "|            B5|            38|   61211|   1|\n",
      "|            B5|             7|   45290|   2|\n",
      "|            B5|            14|   40214|   3|\n",
      "+--------------+--------------+--------+----+\n",
      "\n"
     ]
    }
   ],
   "source": [
    "#  For each of 24 hr bucket/ groups, find the three most commonly occurring violations.\n",
    "parking_nonull.createOrReplaceTempView(\"parkingTable2\")\n",
    "df2=spark.sql('SELECT `Hour_Frequency`,`Violation Code`, count(`Violation Code`) as countval FROM parkingTable2 group by `Hour_Frequency`,`Violation Code` order by count(`Violation Code`) desc')\n",
    "window2 = Window.partitionBy(df2['Hour_Frequency']).orderBy(df2['countval'].desc())\n",
    "df2.select('*', rank().over(window2).alias('rank')).filter(col('rank') <= 3).show()\n",
    "\n",
    "# There are quite a few common violation codes across the buckets. \n",
    "# 38, 36, 21, 14 seem frequent "
   ]
  },
  {
   "cell_type": "code",
   "execution_count": 46,
   "metadata": {},
   "outputs": [
    {
     "name": "stdout",
     "output_type": "stream",
     "text": [
      "+--------------+------+\n",
      "|Violation Code| count|\n",
      "+--------------+------+\n",
      "|            21|768087|\n",
      "|            36|662765|\n",
      "|            38|542079|\n",
      "|            14|476664|\n",
      "|            20|319646|\n",
      "+--------------+------+\n",
      "only showing top 5 rows\n",
      "\n"
     ]
    }
   ],
   "source": [
    "# Get the top 3 occuring violation codes.\n",
    "parking_nonull.groupby('Violation Code').count().sort(desc(\"count\")).show(5)"
   ]
  },
  {
   "cell_type": "code",
   "execution_count": 47,
   "metadata": {},
   "outputs": [
    {
     "name": "stdout",
     "output_type": "stream",
     "text": [
      "+--------------+-------+\n",
      "|Hour_frequency|  count|\n",
      "+--------------+-------+\n",
      "|            B3|1075365|\n",
      "|            B4| 429891|\n",
      "|            B2| 350345|\n",
      "+--------------+-------+\n",
      "only showing top 3 rows\n",
      "\n"
     ]
    }
   ],
   "source": [
    "# For the three most commonly occurring violation codes, find the most common time of the day \n",
    "Top_Violation_Hour = parking_nonull.where((col(\"Violation Code\") == '21') | (col(\"Violation Code\") == '36') | (col(\"Violation Code\") =='38')).groupby('Hour_frequency').count().sort(desc(\"count\")).show(3)\n",
    "\n",
    "## B3 , B4, B2  are the top hours . this is 5 AM to 4 PM .Most vioaltions during B3 ( 13 to 16 hrs )"
   ]
  },
  {
   "cell_type": "code",
   "execution_count": 48,
   "metadata": {},
   "outputs": [
    {
     "name": "stdout",
     "output_type": "stream",
     "text": [
      "+--------------+--------+------------------+-------------------+--------------+-----------------+------------+------------------+---------------+--------------+----------+----------------+--------------+\n",
      "|Summons Number|Plate ID|Registration State|         Issue Date|Violation Code|Vehicle Body Type|Vehicle Make|Violation Precinct|Issuer Precinct|Violation Time|      Date|ViolationTime_Rd|Hour_Frequency|\n",
      "+--------------+--------+------------------+-------------------+--------------+-----------------+------------+------------------+---------------+--------------+----------+----------------+--------------+\n",
      "|    8478629828| 66623ME|                NY|2017-06-14 00:00:00|            47|             REFG|       MITSU|                14|             14|        1120AM|2017-06-14|        11:20:00|            B3|\n",
      "|    5096917368| FZD8593|                NY|2017-06-13 00:00:00|             7|             SUBN|       ME/BE|                 0|              0|        0852PM|2017-06-13|        20:52:00|            B5|\n",
      "|    1407740258| 2513JMG|                NY|2017-01-11 00:00:00|            78|             DELV|       FRUEH|               106|            106|        1215AM|2017-01-11|        00:15:00|            B1|\n",
      "+--------------+--------+------------------+-------------------+--------------+-----------------+------------+------------------+---------------+--------------+----------+----------------+--------------+\n",
      "only showing top 3 rows\n",
      "\n"
     ]
    }
   ],
   "source": [
    "# Q6. Try and find some seasonality in this data\n",
    "\n",
    "# First, divide the year into a certain number of seasons, and find the frequencies of tickets for each season\n",
    "# S1 : Jan - Mar \n",
    "# S2 : Apr - Jun  \n",
    "# S3 : Jul-Sep \n",
    "# S4 : Oct - Dec\n",
    "parking_nonull.show(3)"
   ]
  },
  {
   "cell_type": "code",
   "execution_count": 49,
   "metadata": {},
   "outputs": [],
   "source": [
    "# Define seasons and caegorise tickets into one of the 4 buckets.\n",
    "parking_nonull=parking_nonull.selectExpr(\"*\",\"CASE WHEN month(Date) >= 10 THEN  'S4' WHEN month(Date) >= 7 and month(Date) <= 9  THEN  'S3' WHEN month(Date) >= 4 and month(Date) <= 6  THEN  'S2' ELSE 'S1' END AS Month_Issue\")"
   ]
  },
  {
   "cell_type": "code",
   "execution_count": 50,
   "metadata": {},
   "outputs": [
    {
     "name": "stdout",
     "output_type": "stream",
     "text": [
      "+-----------+--------------+--------+----+\n",
      "|Month_Issue|Violation Code|countval|rank|\n",
      "+-----------+--------------+--------+----+\n",
      "|         S4|            46|     219|   1|\n",
      "|         S4|            40|     121|   2|\n",
      "|         S4|            21|     100|   3|\n",
      "|         S3|            21|     228|   1|\n",
      "|         S3|            46|     219|   2|\n",
      "|         S3|            40|     109|   3|\n",
      "|         S2|            21|  393885|   1|\n",
      "|         S2|            36|  314525|   2|\n",
      "|         S2|            38|  255064|   3|\n",
      "|         S1|            21|  373874|   1|\n",
      "|         S1|            36|  348240|   2|\n",
      "|         S1|            38|  287000|   3|\n",
      "+-----------+--------------+--------+----+\n",
      "\n"
     ]
    }
   ],
   "source": [
    "# Find the three most common violations for each of these seasons.\n",
    "parking_nonull.createOrReplaceTempView(\"parkingTable3\")\n",
    "df3=spark.sql('SELECT `Month_Issue`,`Violation Code`, count(`Violation Code`) as countval FROM parkingTable3 group by `Month_Issue`,`Violation Code` order by count(`Violation Code`) desc')\n",
    "window3 = Window.partitionBy(df3['Month_Issue']).orderBy(df3['countval'].desc())\n",
    "df3.select('*', rank().over(window3).alias('rank')).filter(col('rank') <= 3).show()\n",
    "\n",
    "# 21 is commonly occuring violation in all seasons. "
   ]
  },
  {
   "cell_type": "code",
   "execution_count": 51,
   "metadata": {},
   "outputs": [],
   "source": [
    "# Q7. Earnings calculation \n",
    "# Find the total occurrences of the three most common violation codes.\n",
    "# 21, 36, 38 - Top violation code..\n",
    "Violation_Count=parking_nonull.where((col(\"Violation Code\") == '21') | (col(\"Violation Code\") == '36') | (col(\"Violation Code\") =='38')).groupby('Violation Code').count().sort(desc(\"count\"))"
   ]
  },
  {
   "cell_type": "code",
   "execution_count": 52,
   "metadata": {},
   "outputs": [
    {
     "name": "stdout",
     "output_type": "stream",
     "text": [
      "+--------------+------+\n",
      "|Violation Code| count|\n",
      "+--------------+------+\n",
      "|            21|768087|\n",
      "|            36|662765|\n",
      "|            38|542079|\n",
      "+--------------+------+\n",
      "\n"
     ]
    }
   ],
   "source": [
    "Violation_Count.show()"
   ]
  },
  {
   "cell_type": "code",
   "execution_count": 53,
   "metadata": {},
   "outputs": [],
   "source": [
    "# Charges for the violation code from the site. \n",
    "# violation code 21 - 51$\n",
    "# violation code 36 - 50$\n",
    "# violation code 38 - 50$\n",
    "# Calculate earnings for the top 3 violation codes.\n",
    "earnings=Violation_Count.selectExpr(\"*\",\"CASE WHEN (`Violation Code` == 21) THEN  count*51 WHEN (`Violation Code` == 36) THEN count*50 WHEN (`Violation Code` == 38) THEN count*50 ELSE 0 END AS Earnings\")"
   ]
  },
  {
   "cell_type": "code",
   "execution_count": 54,
   "metadata": {},
   "outputs": [
    {
     "name": "stdout",
     "output_type": "stream",
     "text": [
      "+--------------+------+--------+\n",
      "|Violation Code| count|Earnings|\n",
      "+--------------+------+--------+\n",
      "|            21|768087|39172437|\n",
      "|            36|662765|33138250|\n",
      "|            38|542079|27103950|\n",
      "+--------------+------+--------+\n",
      "\n"
     ]
    }
   ],
   "source": [
    "earnings.show()\n",
    "## Violation code 21 has the highest earnings. "
   ]
  },
  {
   "cell_type": "markdown",
   "metadata": {},
   "source": [
    "### Observations:\n",
    "\n",
    "1. Violation Code 21 is prominent across all seasons and is the top earning for the NYC traffic control.<br>\n",
    "2. More tickets are issued during the first 6 months of the year than the latter 6 months.<br>\n",
    "3. More tickets are issued during the business hours/peak hours from 9 AM to 4 PM.<br>\n",
    "4. NY state has more tickets issued than any other.<br>\n",
    "5. Precinct 19 is where more tickets are issued by the issuer from the same precinct. \n"
   ]
  }
 ],
 "metadata": {
  "kernelspec": {
   "display_name": "PySpark",
   "language": "python",
   "name": "pyspark"
  },
  "language_info": {
   "codemirror_mode": {
    "name": "ipython",
    "version": 3
   },
   "file_extension": ".py",
   "mimetype": "text/x-python",
   "name": "python",
   "nbconvert_exporter": "python",
   "pygments_lexer": "ipython3",
   "version": "3.6.5"
  }
 },
 "nbformat": 4,
 "nbformat_minor": 2
}
